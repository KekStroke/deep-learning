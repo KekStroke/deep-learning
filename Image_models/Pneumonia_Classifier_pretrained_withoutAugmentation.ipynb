{
 "cells": [
  {
   "cell_type": "code",
   "execution_count": 1,
   "metadata": {},
   "outputs": [],
   "source": [
    "import numpy as np\n",
    "import matplotlib.pyplot as plt\n",
    "\n",
    "import torch\n",
    "import torch.nn as nn\n",
    "from torch.utils.data import DataLoader, TensorDataset\n",
    "\n",
    "import torchvision\n",
    "import torchvision.transforms as transforms\n",
    "\n",
    "from datetime import datetime"
   ]
  },
  {
   "cell_type": "code",
   "execution_count": 2,
   "metadata": {},
   "outputs": [],
   "source": [
    "lr=1e-5\n",
    "batch_size = 64\n",
    "n_epochs = 10"
   ]
  },
  {
   "cell_type": "code",
   "execution_count": 3,
   "metadata": {},
   "outputs": [],
   "source": [
    "data_transforms = transforms.Compose([\n",
    "    transforms.Resize((224, 224)),\n",
    "    transforms.ToTensor(),   \n",
    "    transforms.Normalize([0.485, 0.456, 0.406], [0.229, 0.224, 0.225])\n",
    "])"
   ]
  },
  {
   "cell_type": "code",
   "execution_count": 4,
   "metadata": {},
   "outputs": [],
   "source": [
    "train_dataset = torchvision.datasets.ImageFolder(\n",
    "    root='../data/chest_xray/chest_xray/train/',\n",
    "    transform=data_transforms\n",
    ")\n",
    "\n",
    "test_dataset = torchvision.datasets.ImageFolder(\n",
    "    root='../data/chest_xray/chest_xray/test/',\n",
    "    transform=data_transforms\n",
    ")"
   ]
  },
  {
   "cell_type": "code",
   "execution_count": 5,
   "metadata": {},
   "outputs": [
    {
     "name": "stdout",
     "output_type": "stream",
     "text": [
      "Device: CUDA:0 is used\n"
     ]
    }
   ],
   "source": [
    "device = 'cuda:0' if torch.cuda.is_available() else 'cpu'\n",
    "print(f'Device: {device.upper()} is used')"
   ]
  },
  {
   "cell_type": "code",
   "execution_count": 6,
   "metadata": {},
   "outputs": [],
   "source": [
    "train_dataloader = DataLoader(\n",
    "    dataset=train_dataset,\n",
    "    batch_size=batch_size,\n",
    "    shuffle=True,\n",
    ")\n",
    "\n",
    "test_dataloader = DataLoader(\n",
    "    dataset=test_dataset,\n",
    "    batch_size=batch_size,\n",
    ")"
   ]
  },
  {
   "cell_type": "code",
   "execution_count": 7,
   "metadata": {},
   "outputs": [],
   "source": [
    "class VGG_body(nn.Module):\n",
    "    def __init__(self, vgg):\n",
    "        super(VGG_body, self).__init__()\n",
    "        self.features = vgg.features\n",
    "        self.avgpool = vgg.avgpool\n",
    "    \n",
    "    def forward(self, inputs):\n",
    "        outputs = self.features(inputs)\n",
    "        outputs = self.avgpool(outputs)\n",
    "        outputs = outputs.view(inputs.size(0), -1)\n",
    "        \n",
    "        return outputs"
   ]
  },
  {
   "cell_type": "code",
   "execution_count": 8,
   "metadata": {},
   "outputs": [
    {
     "data": {
      "text/plain": [
       "VGG_body(\n",
       "  (features): Sequential(\n",
       "    (0): Conv2d(3, 64, kernel_size=(3, 3), stride=(1, 1), padding=(1, 1))\n",
       "    (1): ReLU(inplace=True)\n",
       "    (2): Conv2d(64, 64, kernel_size=(3, 3), stride=(1, 1), padding=(1, 1))\n",
       "    (3): ReLU(inplace=True)\n",
       "    (4): MaxPool2d(kernel_size=2, stride=2, padding=0, dilation=1, ceil_mode=False)\n",
       "    (5): Conv2d(64, 128, kernel_size=(3, 3), stride=(1, 1), padding=(1, 1))\n",
       "    (6): ReLU(inplace=True)\n",
       "    (7): Conv2d(128, 128, kernel_size=(3, 3), stride=(1, 1), padding=(1, 1))\n",
       "    (8): ReLU(inplace=True)\n",
       "    (9): MaxPool2d(kernel_size=2, stride=2, padding=0, dilation=1, ceil_mode=False)\n",
       "    (10): Conv2d(128, 256, kernel_size=(3, 3), stride=(1, 1), padding=(1, 1))\n",
       "    (11): ReLU(inplace=True)\n",
       "    (12): Conv2d(256, 256, kernel_size=(3, 3), stride=(1, 1), padding=(1, 1))\n",
       "    (13): ReLU(inplace=True)\n",
       "    (14): Conv2d(256, 256, kernel_size=(3, 3), stride=(1, 1), padding=(1, 1))\n",
       "    (15): ReLU(inplace=True)\n",
       "    (16): MaxPool2d(kernel_size=2, stride=2, padding=0, dilation=1, ceil_mode=False)\n",
       "    (17): Conv2d(256, 512, kernel_size=(3, 3), stride=(1, 1), padding=(1, 1))\n",
       "    (18): ReLU(inplace=True)\n",
       "    (19): Conv2d(512, 512, kernel_size=(3, 3), stride=(1, 1), padding=(1, 1))\n",
       "    (20): ReLU(inplace=True)\n",
       "    (21): Conv2d(512, 512, kernel_size=(3, 3), stride=(1, 1), padding=(1, 1))\n",
       "    (22): ReLU(inplace=True)\n",
       "    (23): MaxPool2d(kernel_size=2, stride=2, padding=0, dilation=1, ceil_mode=False)\n",
       "    (24): Conv2d(512, 512, kernel_size=(3, 3), stride=(1, 1), padding=(1, 1))\n",
       "    (25): ReLU(inplace=True)\n",
       "    (26): Conv2d(512, 512, kernel_size=(3, 3), stride=(1, 1), padding=(1, 1))\n",
       "    (27): ReLU(inplace=True)\n",
       "    (28): Conv2d(512, 512, kernel_size=(3, 3), stride=(1, 1), padding=(1, 1))\n",
       "    (29): ReLU(inplace=True)\n",
       "    (30): MaxPool2d(kernel_size=2, stride=2, padding=0, dilation=1, ceil_mode=False)\n",
       "  )\n",
       "  (avgpool): AdaptiveAvgPool2d(output_size=(7, 7))\n",
       ")"
      ]
     },
     "execution_count": 8,
     "metadata": {},
     "output_type": "execute_result"
    }
   ],
   "source": [
    "vgg = torchvision.models.vgg16(weights=torchvision.models.VGG16_Weights.IMAGENET1K_V1)\n",
    "\n",
    "n_features = vgg.classifier[0].in_features\n",
    "\n",
    "vggFeatures = VGG_body(vgg)\n",
    "\n",
    "vggFeatures.to(device)"
   ]
  },
  {
   "cell_type": "code",
   "execution_count": 9,
   "metadata": {},
   "outputs": [
    {
     "data": {
      "text/plain": [
       "(5216, 624)"
      ]
     },
     "execution_count": 9,
     "metadata": {},
     "output_type": "execute_result"
    }
   ],
   "source": [
    "n_train = len(train_dataset)\n",
    "n_test = len(test_dataset)\n",
    "n_train, n_test"
   ]
  },
  {
   "cell_type": "code",
   "execution_count": 10,
   "metadata": {},
   "outputs": [],
   "source": [
    "train_inputs_precalculated = np.zeros((n_train, n_features))\n",
    "test_inputs_precalculated = np.zeros((n_test, n_features))\n",
    "train_targets = np.zeros((n_train, 1))\n",
    "test_targets = np.zeros((n_test, 1))"
   ]
  },
  {
   "cell_type": "code",
   "execution_count": 11,
   "metadata": {},
   "outputs": [
    {
     "name": "stdout",
     "output_type": "stream",
     "text": [
      "Precalculated 64/5216 train samples\n",
      "Precalculated 128/5216 train samples\n",
      "Precalculated 192/5216 train samples\n",
      "Precalculated 256/5216 train samples\n",
      "Precalculated 320/5216 train samples\n",
      "Precalculated 384/5216 train samples\n",
      "Precalculated 448/5216 train samples\n",
      "Precalculated 512/5216 train samples\n",
      "Precalculated 576/5216 train samples\n",
      "Precalculated 640/5216 train samples\n",
      "Precalculated 704/5216 train samples\n",
      "Precalculated 768/5216 train samples\n",
      "Precalculated 832/5216 train samples\n",
      "Precalculated 896/5216 train samples\n",
      "Precalculated 960/5216 train samples\n",
      "Precalculated 1024/5216 train samples\n",
      "Precalculated 1088/5216 train samples\n",
      "Precalculated 1152/5216 train samples\n",
      "Precalculated 1216/5216 train samples\n",
      "Precalculated 1280/5216 train samples\n",
      "Precalculated 1344/5216 train samples\n",
      "Precalculated 1408/5216 train samples\n",
      "Precalculated 1472/5216 train samples\n",
      "Precalculated 1536/5216 train samples\n",
      "Precalculated 1600/5216 train samples\n",
      "Precalculated 1664/5216 train samples\n",
      "Precalculated 1728/5216 train samples\n",
      "Precalculated 1792/5216 train samples\n",
      "Precalculated 1856/5216 train samples\n",
      "Precalculated 1920/5216 train samples\n",
      "Precalculated 1984/5216 train samples\n",
      "Precalculated 2048/5216 train samples\n",
      "Precalculated 2112/5216 train samples\n",
      "Precalculated 2176/5216 train samples\n",
      "Precalculated 2240/5216 train samples\n",
      "Precalculated 2304/5216 train samples\n",
      "Precalculated 2368/5216 train samples\n",
      "Precalculated 2432/5216 train samples\n",
      "Precalculated 2496/5216 train samples\n",
      "Precalculated 2560/5216 train samples\n",
      "Precalculated 2624/5216 train samples\n",
      "Precalculated 2688/5216 train samples\n",
      "Precalculated 2752/5216 train samples\n",
      "Precalculated 2816/5216 train samples\n",
      "Precalculated 2880/5216 train samples\n",
      "Precalculated 2944/5216 train samples\n",
      "Precalculated 3008/5216 train samples\n",
      "Precalculated 3072/5216 train samples\n",
      "Precalculated 3136/5216 train samples\n",
      "Precalculated 3200/5216 train samples\n",
      "Precalculated 3264/5216 train samples\n",
      "Precalculated 3328/5216 train samples\n",
      "Precalculated 3392/5216 train samples\n",
      "Precalculated 3456/5216 train samples\n",
      "Precalculated 3520/5216 train samples\n",
      "Precalculated 3584/5216 train samples\n",
      "Precalculated 3648/5216 train samples\n",
      "Precalculated 3712/5216 train samples\n",
      "Precalculated 3776/5216 train samples\n",
      "Precalculated 3840/5216 train samples\n",
      "Precalculated 3904/5216 train samples\n",
      "Precalculated 3968/5216 train samples\n",
      "Precalculated 4032/5216 train samples\n",
      "Precalculated 4096/5216 train samples\n",
      "Precalculated 4160/5216 train samples\n",
      "Precalculated 4224/5216 train samples\n",
      "Precalculated 4288/5216 train samples\n",
      "Precalculated 4352/5216 train samples\n",
      "Precalculated 4416/5216 train samples\n",
      "Precalculated 4480/5216 train samples\n",
      "Precalculated 4544/5216 train samples\n",
      "Precalculated 4608/5216 train samples\n",
      "Precalculated 4672/5216 train samples\n",
      "Precalculated 4736/5216 train samples\n",
      "Precalculated 4800/5216 train samples\n",
      "Precalculated 4864/5216 train samples\n",
      "Precalculated 4928/5216 train samples\n",
      "Precalculated 4992/5216 train samples\n",
      "Precalculated 5056/5216 train samples\n",
      "Precalculated 5120/5216 train samples\n",
      "Precalculated 5184/5216 train samples\n",
      "Precalculated 5216/5216 train samples\n",
      "Train dataset precalculated\n"
     ]
    }
   ],
   "source": [
    "with torch.no_grad():\n",
    "\n",
    "    i = 0\n",
    "    for inputs, targets in train_dataloader:\n",
    "        inputs = inputs.to(device)\n",
    "        outputs = vggFeatures(inputs)\n",
    "\n",
    "        size = len(outputs)\n",
    "\n",
    "        train_inputs_precalculated[i : i + size] = outputs.cpu().numpy()\n",
    "        train_targets[i : i + size] = targets.view(-1, 1).numpy()\n",
    "\n",
    "        i += size\n",
    "        \n",
    "        print(f'Precalculated {i}/{n_train} train samples')\n",
    "        \n",
    "    print('Train dataset precalculated')"
   ]
  },
  {
   "cell_type": "code",
   "execution_count": 12,
   "metadata": {},
   "outputs": [
    {
     "name": "stdout",
     "output_type": "stream",
     "text": [
      "Precalculated 64/624 test samples\n",
      "Precalculated 128/624 test samples\n",
      "Precalculated 192/624 test samples\n",
      "Precalculated 256/624 test samples\n",
      "Precalculated 320/624 test samples\n",
      "Precalculated 384/624 test samples\n",
      "Precalculated 448/624 test samples\n",
      "Precalculated 512/624 test samples\n",
      "Precalculated 576/624 test samples\n",
      "Precalculated 624/624 test samples\n",
      "Test dataset precalculated\n"
     ]
    }
   ],
   "source": [
    "with torch.no_grad():\n",
    "    i = 0\n",
    "    for inputs, targets in test_dataloader:\n",
    "        inputs = inputs.to(device)\n",
    "        outputs = vggFeatures(inputs)\n",
    "\n",
    "        size = len(outputs)\n",
    "\n",
    "        test_inputs_precalculated[i : i + size] = outputs.cpu().numpy()\n",
    "        test_targets[i : i + size] = targets.view(-1, 1).numpy()\n",
    "        \n",
    "        i += size\n",
    "        \n",
    "        print(f'Precalculated {i}/{n_test} test samples')\n",
    "        \n",
    "    print('Test dataset precalculated')\n"
   ]
  },
  {
   "cell_type": "code",
   "execution_count": 20,
   "metadata": {},
   "outputs": [
    {
     "ename": "AttributeError",
     "evalue": "'Tensor' object has no attribute 'astype'",
     "output_type": "error",
     "traceback": [
      "\u001b[1;31m---------------------------------------------------------------------------\u001b[0m",
      "\u001b[1;31mAttributeError\u001b[0m                            Traceback (most recent call last)",
      "\u001b[1;32me:\\Python_projects\\deep-learning\\Image_models\\Pneumonia_Classifier_pretrained_withoutAugmentation.ipynb Cell 13'\u001b[0m in \u001b[0;36m<cell line: 1>\u001b[1;34m()\u001b[0m\n\u001b[1;32m----> <a href='vscode-notebook-cell:/e%3A/Python_projects/deep-learning/Image_models/Pneumonia_Classifier_pretrained_withoutAugmentation.ipynb#ch0000023?line=0'>1</a>\u001b[0m train_inputs_precalculated \u001b[39m=\u001b[39m torch\u001b[39m.\u001b[39mfrom_numpy(train_inputs_precalculated\u001b[39m.\u001b[39;49mastype(np\u001b[39m.\u001b[39mfloat32))\n\u001b[0;32m      <a href='vscode-notebook-cell:/e%3A/Python_projects/deep-learning/Image_models/Pneumonia_Classifier_pretrained_withoutAugmentation.ipynb#ch0000023?line=1'>2</a>\u001b[0m test_inputs_precalculated \u001b[39m=\u001b[39m torch\u001b[39m.\u001b[39mfrom_numpy(test_inputs_precalculated\u001b[39m.\u001b[39mastype(np\u001b[39m.\u001b[39mfloat32))\n\u001b[0;32m      <a href='vscode-notebook-cell:/e%3A/Python_projects/deep-learning/Image_models/Pneumonia_Classifier_pretrained_withoutAugmentation.ipynb#ch0000023?line=2'>3</a>\u001b[0m train_targets \u001b[39m=\u001b[39m torch\u001b[39m.\u001b[39mfrom_numpy(train_targets\u001b[39m.\u001b[39mastype(np\u001b[39m.\u001b[39mfloat32))\n",
      "\u001b[1;31mAttributeError\u001b[0m: 'Tensor' object has no attribute 'astype'"
     ]
    }
   ],
   "source": [
    "train_inputs_precalculated = torch.from_numpy(train_inputs_precalculated)\n",
    "test_inputs_precalculated = torch.from_numpy(test_inputs_precalculated)\n",
    "train_targets = torch.from_numpy(train_targets)\n",
    "test_targets = torch.from_numpy(test_targets)"
   ]
  },
  {
   "cell_type": "code",
   "execution_count": null,
   "metadata": {},
   "outputs": [],
   "source": [
    "train_dataset = TensorDataset(train_inputs_precalculated, train_targets)\n",
    "test_dataset = TensorDataset(test_inputs_precalculated, test_targets)"
   ]
  },
  {
   "cell_type": "code",
   "execution_count": 28,
   "metadata": {},
   "outputs": [],
   "source": [
    "train_dataloader = DataLoader(\n",
    "    train_dataset,\n",
    "    batch_size=batch_size,\n",
    "    shuffle=True,\n",
    ")\n",
    "\n",
    "test_dataloader = DataLoader(\n",
    "    test_dataset,\n",
    "    batch_size=batch_size,\n",
    ")"
   ]
  },
  {
   "cell_type": "code",
   "execution_count": 42,
   "metadata": {},
   "outputs": [
    {
     "data": {
      "text/plain": [
       "Sequential(\n",
       "  (0): Linear(in_features=25088, out_features=128, bias=True)\n",
       "  (1): Linear(in_features=128, out_features=1, bias=True)\n",
       "  (2): Sigmoid()\n",
       ")"
      ]
     },
     "execution_count": 42,
     "metadata": {},
     "output_type": "execute_result"
    }
   ],
   "source": [
    "model = nn.Sequential(\n",
    "    nn.Linear(n_features, 128),\n",
    "    nn.Linear(128, 1),\n",
    "    nn.Sigmoid(),\n",
    ")\n",
    "model.to(device)"
   ]
  },
  {
   "cell_type": "code",
   "execution_count": 43,
   "metadata": {},
   "outputs": [],
   "source": [
    "criterion = nn.BCELoss()\n",
    "optimizer = torch.optim.Adam(model.parameters(), lr=1e-7)"
   ]
  },
  {
   "cell_type": "code",
   "execution_count": 44,
   "metadata": {},
   "outputs": [],
   "source": [
    "def validate(dataset, batch_size=128):\n",
    "    dataloader = DataLoader(\n",
    "        dataset=dataset,\n",
    "        batch_size=batch_size,\n",
    "    )\n",
    "\n",
    "    tot_predicted = 0\n",
    "    tot_correct = 0\n",
    "\n",
    "    for inputs, targets in dataloader:\n",
    "        inputs, targets = inputs.to(device), targets.to(device).view(-1, 1)\n",
    "\n",
    "        inputs = inputs.to(torch.float)\n",
    "        targets = targets.to(torch.float)\n",
    "        \n",
    "        tot_predicted += inputs.shape[0]\n",
    "        outputs = model(inputs)\n",
    "\n",
    "        predictions = torch.round(outputs)\n",
    "\n",
    "        tot_correct += (predictions == targets).sum()\n",
    "\n",
    "    return (tot_correct/tot_predicted)"
   ]
  },
  {
   "cell_type": "code",
   "execution_count": 45,
   "metadata": {},
   "outputs": [],
   "source": [
    "def train(n_epochs=100):\n",
    "    \n",
    "    train_losses = np.zeros(n_epochs)\n",
    "    test_losses = np.zeros(n_epochs)\n",
    "    train_accuracies = np.zeros(n_epochs)\n",
    "    test_accuracies = np.zeros(n_epochs)\n",
    "\n",
    "    for it in range(n_epochs):\n",
    "        \n",
    "        start_time = datetime.now()\n",
    "\n",
    "        train_loss = []\n",
    "        test_loss = []\n",
    "\n",
    "        for i, (inputs, targets) in enumerate(train_dataloader):\n",
    "            inputs, targets = inputs.to(device), targets.to(device).view(-1, 1)\n",
    "            optimizer.zero_grad()\n",
    "            \n",
    "            inputs = inputs.to(torch.float)\n",
    "            targets = targets.to(torch.float)\n",
    "\n",
    "            outputs = model(inputs)\n",
    "            \n",
    "            loss = criterion(outputs, targets.to(torch.float32))\n",
    "            loss.backward()\n",
    "            optimizer.step()\n",
    "\n",
    "            train_loss.append(loss.item())\n",
    "\n",
    "        train_losses[it] = np.mean(train_loss)\n",
    "\n",
    "        for i, (inputs, targets) in enumerate(test_dataloader):\n",
    "            inputs, targets = inputs.to(device), targets.to(device).view(-1, 1)\n",
    "            \n",
    "            inputs = inputs.to(torch.float)\n",
    "            targets = targets.to(torch.float)\n",
    "\n",
    "            outputs = model(inputs)\n",
    "            loss = criterion(outputs, targets.to(torch.float32))\n",
    "            test_loss.append(loss.item())\n",
    "\n",
    "        test_losses[it] = np.mean(test_loss)\n",
    "\n",
    "        train_accuracies[it] = validate(train_dataset, batch_size=batch_size)\n",
    "        test_accuracies[it] = validate(test_dataset, batch_size=batch_size)\n",
    "\n",
    "        duration = datetime.now()-start_time\n",
    "        \n",
    "        print(\n",
    "            f\"Iteration: {it+1:2}/{n_epochs}\\tTrain Loss: {train_losses[it]:.6f}\\tTest Loss: {test_losses[it]:.6f}\\tTrain Accuracy: {train_accuracies[it]:.2f}\\tTest Accuracy: {test_accuracies[it]:.2f}\\tDuration: {duration}\"\n",
    "        )\n",
    "\n",
    "    return train_losses, test_losses, train_accuracies, test_accuracies\n"
   ]
  },
  {
   "cell_type": "code",
   "execution_count": 46,
   "metadata": {},
   "outputs": [
    {
     "name": "stdout",
     "output_type": "stream",
     "text": [
      "Iteration:  1/100\tTrain Loss: 0.702212\tTest Loss: 0.673906\tTrain Accuracy: 0.60\tTest Accuracy: 0.58\tDuration: 0:00:02.026386\n",
      "Iteration:  2/100\tTrain Loss: 0.653492\tTest Loss: 0.653354\tTrain Accuracy: 0.73\tTest Accuracy: 0.62\tDuration: 0:00:02.081060\n",
      "Iteration:  3/100\tTrain Loss: 0.615965\tTest Loss: 0.638925\tTrain Accuracy: 0.75\tTest Accuracy: 0.63\tDuration: 0:00:01.892352\n",
      "Iteration:  4/100\tTrain Loss: 0.586497\tTest Loss: 0.627628\tTrain Accuracy: 0.75\tTest Accuracy: 0.63\tDuration: 0:00:01.727143\n",
      "Iteration:  5/100\tTrain Loss: 0.561226\tTest Loss: 0.617875\tTrain Accuracy: 0.75\tTest Accuracy: 0.63\tDuration: 0:00:01.717999\n",
      "Iteration:  6/100\tTrain Loss: 0.539332\tTest Loss: 0.608536\tTrain Accuracy: 0.76\tTest Accuracy: 0.63\tDuration: 0:00:01.750477\n",
      "Iteration:  7/100\tTrain Loss: 0.518152\tTest Loss: 0.599642\tTrain Accuracy: 0.76\tTest Accuracy: 0.63\tDuration: 0:00:01.747812\n",
      "Iteration:  8/100\tTrain Loss: 0.499413\tTest Loss: 0.591112\tTrain Accuracy: 0.77\tTest Accuracy: 0.64\tDuration: 0:00:01.795152\n",
      "Iteration:  9/100\tTrain Loss: 0.482103\tTest Loss: 0.583224\tTrain Accuracy: 0.78\tTest Accuracy: 0.64\tDuration: 0:00:01.699935\n",
      "Iteration: 10/100\tTrain Loss: 0.465579\tTest Loss: 0.574934\tTrain Accuracy: 0.80\tTest Accuracy: 0.64\tDuration: 0:00:01.740353\n",
      "Iteration: 11/100\tTrain Loss: 0.449800\tTest Loss: 0.567630\tTrain Accuracy: 0.81\tTest Accuracy: 0.64\tDuration: 0:00:01.731906\n",
      "Iteration: 12/100\tTrain Loss: 0.435322\tTest Loss: 0.560104\tTrain Accuracy: 0.83\tTest Accuracy: 0.65\tDuration: 0:00:01.736483\n",
      "Iteration: 13/100\tTrain Loss: 0.421018\tTest Loss: 0.553244\tTrain Accuracy: 0.84\tTest Accuracy: 0.65\tDuration: 0:00:01.734522\n",
      "Iteration: 14/100\tTrain Loss: 0.408503\tTest Loss: 0.547009\tTrain Accuracy: 0.85\tTest Accuracy: 0.66\tDuration: 0:00:01.848976\n",
      "Iteration: 15/100\tTrain Loss: 0.396182\tTest Loss: 0.540417\tTrain Accuracy: 0.87\tTest Accuracy: 0.67\tDuration: 0:00:01.688862\n",
      "Iteration: 16/100\tTrain Loss: 0.384335\tTest Loss: 0.534611\tTrain Accuracy: 0.87\tTest Accuracy: 0.67\tDuration: 0:00:01.712167\n",
      "Iteration: 17/100\tTrain Loss: 0.373329\tTest Loss: 0.529326\tTrain Accuracy: 0.88\tTest Accuracy: 0.67\tDuration: 0:00:01.677308\n",
      "Iteration: 18/100\tTrain Loss: 0.362389\tTest Loss: 0.523570\tTrain Accuracy: 0.89\tTest Accuracy: 0.68\tDuration: 0:00:01.797838\n",
      "Iteration: 19/100\tTrain Loss: 0.352455\tTest Loss: 0.519105\tTrain Accuracy: 0.90\tTest Accuracy: 0.69\tDuration: 0:00:01.679452\n",
      "Iteration: 20/100\tTrain Loss: 0.342971\tTest Loss: 0.515140\tTrain Accuracy: 0.90\tTest Accuracy: 0.70\tDuration: 0:00:01.689181\n",
      "Iteration: 21/100\tTrain Loss: 0.333557\tTest Loss: 0.510107\tTrain Accuracy: 0.91\tTest Accuracy: 0.70\tDuration: 0:00:01.691779\n",
      "Iteration: 22/100\tTrain Loss: 0.325626\tTest Loss: 0.506575\tTrain Accuracy: 0.91\tTest Accuracy: 0.71\tDuration: 0:00:01.677964\n",
      "Iteration: 23/100\tTrain Loss: 0.317101\tTest Loss: 0.502867\tTrain Accuracy: 0.92\tTest Accuracy: 0.71\tDuration: 0:00:01.680537\n",
      "Iteration: 24/100\tTrain Loss: 0.309137\tTest Loss: 0.498077\tTrain Accuracy: 0.92\tTest Accuracy: 0.71\tDuration: 0:00:01.687258\n",
      "Iteration: 25/100\tTrain Loss: 0.301684\tTest Loss: 0.495973\tTrain Accuracy: 0.92\tTest Accuracy: 0.71\tDuration: 0:00:01.683212\n",
      "Iteration: 26/100\tTrain Loss: 0.294450\tTest Loss: 0.493533\tTrain Accuracy: 0.93\tTest Accuracy: 0.71\tDuration: 0:00:01.687116\n",
      "Iteration: 27/100\tTrain Loss: 0.287986\tTest Loss: 0.490351\tTrain Accuracy: 0.93\tTest Accuracy: 0.72\tDuration: 0:00:01.677484\n",
      "Iteration: 28/100\tTrain Loss: 0.281564\tTest Loss: 0.487709\tTrain Accuracy: 0.93\tTest Accuracy: 0.72\tDuration: 0:00:01.687358\n",
      "Iteration: 29/100\tTrain Loss: 0.275014\tTest Loss: 0.484865\tTrain Accuracy: 0.93\tTest Accuracy: 0.72\tDuration: 0:00:01.697937\n",
      "Iteration: 30/100\tTrain Loss: 0.269603\tTest Loss: 0.483038\tTrain Accuracy: 0.94\tTest Accuracy: 0.72\tDuration: 0:00:01.700792\n",
      "Iteration: 31/100\tTrain Loss: 0.263111\tTest Loss: 0.480684\tTrain Accuracy: 0.94\tTest Accuracy: 0.72\tDuration: 0:00:01.695424\n",
      "Iteration: 32/100\tTrain Loss: 0.257960\tTest Loss: 0.479425\tTrain Accuracy: 0.94\tTest Accuracy: 0.72\tDuration: 0:00:01.672091\n",
      "Iteration: 33/100\tTrain Loss: 0.252760\tTest Loss: 0.477424\tTrain Accuracy: 0.94\tTest Accuracy: 0.72\tDuration: 0:00:01.678337\n",
      "Iteration: 34/100\tTrain Loss: 0.247323\tTest Loss: 0.475600\tTrain Accuracy: 0.94\tTest Accuracy: 0.72\tDuration: 0:00:01.675914\n",
      "Iteration: 35/100\tTrain Loss: 0.242692\tTest Loss: 0.473640\tTrain Accuracy: 0.94\tTest Accuracy: 0.72\tDuration: 0:00:01.667757\n",
      "Iteration: 36/100\tTrain Loss: 0.238609\tTest Loss: 0.472969\tTrain Accuracy: 0.94\tTest Accuracy: 0.72\tDuration: 0:00:01.682652\n",
      "Iteration: 37/100\tTrain Loss: 0.234091\tTest Loss: 0.471148\tTrain Accuracy: 0.94\tTest Accuracy: 0.73\tDuration: 0:00:01.685759\n",
      "Iteration: 38/100\tTrain Loss: 0.230177\tTest Loss: 0.470009\tTrain Accuracy: 0.94\tTest Accuracy: 0.73\tDuration: 0:00:01.670034\n",
      "Iteration: 39/100\tTrain Loss: 0.225745\tTest Loss: 0.469414\tTrain Accuracy: 0.95\tTest Accuracy: 0.73\tDuration: 0:00:01.681209\n",
      "Iteration: 40/100\tTrain Loss: 0.222070\tTest Loss: 0.468559\tTrain Accuracy: 0.95\tTest Accuracy: 0.73\tDuration: 0:00:01.680593\n",
      "Iteration: 41/100\tTrain Loss: 0.218402\tTest Loss: 0.467413\tTrain Accuracy: 0.95\tTest Accuracy: 0.73\tDuration: 0:00:01.668641\n",
      "Iteration: 42/100\tTrain Loss: 0.214699\tTest Loss: 0.465651\tTrain Accuracy: 0.95\tTest Accuracy: 0.73\tDuration: 0:00:01.675434\n",
      "Iteration: 43/100\tTrain Loss: 0.211214\tTest Loss: 0.464869\tTrain Accuracy: 0.95\tTest Accuracy: 0.74\tDuration: 0:00:01.681451\n",
      "Iteration: 44/100\tTrain Loss: 0.207441\tTest Loss: 0.463888\tTrain Accuracy: 0.95\tTest Accuracy: 0.74\tDuration: 0:00:01.674254\n",
      "Iteration: 45/100\tTrain Loss: 0.204123\tTest Loss: 0.463570\tTrain Accuracy: 0.95\tTest Accuracy: 0.74\tDuration: 0:00:01.674819\n",
      "Iteration: 46/100\tTrain Loss: 0.201156\tTest Loss: 0.462772\tTrain Accuracy: 0.95\tTest Accuracy: 0.74\tDuration: 0:00:01.659787\n",
      "Iteration: 47/100\tTrain Loss: 0.198421\tTest Loss: 0.462324\tTrain Accuracy: 0.95\tTest Accuracy: 0.74\tDuration: 0:00:01.679679\n",
      "Iteration: 48/100\tTrain Loss: 0.194892\tTest Loss: 0.461606\tTrain Accuracy: 0.95\tTest Accuracy: 0.74\tDuration: 0:00:01.679769\n",
      "Iteration: 49/100\tTrain Loss: 0.191862\tTest Loss: 0.461899\tTrain Accuracy: 0.95\tTest Accuracy: 0.74\tDuration: 0:00:01.677503\n",
      "Iteration: 50/100\tTrain Loss: 0.189799\tTest Loss: 0.462038\tTrain Accuracy: 0.95\tTest Accuracy: 0.74\tDuration: 0:00:01.675952\n",
      "Iteration: 51/100\tTrain Loss: 0.186147\tTest Loss: 0.460441\tTrain Accuracy: 0.95\tTest Accuracy: 0.74\tDuration: 0:00:01.675846\n",
      "Iteration: 52/100\tTrain Loss: 0.183895\tTest Loss: 0.460948\tTrain Accuracy: 0.95\tTest Accuracy: 0.74\tDuration: 0:00:01.682413\n",
      "Iteration: 53/100\tTrain Loss: 0.181251\tTest Loss: 0.459925\tTrain Accuracy: 0.95\tTest Accuracy: 0.74\tDuration: 0:00:01.709910\n",
      "Iteration: 54/100\tTrain Loss: 0.178657\tTest Loss: 0.459803\tTrain Accuracy: 0.95\tTest Accuracy: 0.75\tDuration: 0:00:01.685825\n",
      "Iteration: 55/100\tTrain Loss: 0.176637\tTest Loss: 0.459358\tTrain Accuracy: 0.95\tTest Accuracy: 0.75\tDuration: 0:00:01.676810\n",
      "Iteration: 56/100\tTrain Loss: 0.174020\tTest Loss: 0.459744\tTrain Accuracy: 0.95\tTest Accuracy: 0.75\tDuration: 0:00:01.681046\n",
      "Iteration: 57/100\tTrain Loss: 0.172157\tTest Loss: 0.459721\tTrain Accuracy: 0.95\tTest Accuracy: 0.75\tDuration: 0:00:01.696667\n",
      "Iteration: 58/100\tTrain Loss: 0.169973\tTest Loss: 0.458707\tTrain Accuracy: 0.96\tTest Accuracy: 0.75\tDuration: 0:00:01.666521\n",
      "Iteration: 59/100\tTrain Loss: 0.167505\tTest Loss: 0.458786\tTrain Accuracy: 0.96\tTest Accuracy: 0.75\tDuration: 0:00:01.682503\n",
      "Iteration: 60/100\tTrain Loss: 0.165765\tTest Loss: 0.458764\tTrain Accuracy: 0.96\tTest Accuracy: 0.75\tDuration: 0:00:01.682881\n",
      "Iteration: 61/100\tTrain Loss: 0.163655\tTest Loss: 0.458304\tTrain Accuracy: 0.96\tTest Accuracy: 0.75\tDuration: 0:00:01.686595\n",
      "Iteration: 62/100\tTrain Loss: 0.162077\tTest Loss: 0.458802\tTrain Accuracy: 0.96\tTest Accuracy: 0.75\tDuration: 0:00:01.724143\n",
      "Iteration: 63/100\tTrain Loss: 0.160013\tTest Loss: 0.459264\tTrain Accuracy: 0.96\tTest Accuracy: 0.75\tDuration: 0:00:01.674800\n",
      "Iteration: 64/100\tTrain Loss: 0.158007\tTest Loss: 0.458619\tTrain Accuracy: 0.96\tTest Accuracy: 0.75\tDuration: 0:00:01.673631\n",
      "Iteration: 65/100\tTrain Loss: 0.156116\tTest Loss: 0.459183\tTrain Accuracy: 0.96\tTest Accuracy: 0.75\tDuration: 0:00:01.674622\n",
      "Iteration: 66/100\tTrain Loss: 0.154191\tTest Loss: 0.459140\tTrain Accuracy: 0.96\tTest Accuracy: 0.75\tDuration: 0:00:01.678655\n",
      "Iteration: 67/100\tTrain Loss: 0.152158\tTest Loss: 0.458966\tTrain Accuracy: 0.96\tTest Accuracy: 0.75\tDuration: 0:00:01.687070\n",
      "Iteration: 68/100\tTrain Loss: 0.150682\tTest Loss: 0.459857\tTrain Accuracy: 0.96\tTest Accuracy: 0.75\tDuration: 0:00:01.689089\n",
      "Iteration: 69/100\tTrain Loss: 0.149016\tTest Loss: 0.460854\tTrain Accuracy: 0.96\tTest Accuracy: 0.75\tDuration: 0:00:01.669197\n",
      "Iteration: 70/100\tTrain Loss: 0.147994\tTest Loss: 0.460185\tTrain Accuracy: 0.96\tTest Accuracy: 0.75\tDuration: 0:00:01.677798\n",
      "Iteration: 71/100\tTrain Loss: 0.146218\tTest Loss: 0.460865\tTrain Accuracy: 0.96\tTest Accuracy: 0.75\tDuration: 0:00:01.685605\n",
      "Iteration: 72/100\tTrain Loss: 0.144614\tTest Loss: 0.461642\tTrain Accuracy: 0.96\tTest Accuracy: 0.75\tDuration: 0:00:01.671522\n",
      "Iteration: 73/100\tTrain Loss: 0.143512\tTest Loss: 0.461241\tTrain Accuracy: 0.96\tTest Accuracy: 0.75\tDuration: 0:00:01.683921\n",
      "Iteration: 74/100\tTrain Loss: 0.141758\tTest Loss: 0.460603\tTrain Accuracy: 0.96\tTest Accuracy: 0.75\tDuration: 0:00:01.682473\n",
      "Iteration: 75/100\tTrain Loss: 0.140170\tTest Loss: 0.461130\tTrain Accuracy: 0.96\tTest Accuracy: 0.75\tDuration: 0:00:01.679702\n",
      "Iteration: 76/100\tTrain Loss: 0.139380\tTest Loss: 0.461082\tTrain Accuracy: 0.96\tTest Accuracy: 0.75\tDuration: 0:00:01.708878\n",
      "Iteration: 77/100\tTrain Loss: 0.137904\tTest Loss: 0.460870\tTrain Accuracy: 0.96\tTest Accuracy: 0.76\tDuration: 0:00:01.690221\n",
      "Iteration: 78/100\tTrain Loss: 0.135915\tTest Loss: 0.462805\tTrain Accuracy: 0.96\tTest Accuracy: 0.76\tDuration: 0:00:01.683279\n",
      "Iteration: 79/100\tTrain Loss: 0.135022\tTest Loss: 0.462745\tTrain Accuracy: 0.96\tTest Accuracy: 0.76\tDuration: 0:00:01.668068\n",
      "Iteration: 80/100\tTrain Loss: 0.133910\tTest Loss: 0.463062\tTrain Accuracy: 0.96\tTest Accuracy: 0.76\tDuration: 0:00:01.684073\n",
      "Iteration: 81/100\tTrain Loss: 0.133036\tTest Loss: 0.462969\tTrain Accuracy: 0.96\tTest Accuracy: 0.76\tDuration: 0:00:01.682843\n",
      "Iteration: 82/100\tTrain Loss: 0.131446\tTest Loss: 0.462097\tTrain Accuracy: 0.96\tTest Accuracy: 0.76\tDuration: 0:00:01.665073\n",
      "Iteration: 83/100\tTrain Loss: 0.130385\tTest Loss: 0.462968\tTrain Accuracy: 0.96\tTest Accuracy: 0.76\tDuration: 0:00:01.704390\n",
      "Iteration: 84/100\tTrain Loss: 0.129488\tTest Loss: 0.463994\tTrain Accuracy: 0.96\tTest Accuracy: 0.76\tDuration: 0:00:01.688381\n",
      "Iteration: 85/100\tTrain Loss: 0.128069\tTest Loss: 0.463211\tTrain Accuracy: 0.96\tTest Accuracy: 0.76\tDuration: 0:00:01.681590\n",
      "Iteration: 86/100\tTrain Loss: 0.127241\tTest Loss: 0.465189\tTrain Accuracy: 0.96\tTest Accuracy: 0.76\tDuration: 0:00:01.678809\n",
      "Iteration: 87/100\tTrain Loss: 0.125822\tTest Loss: 0.465158\tTrain Accuracy: 0.96\tTest Accuracy: 0.76\tDuration: 0:00:01.674880\n",
      "Iteration: 88/100\tTrain Loss: 0.124653\tTest Loss: 0.465354\tTrain Accuracy: 0.96\tTest Accuracy: 0.76\tDuration: 0:00:01.692989\n",
      "Iteration: 89/100\tTrain Loss: 0.124119\tTest Loss: 0.466068\tTrain Accuracy: 0.96\tTest Accuracy: 0.76\tDuration: 0:00:01.679514\n",
      "Iteration: 90/100\tTrain Loss: 0.123038\tTest Loss: 0.466389\tTrain Accuracy: 0.96\tTest Accuracy: 0.76\tDuration: 0:00:01.694466\n",
      "Iteration: 91/100\tTrain Loss: 0.121566\tTest Loss: 0.465027\tTrain Accuracy: 0.96\tTest Accuracy: 0.76\tDuration: 0:00:01.666499\n",
      "Iteration: 92/100\tTrain Loss: 0.120654\tTest Loss: 0.467474\tTrain Accuracy: 0.97\tTest Accuracy: 0.76\tDuration: 0:00:01.688912\n",
      "Iteration: 93/100\tTrain Loss: 0.119842\tTest Loss: 0.467609\tTrain Accuracy: 0.97\tTest Accuracy: 0.76\tDuration: 0:00:01.687985\n",
      "Iteration: 94/100\tTrain Loss: 0.119375\tTest Loss: 0.468127\tTrain Accuracy: 0.97\tTest Accuracy: 0.76\tDuration: 0:00:01.680955\n",
      "Iteration: 95/100\tTrain Loss: 0.117956\tTest Loss: 0.467786\tTrain Accuracy: 0.97\tTest Accuracy: 0.76\tDuration: 0:00:01.683884\n",
      "Iteration: 96/100\tTrain Loss: 0.116973\tTest Loss: 0.469376\tTrain Accuracy: 0.97\tTest Accuracy: 0.76\tDuration: 0:00:01.672283\n",
      "Iteration: 97/100\tTrain Loss: 0.116120\tTest Loss: 0.468867\tTrain Accuracy: 0.97\tTest Accuracy: 0.76\tDuration: 0:00:01.742073\n",
      "Iteration: 98/100\tTrain Loss: 0.115452\tTest Loss: 0.468402\tTrain Accuracy: 0.97\tTest Accuracy: 0.76\tDuration: 0:00:01.712932\n",
      "Iteration: 99/100\tTrain Loss: 0.114386\tTest Loss: 0.470230\tTrain Accuracy: 0.97\tTest Accuracy: 0.76\tDuration: 0:00:01.700053\n",
      "Iteration: 100/100\tTrain Loss: 0.113834\tTest Loss: 0.470241\tTrain Accuracy: 0.97\tTest Accuracy: 0.76\tDuration: 0:00:01.675891\n"
     ]
    }
   ],
   "source": [
    "train_losses, test_losses, train_accuracies, test_accuracies = train(n_epochs=100)\n"
   ]
  },
  {
   "cell_type": "code",
   "execution_count": 47,
   "metadata": {},
   "outputs": [
    {
     "data": {
      "text/plain": [
       "<matplotlib.legend.Legend at 0x1f2ed1a6e30>"
      ]
     },
     "execution_count": 47,
     "metadata": {},
     "output_type": "execute_result"
    },
    {
     "data": {
      "image/png": "[encoded data removed]",
      "text/plain": [
       "<Figure size 432x288 with 1 Axes>"
      ]
     },
     "metadata": {
      "needs_background": "light"
     },
     "output_type": "display_data"
    }
   ],
   "source": [
    "plt.plot(train_losses, label='Train Loss')\n",
    "plt.plot(test_losses, label='Test loss')\n",
    "plt.legend()"
   ]
  },
  {
   "cell_type": "code",
   "execution_count": 48,
   "metadata": {},
   "outputs": [
    {
     "data": {
      "text/plain": [
       "<matplotlib.legend.Legend at 0x1f2ed20d840>"
      ]
     },
     "execution_count": 48,
     "metadata": {},
     "output_type": "execute_result"
    },
    {
     "data": {
      "image/png": "[encoded data removed]",
      "text/plain": [
       "<Figure size 432x288 with 1 Axes>"
      ]
     },
     "metadata": {
      "needs_background": "light"
     },
     "output_type": "display_data"
    }
   ],
   "source": [
    "plt.plot(train_accuracies, label='Train Accuracy')\n",
    "plt.plot(test_accuracies, label='Test Accuracy')\n",
    "plt.legend()"
   ]
  }
 ],
 "metadata": {
  "kernelspec": {
   "display_name": "Python 3.10.4 ('venv': venv)",
   "language": "python",
   "name": "python3"
  },
  "language_info": {
   "codemirror_mode": {
    "name": "ipython",
    "version": 3
   },
   "file_extension": ".py",
   "mimetype": "text/x-python",
   "name": "python",
   "nbconvert_exporter": "python",
   "pygments_lexer": "ipython3",
   "version": "3.10.4"
  },
  "orig_nbformat": 4,
  "vscode": {
   "interpreter": {
    "hash": "862aaaa3bfdfe0cb3b02e12d68ad12f84f678ba56b93b757d8f1a9844b9ba170"
   }
  }
 },
 "nbformat": 4,
 "nbformat_minor": 2
}
