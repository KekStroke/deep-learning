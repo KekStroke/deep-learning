{
 "cells": [
  {
   "cell_type": "code",
   "execution_count": 1,
   "metadata": {},
   "outputs": [],
   "source": [
    "import numpy as np\n",
    "\n",
    "import torch\n",
    "import torch.nn as nn\n",
    "\n",
    "import matplotlib.pyplot as plt\n",
    "%matplotlib inline"
   ]
  },
  {
   "cell_type": "code",
   "execution_count": 2,
   "metadata": {},
   "outputs": [
    {
     "name": "stdout",
     "output_type": "stream",
     "text": [
      "Data shape : (569, 30)\n",
      "Target shape: (569,)\n"
     ]
    }
   ],
   "source": [
    "from sklearn.datasets import load_breast_cancer\n",
    "\n",
    "cancer = load_breast_cancer()\n",
    "\n",
    "X = cancer.data\n",
    "Y = cancer.target\n",
    "\n",
    "print('Data shape : {}'.format(X.shape))\n",
    "print('Target shape: {}'.format(Y.shape))"
   ]
  },
  {
   "cell_type": "code",
   "execution_count": 3,
   "metadata": {},
   "outputs": [],
   "source": [
    "from sklearn.model_selection import train_test_split\n",
    "\n",
    "X_train, X_test, Y_train, Y_test = train_test_split(X, Y, test_size=1/3, random_state=42)\n",
    "\n",
    "N, D = X_train.shape"
   ]
  },
  {
   "cell_type": "code",
   "execution_count": 4,
   "metadata": {},
   "outputs": [],
   "source": [
    "from sklearn.preprocessing import StandardScaler\n",
    "\n",
    "scaler = StandardScaler()\n",
    "\n",
    "X_train = scaler.fit_transform(X_train)\n",
    "X_test = scaler.transform(X_test)"
   ]
  },
  {
   "cell_type": "code",
   "execution_count": 5,
   "metadata": {},
   "outputs": [],
   "source": [
    "model = nn.Sequential(\n",
    "    nn.Linear(in_features=D, out_features=1),\n",
    "    nn.Sigmoid(),\n",
    ")\n",
    "\n",
    "criterion = nn.BCELoss()\n",
    "optimizer = torch.optim.Adam(model.parameters())"
   ]
  },
  {
   "cell_type": "code",
   "execution_count": 6,
   "metadata": {},
   "outputs": [],
   "source": [
    "X_train = torch.from_numpy(X_train.astype(np.float32))\n",
    "X_test = torch.from_numpy(X_test.astype(np.float32))\n",
    "Y_train = torch.from_numpy(Y_train.astype(np.float32).reshape(-1,1))\n",
    "Y_test = torch.from_numpy(Y_test.astype(np.float32).reshape(-1,1))"
   ]
  },
  {
   "cell_type": "code",
   "execution_count": 7,
   "metadata": {},
   "outputs": [],
   "source": [
    "epoch_cout = 1000\n",
    "\n",
    "train_losses = np.zeros(epoch_cout)\n",
    "test_losses = np.zeros(epoch_cout)\n",
    "train_accuracies = np.zeros(epoch_cout)\n",
    "test_accuracies = np.zeros(epoch_cout)\n",
    "\n",
    "for it in range(epoch_cout):\n",
    "    optimizer.zero_grad()\n",
    "    \n",
    "    train_predictions = model(X_train)\n",
    "    \n",
    "    train_loss = criterion(train_predictions, Y_train)\n",
    "    train_losses[it] = train_loss.item()\n",
    "    train_loss.backward()\n",
    "    \n",
    "    optimizer.step()\n",
    "    \n",
    "    test_predictions = model(X_test)\n",
    "    \n",
    "    test_loss = criterion(model(X_test), Y_test)\n",
    "    test_losses[it] = test_loss.item()\n",
    "    \n",
    "    train_accuracy = np.mean(Y_train.numpy() == train_predictions.detach().numpy().round())\n",
    "    train_accuracies[it] = train_accuracy\n",
    "    \n",
    "    test_accuracy = np.mean(Y_test.numpy() == test_predictions.detach().numpy().round())\n",
    "    test_accuracies[it] = test_accuracy"
   ]
  },
  {
   "cell_type": "code",
   "execution_count": 8,
   "metadata": {},
   "outputs": [
    {
     "data": {
      "text/plain": [
       "[<matplotlib.lines.Line2D at 0x24225a80100>]"
      ]
     },
     "execution_count": 8,
     "metadata": {},
     "output_type": "execute_result"
    },
    {
     "data": {
      "image/png": "[encoded data removed]",
      "text/plain": [
       "<Figure size 432x288 with 1 Axes>"
      ]
     },
     "metadata": {
      "needs_background": "light"
     },
     "output_type": "display_data"
    }
   ],
   "source": [
    "plt.plot(train_losses, 'b')\n",
    "plt.plot(test_losses)"
   ]
  },
  {
   "cell_type": "code",
   "execution_count": 9,
   "metadata": {},
   "outputs": [
    {
     "data": {
      "text/plain": [
       "[<matplotlib.lines.Line2D at 0x24225b80310>]"
      ]
     },
     "execution_count": 9,
     "metadata": {},
     "output_type": "execute_result"
    },
    {
     "data": {
      "image/png": "[encoded data removed]",
      "text/plain": [
       "<Figure size 432x288 with 1 Axes>"
      ]
     },
     "metadata": {
      "needs_background": "light"
     },
     "output_type": "display_data"
    }
   ],
   "source": [
    "plt.plot(train_accuracies, 'b')\n",
    "plt.plot(test_accuracies)"
   ]
  },
  {
   "cell_type": "code",
   "execution_count": 10,
   "metadata": {},
   "outputs": [
    {
     "name": "stdout",
     "output_type": "stream",
     "text": [
      "Train accuracy: 0.9815\n",
      "Test accuracy: 0.9842\n"
     ]
    }
   ],
   "source": [
    "with torch.no_grad():\n",
    "    train_predictions = model(X_train)\n",
    "    train_predictions = train_predictions.numpy().round()\n",
    "    train_accuracy = np.mean(Y_train.numpy() == train_predictions)\n",
    "    print('Train accuracy: {:.4f}'.format(train_accuracy))\n",
    "    \n",
    "    test_predictions = model(X_test)\n",
    "    test_predictions = test_predictions.numpy().round()\n",
    "    test_accuracy = np.mean(Y_test.numpy() == test_predictions)\n",
    "    print('Test accuracy: {:.4f}'.format(test_accuracy))\n",
    "    "
   ]
  }
 ],
 "metadata": {
  "interpreter": {
   "hash": "862aaaa3bfdfe0cb3b02e12d68ad12f84f678ba56b93b757d8f1a9844b9ba170"
  },
  "kernelspec": {
   "display_name": "Python 3.10.4 ('venv': venv)",
   "language": "python",
   "name": "python3"
  },
  "language_info": {
   "codemirror_mode": {
    "name": "ipython",
    "version": 3
   },
   "file_extension": ".py",
   "mimetype": "text/x-python",
   "name": "python",
   "nbconvert_exporter": "python",
   "pygments_lexer": "ipython3",
   "version": "3.10.4"
  },
  "orig_nbformat": 4
 },
 "nbformat": 4,
 "nbformat_minor": 2
}
