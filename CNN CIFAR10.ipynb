{
 "cells": [
  {
   "cell_type": "code",
   "execution_count": 1,
   "metadata": {},
   "outputs": [],
   "source": [
    "import numpy as np\n",
    "import matplotlib.pyplot as plt\n",
    "\n",
    "import torch\n",
    "import torch.nn as nn\n",
    "import torch.nn.functional as F\n",
    "import torchvision\n",
    "import torchvision.transforms as transforms"
   ]
  },
  {
   "cell_type": "code",
   "execution_count": 2,
   "metadata": {},
   "outputs": [],
   "source": [
    "batch_size=128"
   ]
  },
  {
   "cell_type": "code",
   "execution_count": 3,
   "metadata": {},
   "outputs": [],
   "source": [
    "transformer = torchvision.transforms.Compose([\n",
    "    transforms.ColorJitter(brightness=0.1, contrast=0.1, saturation=0.1, hue=0.1),\n",
    "    transforms.RandomHorizontalFlip(p=0.5),\n",
    "    transforms.RandomCrop(32, padding=4),\n",
    "    transforms.RandomRotation(15),\n",
    "    transforms.ToTensor(),\n",
    "])"
   ]
  },
  {
   "cell_type": "code",
   "execution_count": 27,
   "metadata": {},
   "outputs": [
    {
     "name": "stdout",
     "output_type": "stream",
     "text": [
      "Files already downloaded and verified\n",
      "Files already downloaded and verified\n"
     ]
    }
   ],
   "source": [
    "train_dataset = torchvision.datasets.CIFAR10(\n",
    "    root='data/',\n",
    "    train=True,\n",
    "    transform=transformer,\n",
    "    download=True,\n",
    ")\n",
    "\n",
    "test_dataset = torchvision.datasets.CIFAR10(\n",
    "    root='data/',\n",
    "    train=False,\n",
    "    transform=transforms.ToTensor(),\n",
    "    download=True,\n",
    ")"
   ]
  },
  {
   "cell_type": "code",
   "execution_count": 28,
   "metadata": {},
   "outputs": [],
   "source": [
    "class CNN(nn.Module):\n",
    "    def __init__(self, output_classes=10):\n",
    "        super(CNN, self).__init__()\n",
    "        \n",
    "        self.conv1 = nn.Sequential(\n",
    "            nn.Conv2d(3, 32, 3, padding=1),\n",
    "            nn.ReLU(),\n",
    "            nn.BatchNorm2d(32),\n",
    "            nn.Conv2d(32, 32, 3, padding=1),\n",
    "            nn.ReLU(),\n",
    "            nn.BatchNorm2d(32),\n",
    "            nn.MaxPool2d(2),\n",
    "        )\n",
    "        self.conv2 = nn.Sequential(\n",
    "            nn.Conv2d(32, 64, 3, padding=1),\n",
    "            nn.ReLU(),\n",
    "            nn.BatchNorm2d(64),\n",
    "            nn.Conv2d(64, 64, 3, padding=1),\n",
    "            nn.ReLU(),\n",
    "            nn.BatchNorm2d(64),\n",
    "            nn.MaxPool2d(2),\n",
    "        )\n",
    "        self.conv3 = nn.Sequential(\n",
    "            nn.Conv2d(64, 128, 3, padding=1),\n",
    "            nn.ReLU(),\n",
    "            nn.BatchNorm2d(128),\n",
    "            nn.Conv2d(128, 128, 3, padding=1),\n",
    "            nn.ReLU(),\n",
    "            nn.BatchNorm2d(128),\n",
    "            nn.MaxPool2d(2),\n",
    "        )\n",
    "        # self.conv4 = nn.Sequential(\n",
    "        #     nn.Conv2d(128, 256, 3, padding=1),\n",
    "        #     nn.ReLU(),\n",
    "        #     nn.BatchNorm2d(),\n",
    "        #     nn.Conv2d(256, 256, 3, padding=1),\n",
    "        #     nn.ReLU(),\n",
    "        #     nn.BatchNorm2d(),\n",
    "        #     nn.Conv2d(256, 256, 3, padding=1),\n",
    "        #     nn.ReLU(),\n",
    "        #     nn.BatchNorm2d(),\n",
    "        #     nn.MaxPool2d(2),\n",
    "        # )\n",
    "        # self.conv5 = nn.Sequential(\n",
    "        #     nn.Conv2d(256, 512, 3, padding=1),\n",
    "        #     nn.ReLU(),\n",
    "        #     nn.BatchNorm2d(),\n",
    "        #     nn.Conv2d(512, 512, 3, padding=1),\n",
    "        #     nn.ReLU(),\n",
    "        #     nn.BatchNorm2d(),\n",
    "        #     nn.Conv2d(512, 512, 3, padding=1),\n",
    "        #     nn.ReLU(),\n",
    "        #     nn.BatchNorm2d(),\n",
    "        #     nn.MaxPool2d(2),\n",
    "        # )\n",
    "        self.fc1 = nn.Linear(128* 4 * 4, 1024)\n",
    "        self.fc2 = nn.Linear(1024, output_classes)\n",
    "\n",
    "    def forward(self, inputs):\n",
    "        outputs = self.conv1(inputs)\n",
    "        outputs = self.conv2(outputs)\n",
    "        outputs = self.conv3(outputs)\n",
    "        outputs = outputs.view(outputs.size(0), -1)\n",
    "        outputs = F.dropout(outputs, p=0.2)\n",
    "        outputs = self.fc1(outputs)\n",
    "        outputs = F.relu(outputs)\n",
    "        outputs = F.dropout(outputs, p=0.4)\n",
    "        outputs = self.fc2(outputs)\n",
    "        return outputs  "
   ]
  },
  {
   "cell_type": "code",
   "execution_count": 29,
   "metadata": {},
   "outputs": [],
   "source": [
    "model = CNN()\n",
    "criterion = torch.nn.CrossEntropyLoss()\n",
    "optimizer = torch.optim.SGD(model.parameters(), lr=1e-1)"
   ]
  },
  {
   "cell_type": "code",
   "execution_count": 30,
   "metadata": {},
   "outputs": [
    {
     "name": "stdout",
     "output_type": "stream",
     "text": [
      "Device used: cuda\n"
     ]
    },
    {
     "data": {
      "text/plain": [
       "CNN(\n",
       "  (conv1): Sequential(\n",
       "    (0): Conv2d(3, 32, kernel_size=(3, 3), stride=(1, 1), padding=(1, 1))\n",
       "    (1): ReLU()\n",
       "    (2): BatchNorm2d(32, eps=1e-05, momentum=0.1, affine=True, track_running_stats=True)\n",
       "    (3): Conv2d(32, 32, kernel_size=(3, 3), stride=(1, 1), padding=(1, 1))\n",
       "    (4): ReLU()\n",
       "    (5): BatchNorm2d(32, eps=1e-05, momentum=0.1, affine=True, track_running_stats=True)\n",
       "    (6): MaxPool2d(kernel_size=2, stride=2, padding=0, dilation=1, ceil_mode=False)\n",
       "  )\n",
       "  (conv2): Sequential(\n",
       "    (0): Conv2d(32, 64, kernel_size=(3, 3), stride=(1, 1), padding=(1, 1))\n",
       "    (1): ReLU()\n",
       "    (2): BatchNorm2d(64, eps=1e-05, momentum=0.1, affine=True, track_running_stats=True)\n",
       "    (3): Conv2d(64, 64, kernel_size=(3, 3), stride=(1, 1), padding=(1, 1))\n",
       "    (4): ReLU()\n",
       "    (5): BatchNorm2d(64, eps=1e-05, momentum=0.1, affine=True, track_running_stats=True)\n",
       "    (6): MaxPool2d(kernel_size=2, stride=2, padding=0, dilation=1, ceil_mode=False)\n",
       "  )\n",
       "  (conv3): Sequential(\n",
       "    (0): Conv2d(64, 128, kernel_size=(3, 3), stride=(1, 1), padding=(1, 1))\n",
       "    (1): ReLU()\n",
       "    (2): BatchNorm2d(128, eps=1e-05, momentum=0.1, affine=True, track_running_stats=True)\n",
       "    (3): Conv2d(128, 128, kernel_size=(3, 3), stride=(1, 1), padding=(1, 1))\n",
       "    (4): ReLU()\n",
       "    (5): BatchNorm2d(128, eps=1e-05, momentum=0.1, affine=True, track_running_stats=True)\n",
       "    (6): MaxPool2d(kernel_size=2, stride=2, padding=0, dilation=1, ceil_mode=False)\n",
       "  )\n",
       "  (fc1): Linear(in_features=2048, out_features=1024, bias=True)\n",
       "  (fc2): Linear(in_features=1024, out_features=10, bias=True)\n",
       ")"
      ]
     },
     "execution_count": 30,
     "metadata": {},
     "output_type": "execute_result"
    }
   ],
   "source": [
    "device = 'cuda' if torch.cuda.is_available() else 'cpu'\n",
    "print(f'Device used: {device}')\n",
    "\n",
    "model.to(device=device)"
   ]
  },
  {
   "cell_type": "code",
   "execution_count": 31,
   "metadata": {},
   "outputs": [],
   "source": [
    "from torch.utils.data import DataLoader\n",
    "\n",
    "train_loader = DataLoader(\n",
    "    dataset=train_dataset,\n",
    "    batch_size=batch_size,\n",
    "    shuffle=True,    \n",
    ")\n",
    "\n",
    "test_loader = DataLoader(\n",
    "    dataset=test_dataset,\n",
    "    batch_size=batch_size,\n",
    "    shuffle=False,    \n",
    ")"
   ]
  },
  {
   "cell_type": "code",
   "execution_count": 36,
   "metadata": {},
   "outputs": [],
   "source": [
    "def train(model, optimizer, criterion, train_loader, test_loader, n_epochs=80):\n",
    "    train_losses = []\n",
    "    test_losses = []\n",
    "    \n",
    "    for it in range(1, n_epochs+1):\n",
    "        \n",
    "        train_loss = []\n",
    "        for inputs, targets in train_loader:\n",
    "            inputs, targets = inputs.to(device), targets.to(device)\n",
    "            \n",
    "            optimizer.zero_grad()\n",
    "            \n",
    "            outputs = model(inputs)\n",
    "            loss = criterion(outputs, targets)\n",
    "            loss.backward()\n",
    "            optimizer.step()\n",
    "            \n",
    "            train_loss.append(loss.item())\n",
    "            \n",
    "        train_losses.append(np.mean(train_loss))\n",
    "        \n",
    "        test_loss = []\n",
    "        for inputs, targets in test_loader:\n",
    "            inputs, targets = inputs.to(device), targets.to(device)\n",
    "            \n",
    "            outputs = model(inputs)\n",
    "            loss = criterion(outputs, targets)\n",
    "            \n",
    "            test_loss.append(loss.item())\n",
    "        \n",
    "        test_losses.append(np.mean(test_loss))\n",
    "            \n",
    "        print(f'Iteration {it}/{n_epochs}')\n",
    "        \n",
    "    return (train_losses, test_losses)"
   ]
  },
  {
   "cell_type": "code",
   "execution_count": 37,
   "metadata": {},
   "outputs": [
    {
     "name": "stdout",
     "output_type": "stream",
     "text": [
      "Iteration 1/80\n",
      "Iteration 2/80\n",
      "Iteration 3/80\n",
      "Iteration 4/80\n",
      "Iteration 5/80\n",
      "Iteration 6/80\n",
      "Iteration 7/80\n",
      "Iteration 8/80\n",
      "Iteration 9/80\n",
      "Iteration 10/80\n",
      "Iteration 11/80\n",
      "Iteration 12/80\n",
      "Iteration 13/80\n",
      "Iteration 14/80\n",
      "Iteration 15/80\n",
      "Iteration 16/80\n",
      "Iteration 17/80\n",
      "Iteration 18/80\n",
      "Iteration 19/80\n",
      "Iteration 20/80\n",
      "Iteration 21/80\n",
      "Iteration 22/80\n",
      "Iteration 23/80\n",
      "Iteration 24/80\n",
      "Iteration 25/80\n",
      "Iteration 26/80\n",
      "Iteration 27/80\n",
      "Iteration 28/80\n",
      "Iteration 29/80\n",
      "Iteration 30/80\n",
      "Iteration 31/80\n",
      "Iteration 32/80\n",
      "Iteration 33/80\n",
      "Iteration 34/80\n",
      "Iteration 35/80\n",
      "Iteration 36/80\n",
      "Iteration 37/80\n",
      "Iteration 38/80\n",
      "Iteration 39/80\n",
      "Iteration 40/80\n",
      "Iteration 41/80\n",
      "Iteration 42/80\n",
      "Iteration 43/80\n",
      "Iteration 44/80\n",
      "Iteration 45/80\n",
      "Iteration 46/80\n",
      "Iteration 47/80\n",
      "Iteration 48/80\n",
      "Iteration 49/80\n",
      "Iteration 50/80\n",
      "Iteration 51/80\n",
      "Iteration 52/80\n",
      "Iteration 53/80\n",
      "Iteration 54/80\n",
      "Iteration 55/80\n",
      "Iteration 56/80\n",
      "Iteration 57/80\n",
      "Iteration 58/80\n",
      "Iteration 59/80\n",
      "Iteration 60/80\n",
      "Iteration 61/80\n",
      "Iteration 62/80\n",
      "Iteration 63/80\n",
      "Iteration 64/80\n",
      "Iteration 65/80\n",
      "Iteration 66/80\n",
      "Iteration 67/80\n",
      "Iteration 68/80\n",
      "Iteration 69/80\n",
      "Iteration 70/80\n",
      "Iteration 71/80\n",
      "Iteration 72/80\n",
      "Iteration 73/80\n",
      "Iteration 74/80\n",
      "Iteration 75/80\n",
      "Iteration 76/80\n",
      "Iteration 77/80\n",
      "Iteration 78/80\n",
      "Iteration 79/80\n",
      "Iteration 80/80\n"
     ]
    }
   ],
   "source": [
    "train_losses, test_losses = train(\n",
    "    model=model,\n",
    "    optimizer=optimizer,\n",
    "    criterion=criterion,\n",
    "    train_loader=train_loader,\n",
    "    test_loader=test_loader,\n",
    ")"
   ]
  },
  {
   "cell_type": "code",
   "execution_count": 38,
   "metadata": {},
   "outputs": [
    {
     "data": {
      "text/plain": [
       "[<matplotlib.lines.Line2D at 0x1ae95949810>]"
      ]
     },
     "execution_count": 38,
     "metadata": {},
     "output_type": "execute_result"
    },
    {
     "data": {
      "image/png": "[encoded data removed]",
      "text/plain": [
       "<Figure size 432x288 with 1 Axes>"
      ]
     },
     "metadata": {
      "needs_background": "light"
     },
     "output_type": "display_data"
    }
   ],
   "source": [
    "plt.plot(train_losses)\n",
    "plt.plot(test_losses)"
   ]
  },
  {
   "cell_type": "code",
   "execution_count": 39,
   "metadata": {},
   "outputs": [],
   "source": [
    "torch.save(model.state_dict(), 'cifar10_cnn.pt')"
   ]
  },
  {
   "cell_type": "code",
   "execution_count": 42,
   "metadata": {},
   "outputs": [],
   "source": [
    "def validate(model, dataset, device='cpu', batch_size=128):\n",
    "    dataloader = DataLoader(\n",
    "        dataset=dataset,\n",
    "        batch_size=batch_size,\n",
    "    )\n",
    "    \n",
    "    total_correct = 0\n",
    "    total_tested = 0\n",
    "    \n",
    "    for inputs, targets in dataloader:\n",
    "        inputs, targets = inputs.to(device), targets.to(device)\n",
    "        \n",
    "        outputs = model(inputs)\n",
    "        \n",
    "        _, predicted = torch.max(outputs, dim=1)\n",
    "        \n",
    "        total_correct += torch.sum(predicted == targets)\n",
    "        total_tested += inputs.shape[0]\n",
    "        \n",
    "        \n",
    "    accuracy = total_correct/total_tested\n",
    "    return accuracy"
   ]
  },
  {
   "cell_type": "code",
   "execution_count": 46,
   "metadata": {},
   "outputs": [
    {
     "name": "stdout",
     "output_type": "stream",
     "text": [
      "Model accuracy: 0.86\n"
     ]
    }
   ],
   "source": [
    "accuracy = validate(\n",
    "    model,\n",
    "    test_dataset,\n",
    "    device=device,\n",
    "    batch_size=batch_size,\n",
    ")\n",
    "print(f'Model accuracy: {accuracy:.2f}')"
   ]
  },
  {
   "cell_type": "code",
   "execution_count": 53,
   "metadata": {},
   "outputs": [],
   "source": [
    "def get_predicted_labels(model, dataset, batch_size=128):\n",
    "    dataloader = DataLoader(\n",
    "        dataset=dataset,\n",
    "        batch_size=batch_size,\n",
    "    )\n",
    "    \n",
    "    predictions = np.array([])\n",
    "    \n",
    "    for inputs, targets in dataloader:\n",
    "        inputs, targets = inputs.to(device), targets.to(device)\n",
    "        \n",
    "        outputs = model(inputs)\n",
    "        _, predicted = torch.max(outputs, dim=1)\n",
    "        \n",
    "        predictions = np.concatenate((predictions, predicted.cpu().numpy()))\n",
    "        \n",
    "    return predictions"
   ]
  },
  {
   "cell_type": "code",
   "execution_count": 55,
   "metadata": {},
   "outputs": [],
   "source": [
    "import itertools\n",
    "\n",
    "\n",
    "def plot_confusion_matrix(\n",
    "    cm, classes, normalize=False, title=\"Confusion Matrix\", cmap=plt.cm.Blues\n",
    "):\n",
    "    \"\"\"\n",
    "    This functions prints and plots Confusion matrix.\n",
    "    Normalization can be applied by setting `normalize=True`.\n",
    "    \"\"\"\n",
    "    if normalize:\n",
    "        cm = cm.astype(\"float\") / cm.sum(axis=1)[:, np.newaxis]\n",
    "        print(\"Normalized confusion matrix\")\n",
    "    else:\n",
    "        print(\"Confusion matrix without normalization\")\n",
    "\n",
    "    print(cm)\n",
    "\n",
    "    plt.imshow(cm, interpolation=\"nearest\", cmap=cmap)\n",
    "    plt.title(title)\n",
    "    plt.colorbar()\n",
    "    tick_marks = np.arange(len(classes))\n",
    "    plt.xticks(tick_marks, classes, rotation=45)\n",
    "    plt.yticks(tick_marks, classes)\n",
    "\n",
    "    fmt = \".2f\" if normalize else \"d\"\n",
    "\n",
    "    thresh = cm.max() / 2.\n",
    "\n",
    "    for i, j in itertools.product(range(cm.shape[0]), range(cm.shape[1])):\n",
    "        plt.text(\n",
    "            j,\n",
    "            i,\n",
    "            format(cm[i, j], fmt),\n",
    "            horizontalalignment=\"center\",\n",
    "            color=\"white\" if cm[i, j] > thresh else \"black\",\n",
    "        )\n",
    "\n",
    "    plt.tight_layout()\n",
    "    plt.ylabel('True label')\n",
    "    plt.xlabel('Predicted label')\n",
    "    plt.show()"
   ]
  },
  {
   "cell_type": "code",
   "execution_count": 56,
   "metadata": {},
   "outputs": [
    {
     "name": "stdout",
     "output_type": "stream",
     "text": [
      "Confusion matrix without normalization\n",
      "[[885   5  25  18  13   1   5   7  33   8]\n",
      " [  5 947   3   4   1   0   4   0   5  31]\n",
      " [ 26   1 818  47  36  31  22  14   2   3]\n",
      " [  8   1  45 751  42 106  19  19   5   4]\n",
      " [  7   1  30  39 848  26  26  22   1   0]\n",
      " [  7   1  27 115  25 798   8  17   1   1]\n",
      " [  7   1  32  36  14  14 888   5   2   1]\n",
      " [  6   0  17  20  26  25   1 903   1   1]\n",
      " [ 43  12   9   3   4   0   4   0 913  12]\n",
      " [ 25  36   5   5   0   3   2   3  12 909]]\n"
     ]
    },
    {
     "data": {
      "image/png": "[encoded data removed]",
      "text/plain": [
       "<Figure size 432x288 with 2 Axes>"
      ]
     },
     "metadata": {
      "needs_background": "light"
     },
     "output_type": "display_data"
    }
   ],
   "source": [
    "from sklearn.metrics import confusion_matrix\n",
    "\n",
    "test_predictions = get_predicted_labels(\n",
    "    model=model,\n",
    "    dataset=test_dataset,\n",
    "    batch_size=batch_size,\n",
    ")\n",
    "\n",
    "test_targets = test_dataset.targets\n",
    "\n",
    "cm = confusion_matrix(test_targets, test_predictions)\n",
    "plot_confusion_matrix(cm, list(range(10)))\n"
   ]
  }
 ],
 "metadata": {
  "kernelspec": {
   "display_name": "Python 3.10.4 ('venv': venv)",
   "language": "python",
   "name": "python3"
  },
  "language_info": {
   "codemirror_mode": {
    "name": "ipython",
    "version": 3
   },
   "file_extension": ".py",
   "mimetype": "text/x-python",
   "name": "python",
   "nbconvert_exporter": "python",
   "pygments_lexer": "ipython3",
   "version": "3.10.4"
  },
  "orig_nbformat": 4,
  "vscode": {
   "interpreter": {
    "hash": "862aaaa3bfdfe0cb3b02e12d68ad12f84f678ba56b93b757d8f1a9844b9ba170"
   }
  }
 },
 "nbformat": 4,
 "nbformat_minor": 2
}
