{
 "cells": [
  {
   "cell_type": "code",
   "execution_count": 1,
   "metadata": {},
   "outputs": [],
   "source": [
    "import numpy as np\n",
    "import matplotlib.pyplot as plt\n",
    "\n",
    "import torch\n",
    "import torch.nn as nn\n",
    "import torchvision\n",
    "\n",
    "from datetime import datetime"
   ]
  },
  {
   "cell_type": "code",
   "execution_count": 2,
   "metadata": {},
   "outputs": [],
   "source": [
    "batch_size = 128\n",
    "hidden_layers=512\n",
    "epoch_number = 15\n",
    "cuda = True"
   ]
  },
  {
   "cell_type": "code",
   "execution_count": 3,
   "metadata": {},
   "outputs": [
    {
     "name": "stdout",
     "output_type": "stream",
     "text": [
      "Device: cuda\n"
     ]
    }
   ],
   "source": [
    "device = 'cuda' if torch.cuda.is_available() and cuda else 'cpu'\n",
    "print('Device: {}'.format(device))"
   ]
  },
  {
   "cell_type": "code",
   "execution_count": 4,
   "metadata": {},
   "outputs": [],
   "source": [
    "train_dataset = torchvision.datasets.FashionMNIST(\n",
    "    root=\"../data/\",\n",
    "    train=True,\n",
    "    transform=torchvision.transforms.ToTensor(),\n",
    "    download=True,\n",
    ")\n",
    "\n",
    "test_dataset = torchvision.datasets.FashionMNIST(\n",
    "    root=\"../data/\",\n",
    "    train=False,\n",
    "    transform=torchvision.transforms.ToTensor(),\n",
    "    download=True,\n",
    ")"
   ]
  },
  {
   "cell_type": "code",
   "execution_count": 5,
   "metadata": {},
   "outputs": [
    {
     "name": "stdout",
     "output_type": "stream",
     "text": [
      "Data shape: torch.Size([60000, 28, 28])\n",
      "Targets shape: torch.Size([60000])\n",
      "Class types amount: 10\n"
     ]
    }
   ],
   "source": [
    "print('Data shape: {}'.format(train_dataset.data.shape))\n",
    "print('Targets shape: {}'.format(train_dataset.targets.shape))\n",
    "print('Class types amount: {}'.format(len(set(train_dataset.targets.numpy()))))"
   ]
  },
  {
   "cell_type": "code",
   "execution_count": 6,
   "metadata": {},
   "outputs": [],
   "source": [
    "from torch.utils.data import DataLoader\n",
    "\n",
    "train_loader = DataLoader(\n",
    "    dataset=train_dataset,\n",
    "    batch_size=batch_size,\n",
    "    shuffle=True,\n",
    ")\n",
    "\n",
    "test_loader = DataLoader(\n",
    "    dataset=test_dataset,\n",
    "    batch_size=batch_size,\n",
    "    shuffle=False,\n",
    ")\n"
   ]
  },
  {
   "cell_type": "code",
   "execution_count": 7,
   "metadata": {},
   "outputs": [],
   "source": [
    "class ANN(nn.Module):\n",
    "    def __init__(self, input_layers, output_layers, hidden_layers=128):\n",
    "        super(ANN, self).__init__()\n",
    "        self.dense_layers = nn.Sequential(\n",
    "            nn.Dropout(0.2),\n",
    "            nn.Linear(input_layers, hidden_layers),\n",
    "            nn.ReLU(),\n",
    "            nn.Dropout(0.5),\n",
    "            nn.Linear(hidden_layers, hidden_layers),\n",
    "            nn.ReLU(),\n",
    "            nn.Dropout(0.5),\n",
    "            nn.Linear(hidden_layers, output_layers),\n",
    "        )\n",
    "\n",
    "    def forward(self, inputs):\n",
    "        outputs = self.dense_layers(inputs)\n",
    "        return outputs\n"
   ]
  },
  {
   "cell_type": "code",
   "execution_count": 8,
   "metadata": {},
   "outputs": [
    {
     "data": {
      "text/plain": [
       "ANN(\n",
       "  (dense_layers): Sequential(\n",
       "    (0): Dropout(p=0.2, inplace=False)\n",
       "    (1): Linear(in_features=784, out_features=512, bias=True)\n",
       "    (2): ReLU()\n",
       "    (3): Dropout(p=0.5, inplace=False)\n",
       "    (4): Linear(in_features=512, out_features=512, bias=True)\n",
       "    (5): ReLU()\n",
       "    (6): Dropout(p=0.5, inplace=False)\n",
       "    (7): Linear(in_features=512, out_features=10, bias=True)\n",
       "  )\n",
       ")"
      ]
     },
     "execution_count": 8,
     "metadata": {},
     "output_type": "execute_result"
    }
   ],
   "source": [
    "model = ANN(\n",
    "    input_layers=28*28,\n",
    "    output_layers=10,\n",
    "    hidden_layers=hidden_layers,\n",
    ")\n",
    "model.to(device)\n"
   ]
  },
  {
   "cell_type": "code",
   "execution_count": 9,
   "metadata": {},
   "outputs": [],
   "source": [
    "criterion = nn.CrossEntropyLoss()\n",
    "optimizer = torch.optim.SGD(model.parameters(), lr=1e-1)"
   ]
  },
  {
   "cell_type": "code",
   "execution_count": 26,
   "metadata": {},
   "outputs": [],
   "source": [
    "def validate(\n",
    "    model,\n",
    "    dataset,\n",
    "    test_size=256,\n",
    "    batch_size=128,\n",
    "    device='cpu',\n",
    "):\n",
    "    loader = torch.utils.data.DataLoader(\n",
    "        dataset=dataset,\n",
    "        batch_size=batch_size,\n",
    "        shuffle=True,\n",
    "    )\n",
    "    \n",
    "    total_correct = 0\n",
    "    total_tested = 0\n",
    "\n",
    "    for (inputs, targets) in loader:\n",
    "        if total_tested >= test_size:\n",
    "            break\n",
    "        \n",
    "        inputs = inputs.to(device).view(-1, 784)\n",
    "        targets = targets.to(device)\n",
    "\n",
    "        outputs = model(inputs)\n",
    "\n",
    "        _, predictions = torch.max(outputs, 1)\n",
    "        total_correct += sum(predictions == targets)\n",
    "        total_tested += len(targets)\n",
    "\n",
    "    return (total_correct / total_tested).item()\n"
   ]
  },
  {
   "cell_type": "code",
   "execution_count": 27,
   "metadata": {},
   "outputs": [],
   "source": [
    "def train(\n",
    "    model,\n",
    "    criterion,\n",
    "    optimizer,\n",
    "    train_loader,\n",
    "    test_loader,\n",
    "    epoch_number=10,\n",
    "    device=\"cpu\",\n",
    "):\n",
    "    train_losses = []\n",
    "    test_losses = []\n",
    "    train_accuracies = []\n",
    "    test_accuracies = []\n",
    "\n",
    "    for it in range(epoch_number):\n",
    "        \n",
    "        iter_train_loss = []\n",
    "        iter_test_loss = []\n",
    "\n",
    "        for (inputs, targets) in train_loader:\n",
    "            inputs = (inputs.to(device)).view(-1, 784)\n",
    "            targets = targets.to(device)\n",
    "\n",
    "            outputs = model(inputs)\n",
    "\n",
    "            optimizer.zero_grad()\n",
    "\n",
    "            loss = criterion(outputs, targets)\n",
    "            loss.backward()\n",
    "\n",
    "            optimizer.step()\n",
    "            \n",
    "            iter_train_loss.append(loss.item())\n",
    "\n",
    "        train_losses.append(np.mean(iter_train_loss))\n",
    "\n",
    "        train_accuracies.append(\n",
    "            validate(\n",
    "                model=model,\n",
    "                dataset=train_dataset,\n",
    "                device=device,\n",
    "            )\n",
    "        )\n",
    "\n",
    "        for (inputs, targets) in test_loader:\n",
    "            inputs = (inputs.to(device)).view(-1, 784)\n",
    "            targets = targets.to(device)\n",
    "\n",
    "            outputs = model(inputs)\n",
    "\n",
    "            loss = criterion(outputs, targets)\n",
    "            \n",
    "            iter_test_loss.append(loss.item())\n",
    "\n",
    "        test_losses.append(np.mean(iter_test_loss))\n",
    "\n",
    "        test_accuracies.append(\n",
    "            validate(\n",
    "                model=model,\n",
    "                dataset=train_dataset,\n",
    "                device=device,\n",
    "            )\n",
    "        )\n",
    "\n",
    "        print(\"Iteration {}/{}\".format(it + 1, epoch_number))\n",
    "\n",
    "    return train_losses, test_losses, train_accuracies, test_accuracies\n"
   ]
  },
  {
   "cell_type": "code",
   "execution_count": 28,
   "metadata": {},
   "outputs": [
    {
     "name": "stdout",
     "output_type": "stream",
     "text": [
      "Iteration 1/15\n",
      "Iteration 2/15\n",
      "Iteration 3/15\n",
      "Iteration 4/15\n",
      "Iteration 5/15\n",
      "Iteration 6/15\n",
      "Iteration 7/15\n",
      "Iteration 8/15\n",
      "Iteration 9/15\n",
      "Iteration 10/15\n",
      "Iteration 11/15\n",
      "Iteration 12/15\n",
      "Iteration 13/15\n",
      "Iteration 14/15\n",
      "Iteration 15/15\n"
     ]
    }
   ],
   "source": [
    "train_losses, test_losses, train_accuracies, test_accuracies = train(\n",
    "    model=model,\n",
    "    criterion=criterion,\n",
    "    optimizer=optimizer,\n",
    "    train_loader=train_loader,\n",
    "    test_loader=test_loader,\n",
    "    epoch_number=15,\n",
    "    device=device,\n",
    ")\n"
   ]
  },
  {
   "cell_type": "code",
   "execution_count": 29,
   "metadata": {},
   "outputs": [
    {
     "data": {
      "text/plain": [
       "[<matplotlib.lines.Line2D at 0x2370b2f8c70>]"
      ]
     },
     "execution_count": 29,
     "metadata": {},
     "output_type": "execute_result"
    },
    {
     "data": {
      "text/plain": [
       "<Figure size 432x288 with 0 Axes>"
      ]
     },
     "metadata": {},
     "output_type": "display_data"
    },
    {
     "data": {
      "image/png": "[encoded data removed]",
      "text/plain": [
       "<Figure size 432x288 with 1 Axes>"
      ]
     },
     "metadata": {
      "needs_background": "light"
     },
     "output_type": "display_data"
    },
    {
     "data": {
      "image/png": "[encoded data removed]",
      "text/plain": [
       "<Figure size 432x288 with 1 Axes>"
      ]
     },
     "metadata": {
      "needs_background": "light"
     },
     "output_type": "display_data"
    }
   ],
   "source": [
    "plt.figure(1)\n",
    "fig, axes = plt.subplots()\n",
    "axes.plot(train_losses)\n",
    "axes.plot(test_losses)\n",
    "\n",
    "plt.figure(2)\n",
    "fig, axes = plt.subplots()\n",
    "axes.plot(train_accuracies)\n",
    "axes.plot(test_accuracies)"
   ]
  },
  {
   "cell_type": "code",
   "execution_count": 30,
   "metadata": {},
   "outputs": [],
   "source": [
    "from sklearn.metrics import confusion_matrix\n",
    "import itertools\n",
    "\n",
    "\n",
    "def plot_confusion_matrix(\n",
    "    cm, classes, normalize=False, title=\"Confusion Matrix\", cmap=plt.cm.Blues\n",
    "):\n",
    "    \"\"\"\n",
    "    This functions prints and plots Confusion matrix.\n",
    "    Normalization can be applied by setting `normalize=True`.\n",
    "    \"\"\"\n",
    "    if normalize:\n",
    "        cm = cm.astype(\"float\") / cm.sum(axis=1)[:, np.newaxis]\n",
    "        print(\"Normalized confusion matrix\")\n",
    "    else:\n",
    "        print(\"Confusion matrix without normalization\")\n",
    "\n",
    "    print(cm)\n",
    "\n",
    "    plt.imshow(cm, interpolation=\"nearest\", cmap=cmap)\n",
    "    plt.title(title)\n",
    "    plt.colorbar()\n",
    "    tick_marks = np.arange(len(classes))\n",
    "    plt.xticks(tick_marks, classes, rotation=45)\n",
    "    plt.yticks(tick_marks, classes)\n",
    "\n",
    "    fmt = \".2f\" if normalize else \"d\"\n",
    "\n",
    "    thresh = cm.max() / 2.\n",
    "\n",
    "    for i, j in itertools.product(range(cm.shape[0]), range(cm.shape[1])):\n",
    "        plt.text(\n",
    "            j,\n",
    "            i,\n",
    "            format(cm[i, j], fmt),\n",
    "            horizontalalignment=\"center\",\n",
    "            color=\"white\" if cm[i, j] > thresh else \"black\",\n",
    "        )\n",
    "\n",
    "    plt.tight_layout()\n",
    "    plt.ylabel('True label')\n",
    "    plt.xlabel('Predicted label')\n",
    "    plt.show()"
   ]
  },
  {
   "cell_type": "code",
   "execution_count": 32,
   "metadata": {},
   "outputs": [
    {
     "name": "stdout",
     "output_type": "stream",
     "text": [
      "Confusion matrix without normalization\n",
      "[[812   4  13  45   9   2 102   0  13   0]\n",
      " [  4 957   2  28   4   0   4   0   1   0]\n",
      " [ 16   2 720  16 148   0  95   0   3   0]\n",
      " [ 21  13  10 859  64   0  29   0   3   1]\n",
      " [  0   0  85  32 805   0  78   0   0   0]\n",
      " [  0   0   0   1   0 942   0  40   3  14]\n",
      " [141   3 102  34 101   0 599   0  20   0]\n",
      " [  0   0   0   0   0  39   0 927   0  34]\n",
      " [  5   1   4   5   9   4   8   6 958   0]\n",
      " [  0   0   0   0   0  14   0  50   1 935]]\n"
     ]
    },
    {
     "data": {
      "image/png": "[encoded data removed]",
      "text/plain": [
       "<Figure size 432x288 with 2 Axes>"
      ]
     },
     "metadata": {
      "needs_background": "light"
     },
     "output_type": "display_data"
    }
   ],
   "source": [
    "x_test = test_dataset.data.numpy()\n",
    "y_test = test_dataset.targets.numpy()\n",
    "p_test = np.array([])\n",
    "for inputs, targets in test_loader:\n",
    "    inputs = inputs.to(device).view(-1, 784)\n",
    "    targets = targets.to(device)\n",
    "\n",
    "    outputs = model(inputs)\n",
    "\n",
    "    _, predictions = torch.max(outputs, 1)\n",
    "\n",
    "    p_test = np.concatenate((p_test, predictions.cpu().numpy()))\n",
    "\n",
    "cm = confusion_matrix(y_test, p_test)\n",
    "plot_confusion_matrix(cm, list(range(10)))\n"
   ]
  }
 ],
 "metadata": {
  "kernelspec": {
   "display_name": "Python 3.10.4 ('venv': venv)",
   "language": "python",
   "name": "python3"
  },
  "language_info": {
   "codemirror_mode": {
    "name": "ipython",
    "version": 3
   },
   "file_extension": ".py",
   "mimetype": "text/x-python",
   "name": "python",
   "nbconvert_exporter": "python",
   "pygments_lexer": "ipython3",
   "version": "3.10.4"
  },
  "orig_nbformat": 4,
  "vscode": {
   "interpreter": {
    "hash": "862aaaa3bfdfe0cb3b02e12d68ad12f84f678ba56b93b757d8f1a9844b9ba170"
   }
  }
 },
 "nbformat": 4,
 "nbformat_minor": 2
}
