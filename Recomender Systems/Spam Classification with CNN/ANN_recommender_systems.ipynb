{
  "cells": [
    {
      "cell_type": "code",
      "execution_count": 98,
      "metadata": {
        "id": "kxajvanJkltj"
      },
      "outputs": [],
      "source": [
        "import pandas as pd\n",
        "import numpy as np\n",
        "\n",
        "import matplotlib.pyplot as plt\n",
        "\n",
        "import torch\n",
        "import torch.nn as nn\n",
        "import torch.nn.functional as F\n",
        "\n",
        "from datetime import datetime\n"
      ]
    },
    {
      "cell_type": "code",
      "execution_count": 99,
      "metadata": {
        "id": "JDVA0zREkltm"
      },
      "outputs": [],
      "source": [
        "# lr = 0.00001\n",
        "batch_size = 512\n",
        "n_epochs = 50\n",
        "\n",
        "hidden_size = 1024\n",
        "\n",
        "train_ratio = 0.8\n",
        "\n",
        "embedding_dim = 10\n"
      ]
    },
    {
      "cell_type": "code",
      "execution_count": 100,
      "metadata": {
        "colab": {
          "base_uri": "https://localhost:8080/",
          "height": 237
        },
        "id": "YsIKUX63kltp",
        "outputId": "62ad48f1-70f6-4a35-b815-1b95d103da02"
      },
      "outputs": [],
      "source": [
        "df = pd.read_csv(\n",
        "    \"../../data/MovieRatings/rating.csv\",\n",
        "    sep=\",\",\n",
        "    header=0,\n",
        ")\n",
        "\n",
        "df.head()\n"
      ]
    },
    {
      "cell_type": "code",
      "execution_count": null,
      "metadata": {},
      "outputs": [],
      "source": [
        "user_ids = df.userId.astype(\"category\").cat.codes.values\n",
        "movie_ids = df.movieId.astype(\"category\").cat.codes.values\n",
        "targets = df[\"rating\"].values - 2.5\n"
      ]
    },
    {
      "cell_type": "code",
      "execution_count": null,
      "metadata": {},
      "outputs": [
        {
          "name": "stdout",
          "output_type": "stream",
          "text": [
            "Total amount of users: 138493\n",
            "Total amount of movies: 26744\n"
          ]
        }
      ],
      "source": [
        "amount_users = len(set(user_ids))\n",
        "amount_movies = len(set(movie_ids))\n",
        "\n",
        "print(f'Total amount of users: {amount_users}')\n",
        "print(f'Total amount of movies: {amount_movies}')"
      ]
    },
    {
      "cell_type": "code",
      "execution_count": null,
      "metadata": {},
      "outputs": [],
      "source": [
        "n_samples = df.shape[0]\n",
        "\n",
        "shuffle = np.random.permutation(n_samples)\n",
        "user_ids, movie_ids, targets = user_ids[shuffle], movie_ids[shuffle], targets[shuffle]\n"
      ]
    },
    {
      "cell_type": "code",
      "execution_count": null,
      "metadata": {},
      "outputs": [
        {
          "name": "stdout",
          "output_type": "stream",
          "text": [
            "Device cuda is being used\n"
          ]
        }
      ],
      "source": [
        "device = torch.device(\"cuda\" if torch.cuda.is_available() else \"cpu\")\n",
        "print(f\"Device {device} is being used\")\n"
      ]
    },
    {
      "cell_type": "code",
      "execution_count": null,
      "metadata": {},
      "outputs": [],
      "source": [
        "n_to_train = int(n_samples * train_ratio)\n",
        "\n",
        "train_users = user_ids[:n_to_train]\n",
        "test_users = user_ids[n_to_train:]\n",
        "train_movies = movie_ids[:n_to_train]\n",
        "test_movies = movie_ids[n_to_train:]\n",
        "\n",
        "train_targets = targets[:n_to_train]\n",
        "test_targets = targets[n_to_train:]\n",
        "\n",
        "train_data = (train_users, train_movies, train_targets)\n",
        "test_data = (test_users, test_movies, train_targets)"
      ]
    },
    {
      "cell_type": "code",
      "execution_count": null,
      "metadata": {
        "id": "2L6Ljq7Okltu"
      },
      "outputs": [],
      "source": [
        "class Recommender(nn.Module):\n",
        "    def __init__(\n",
        "        self,\n",
        "        users_num,\n",
        "        movies_num,\n",
        "        embedding_dim,\n",
        "        hidden_size\n",
        "    ):\n",
        "        super(Recommender, self).__init__()\n",
        "        self.embed_user = nn.Embedding(\n",
        "            num_embeddings=users_num,\n",
        "            embedding_dim=embedding_dim,\n",
        "        )\n",
        "        self.embed_movie = nn.Embedding(\n",
        "            num_embeddings=movies_num,\n",
        "            embedding_dim=embedding_dim,\n",
        "        )\n",
        "        \n",
        "        self.fc1 = nn.Linear(2 * embedding_dim, hidden_size)\n",
        "        self.fc2 = nn.Linear(hidden_size, 1)\n",
        "\n",
        "    def forward(self, users, movies):\n",
        "        users_emb = self.embed_user(users)\n",
        "        movies_emb = self.embed_movie(movies)\n",
        "\n",
        "        merged_inp = torch.concat((users_emb, movies_emb), dim=1)\n",
        "        \n",
        "        outputs = self.fc1(merged_inp)\n",
        "        outputs = F.relu(outputs)\n",
        "        \n",
        "        outputs = self.fc2(outputs)\n",
        "\n",
        "        return outputs\n"
      ]
    },
    {
      "cell_type": "code",
      "execution_count": null,
      "metadata": {
        "colab": {
          "base_uri": "https://localhost:8080/"
        },
        "id": "hN55Xby3kltv",
        "outputId": "9694da4f-dd6f-4b9e-dc6f-567185190c2e"
      },
      "outputs": [
        {
          "data": {
            "text/plain": [
              "Recommender(\n",
              "  (embed_user): Embedding(138493, 10)\n",
              "  (embed_movie): Embedding(26744, 10)\n",
              "  (fc1): Linear(in_features=20, out_features=1024, bias=True)\n",
              "  (fc2): Linear(in_features=1024, out_features=1, bias=True)\n",
              ")"
            ]
          },
          "execution_count": 91,
          "metadata": {},
          "output_type": "execute_result"
        }
      ],
      "source": [
        "model = Recommender(\n",
        "    users_num=amount_users,\n",
        "    movies_num=amount_movies,\n",
        "    embedding_dim=embedding_dim,\n",
        "    hidden_size=hidden_size,\n",
        ")\n",
        "\n",
        "model.to(device)\n"
      ]
    },
    {
      "cell_type": "code",
      "execution_count": null,
      "metadata": {
        "id": "_LpL8rpakltw"
      },
      "outputs": [],
      "source": [
        "# optimizer = torch.optim.Adam(model.parameters(), lr=lr)\n",
        "optimizer = torch.optim.Adam(model.parameters())\n",
        "criterion = nn.MSELoss()\n"
      ]
    },
    {
      "cell_type": "code",
      "execution_count": null,
      "metadata": {
        "id": "qbvoA_Rtkltx"
      },
      "outputs": [],
      "source": [
        "def train(train_data, test_data, batch_size=1024, n_epochs=100):\n",
        "    train_users, train_movies, train_targets = train_data\n",
        "    test_users, test_movies, test_targets = test_data\n",
        "\n",
        "    train_losses = np.zeros(n_epochs)\n",
        "    test_losses = np.zeros(n_epochs)\n",
        "\n",
        "    batches_per_epoch_train = int(np.floor(len(train_users) / batch_size))\n",
        "    batches_per_epoch_test = int(np.floor(len(test_users) / batch_size))\n",
        "\n",
        "    for it in range(n_epochs):\n",
        "\n",
        "        start_time = datetime.now()\n",
        "\n",
        "        shuffle = np.random.permutation(len(train_users))\n",
        "        train_users, train_movies, train_targets = (\n",
        "            train_users[shuffle],\n",
        "            train_movies[shuffle],\n",
        "            train_targets[shuffle],\n",
        "        )\n",
        "\n",
        "        train_loss = []\n",
        "\n",
        "        for j in range(batches_per_epoch_train):\n",
        "\n",
        "            users = train_users[j * batch_size : (j + 1) * batch_size]\n",
        "            movies = train_movies[j * batch_size : (j + 1) * batch_size]\n",
        "            targets = train_targets[j * batch_size : (j + 1) * batch_size]\n",
        "\n",
        "            users = torch.from_numpy(users).long()\n",
        "            movies = torch.from_numpy(movies).long()\n",
        "            targets = torch.from_numpy(targets.astype(np.float32))\n",
        "\n",
        "            targets = targets.view(-1, 1)\n",
        "\n",
        "            users = users.to(device)\n",
        "            movies = movies.to(device)\n",
        "            targets = targets.to(device)\n",
        "\n",
        "            optimizer.zero_grad()\n",
        "\n",
        "            outputs = model(users, movies)\n",
        "            loss = criterion(outputs, targets)\n",
        "            loss.backward()\n",
        "            optimizer.step()\n",
        "\n",
        "            train_loss.append(loss.item())\n",
        "\n",
        "        test_loss = []\n",
        "\n",
        "        for j in range(batches_per_epoch_test):\n",
        "\n",
        "            users = test_users[j * batch_size : (j + 1) * batch_size]\n",
        "            movies = test_movies[j * batch_size : (j + 1) * batch_size]\n",
        "            targets = test_targets[j * batch_size : (j + 1) * batch_size]\n",
        "\n",
        "            users = torch.from_numpy(users).long()\n",
        "            movies = torch.from_numpy(movies).long()\n",
        "            targets = torch.from_numpy(targets.astype(np.float32))\n",
        "\n",
        "            targets = targets.view(-1, 1)\n",
        "\n",
        "            users = users.to(device)\n",
        "            movies = movies.to(device)\n",
        "            targets = targets.to(device)\n",
        "\n",
        "            outputs = model(users, movies)\n",
        "            loss = criterion(outputs, targets)\n",
        "            test_loss.append(loss.item())\n",
        "\n",
        "        train_losses[it] = np.mean(train_loss)\n",
        "        test_losses[it] = np.mean(test_loss)\n",
        "\n",
        "        end_time = datetime.now()\n",
        "\n",
        "        print(\n",
        "            f\"Iteration: {it+1:4.0f}/{n_epochs}\\tTrain Loss: {train_losses[it]:.6f}\\tTest Loss: {test_losses[it]:.6f}\\tDuration: {end_time-start_time}\"\n",
        "        )\n",
        "\n",
        "    return train_losses, test_losses\n"
      ]
    },
    {
      "cell_type": "code",
      "execution_count": null,
      "metadata": {
        "colab": {
          "base_uri": "https://localhost:8080/"
        },
        "id": "Y1F0QJsYkltx",
        "outputId": "22712df2-1cba-4437-bda4-d68590a1c0ce"
      },
      "outputs": [
        {
          "name": "stdout",
          "output_type": "stream",
          "text": [
            "Iteration:    1/50\tTrain Loss: 1.256336\tTest Loss: 1.137572\tDuration: 0:00:16.553168\n",
            "Iteration:    2/50\tTrain Loss: 1.127809\tTest Loss: 1.133870\tDuration: 0:00:10.177979\n",
            "Iteration:    3/50\tTrain Loss: 1.121054\tTest Loss: 1.131502\tDuration: 0:00:10.836483\n",
            "Iteration:    4/50\tTrain Loss: 1.115034\tTest Loss: 1.129196\tDuration: 0:00:10.387449\n",
            "Iteration:    5/50\tTrain Loss: 1.109368\tTest Loss: 1.127372\tDuration: 0:00:10.400712\n",
            "Iteration:    6/50\tTrain Loss: 1.104193\tTest Loss: 1.125761\tDuration: 0:00:10.630368\n",
            "Iteration:    7/50\tTrain Loss: 1.099587\tTest Loss: 1.124830\tDuration: 0:00:10.409916\n",
            "Iteration:    8/50\tTrain Loss: 1.095595\tTest Loss: 1.124383\tDuration: 0:00:10.476919\n",
            "Iteration:    9/50\tTrain Loss: 1.092209\tTest Loss: 1.124360\tDuration: 0:00:10.537162\n",
            "Iteration:   10/50\tTrain Loss: 1.089273\tTest Loss: 1.125045\tDuration: 0:00:10.479528\n",
            "Iteration:   11/50\tTrain Loss: 1.086628\tTest Loss: 1.126184\tDuration: 0:00:10.361758\n"
          ]
        },
        {
          "ename": "KeyboardInterrupt",
          "evalue": "",
          "output_type": "error",
          "traceback": [
            "\u001b[1;31m---------------------------------------------------------------------------\u001b[0m",
            "\u001b[1;31mKeyboardInterrupt\u001b[0m                         Traceback (most recent call last)",
            "\u001b[1;32me:\\Python_projects\\deep-learning\\Recomender Systems\\Spam Classification with CNN\\ANN_recommender_systems.ipynb Cell 13'\u001b[0m in \u001b[0;36m<cell line: 1>\u001b[1;34m()\u001b[0m\n\u001b[1;32m----> <a href='vscode-notebook-cell:/e%3A/Python_projects/deep-learning/Recomender%20Systems/Spam%20Classification%20with%20CNN/ANN_recommender_systems.ipynb#ch0000012?line=0'>1</a>\u001b[0m train_losses, test_losses \u001b[39m=\u001b[39m train(\n\u001b[0;32m      <a href='vscode-notebook-cell:/e%3A/Python_projects/deep-learning/Recomender%20Systems/Spam%20Classification%20with%20CNN/ANN_recommender_systems.ipynb#ch0000012?line=1'>2</a>\u001b[0m     train_data\u001b[39m=\u001b[39;49mtrain_data,\n\u001b[0;32m      <a href='vscode-notebook-cell:/e%3A/Python_projects/deep-learning/Recomender%20Systems/Spam%20Classification%20with%20CNN/ANN_recommender_systems.ipynb#ch0000012?line=2'>3</a>\u001b[0m     test_data\u001b[39m=\u001b[39;49mtest_data,\n\u001b[0;32m      <a href='vscode-notebook-cell:/e%3A/Python_projects/deep-learning/Recomender%20Systems/Spam%20Classification%20with%20CNN/ANN_recommender_systems.ipynb#ch0000012?line=3'>4</a>\u001b[0m     batch_size\u001b[39m=\u001b[39;49mbatch_size,\n\u001b[0;32m      <a href='vscode-notebook-cell:/e%3A/Python_projects/deep-learning/Recomender%20Systems/Spam%20Classification%20with%20CNN/ANN_recommender_systems.ipynb#ch0000012?line=4'>5</a>\u001b[0m     n_epochs\u001b[39m=\u001b[39;49mn_epochs,\n\u001b[0;32m      <a href='vscode-notebook-cell:/e%3A/Python_projects/deep-learning/Recomender%20Systems/Spam%20Classification%20with%20CNN/ANN_recommender_systems.ipynb#ch0000012?line=5'>6</a>\u001b[0m )\n",
            "\u001b[1;32me:\\Python_projects\\deep-learning\\Recomender Systems\\Spam Classification with CNN\\ANN_recommender_systems.ipynb Cell 12'\u001b[0m in \u001b[0;36mtrain\u001b[1;34m(train_data, test_data, batch_size, n_epochs)\u001b[0m\n\u001b[0;32m     <a href='vscode-notebook-cell:/e%3A/Python_projects/deep-learning/Recomender%20Systems/Spam%20Classification%20with%20CNN/ANN_recommender_systems.ipynb#ch0000011?line=41'>42</a>\u001b[0m outputs \u001b[39m=\u001b[39m model(users, movies)\n\u001b[0;32m     <a href='vscode-notebook-cell:/e%3A/Python_projects/deep-learning/Recomender%20Systems/Spam%20Classification%20with%20CNN/ANN_recommender_systems.ipynb#ch0000011?line=42'>43</a>\u001b[0m loss \u001b[39m=\u001b[39m criterion(outputs, targets)\n\u001b[1;32m---> <a href='vscode-notebook-cell:/e%3A/Python_projects/deep-learning/Recomender%20Systems/Spam%20Classification%20with%20CNN/ANN_recommender_systems.ipynb#ch0000011?line=43'>44</a>\u001b[0m loss\u001b[39m.\u001b[39;49mbackward()\n\u001b[0;32m     <a href='vscode-notebook-cell:/e%3A/Python_projects/deep-learning/Recomender%20Systems/Spam%20Classification%20with%20CNN/ANN_recommender_systems.ipynb#ch0000011?line=44'>45</a>\u001b[0m optimizer\u001b[39m.\u001b[39mstep()\n\u001b[0;32m     <a href='vscode-notebook-cell:/e%3A/Python_projects/deep-learning/Recomender%20Systems/Spam%20Classification%20with%20CNN/ANN_recommender_systems.ipynb#ch0000011?line=46'>47</a>\u001b[0m train_loss\u001b[39m.\u001b[39mappend(loss\u001b[39m.\u001b[39mitem())\n",
            "File \u001b[1;32me:\\Python_projects\\deep-learning\\venv\\lib\\site-packages\\torch\\_tensor.py:396\u001b[0m, in \u001b[0;36mTensor.backward\u001b[1;34m(self, gradient, retain_graph, create_graph, inputs)\u001b[0m\n\u001b[0;32m    387\u001b[0m \u001b[39mif\u001b[39;00m has_torch_function_unary(\u001b[39mself\u001b[39m):\n\u001b[0;32m    388\u001b[0m     \u001b[39mreturn\u001b[39;00m handle_torch_function(\n\u001b[0;32m    389\u001b[0m         Tensor\u001b[39m.\u001b[39mbackward,\n\u001b[0;32m    390\u001b[0m         (\u001b[39mself\u001b[39m,),\n\u001b[1;32m   (...)\u001b[0m\n\u001b[0;32m    394\u001b[0m         create_graph\u001b[39m=\u001b[39mcreate_graph,\n\u001b[0;32m    395\u001b[0m         inputs\u001b[39m=\u001b[39minputs)\n\u001b[1;32m--> 396\u001b[0m torch\u001b[39m.\u001b[39;49mautograd\u001b[39m.\u001b[39;49mbackward(\u001b[39mself\u001b[39;49m, gradient, retain_graph, create_graph, inputs\u001b[39m=\u001b[39;49minputs)\n",
            "File \u001b[1;32me:\\Python_projects\\deep-learning\\venv\\lib\\site-packages\\torch\\autograd\\__init__.py:173\u001b[0m, in \u001b[0;36mbackward\u001b[1;34m(tensors, grad_tensors, retain_graph, create_graph, grad_variables, inputs)\u001b[0m\n\u001b[0;32m    168\u001b[0m     retain_graph \u001b[39m=\u001b[39m create_graph\n\u001b[0;32m    170\u001b[0m \u001b[39m# The reason we repeat same the comment below is that\u001b[39;00m\n\u001b[0;32m    171\u001b[0m \u001b[39m# some Python versions print out the first line of a multi-line function\u001b[39;00m\n\u001b[0;32m    172\u001b[0m \u001b[39m# calls in the traceback and some print out the last line\u001b[39;00m\n\u001b[1;32m--> 173\u001b[0m Variable\u001b[39m.\u001b[39;49m_execution_engine\u001b[39m.\u001b[39;49mrun_backward(  \u001b[39m# Calls into the C++ engine to run the backward pass\u001b[39;49;00m\n\u001b[0;32m    174\u001b[0m     tensors, grad_tensors_, retain_graph, create_graph, inputs,\n\u001b[0;32m    175\u001b[0m     allow_unreachable\u001b[39m=\u001b[39;49m\u001b[39mTrue\u001b[39;49;00m, accumulate_grad\u001b[39m=\u001b[39;49m\u001b[39mTrue\u001b[39;49;00m)\n",
            "\u001b[1;31mKeyboardInterrupt\u001b[0m: "
          ]
        }
      ],
      "source": [
        "train_losses, test_losses = train(\n",
        "    train_data=train_data,\n",
        "    test_data=test_data,\n",
        "    batch_size=batch_size,\n",
        "    n_epochs=n_epochs,\n",
        ")\n"
      ]
    },
    {
      "cell_type": "code",
      "execution_count": null,
      "metadata": {
        "colab": {
          "base_uri": "https://localhost:8080/",
          "height": 282
        },
        "id": "exZOPfdBw0OK",
        "outputId": "a89f9e63-75f2-4e0c-985b-d58db187c283"
      },
      "outputs": [
        {
          "ename": "NameError",
          "evalue": "name 'plt' is not defined",
          "output_type": "error",
          "traceback": [
            "\u001b[1;31m---------------------------------------------------------------------------\u001b[0m",
            "\u001b[1;31mNameError\u001b[0m                                 Traceback (most recent call last)",
            "\u001b[1;32me:\\Python_projects\\deep-learning\\Recomender Systems\\Spam Classification with CNN\\ANN_recommender_systems.ipynb Cell 1'\u001b[0m in \u001b[0;36m<cell line: 1>\u001b[1;34m()\u001b[0m\n\u001b[1;32m----> <a href='vscode-notebook-cell:/e%3A/Python_projects/deep-learning/Recomender%20Systems/Spam%20Classification%20with%20CNN/ANN_recommender_systems.ipynb#ch0000000?line=0'>1</a>\u001b[0m plt\u001b[39m.\u001b[39mplot(train_losses, label\u001b[39m=\u001b[39m\u001b[39m\"\u001b[39m\u001b[39mTrain Loss\u001b[39m\u001b[39m\"\u001b[39m)\n\u001b[0;32m      <a href='vscode-notebook-cell:/e%3A/Python_projects/deep-learning/Recomender%20Systems/Spam%20Classification%20with%20CNN/ANN_recommender_systems.ipynb#ch0000000?line=1'>2</a>\u001b[0m plt\u001b[39m.\u001b[39mplot(test_losses, label\u001b[39m=\u001b[39m\u001b[39m\"\u001b[39m\u001b[39mTest loss\u001b[39m\u001b[39m\"\u001b[39m)\n\u001b[0;32m      <a href='vscode-notebook-cell:/e%3A/Python_projects/deep-learning/Recomender%20Systems/Spam%20Classification%20with%20CNN/ANN_recommender_systems.ipynb#ch0000000?line=2'>3</a>\u001b[0m plt\u001b[39m.\u001b[39mlegend()\n",
            "\u001b[1;31mNameError\u001b[0m: name 'plt' is not defined"
          ]
        }
      ],
      "source": [
        "plt.plot(train_losses, label=\"Train Loss\")\n",
        "plt.plot(test_losses, label=\"Test loss\")\n",
        "plt.legend()\n"
      ]
    }
  ],
  "metadata": {
    "colab": {
      "name": "RNN sentiment ananlysis.ipynb",
      "provenance": []
    },
    "kernelspec": {
      "display_name": "Python 3.10.4 ('venv': venv)",
      "language": "python",
      "name": "python3"
    },
    "language_info": {
      "codemirror_mode": {
        "name": "ipython",
        "version": 3
      },
      "file_extension": ".py",
      "mimetype": "text/x-python",
      "name": "python",
      "nbconvert_exporter": "python",
      "pygments_lexer": "ipython3",
      "version": "3.10.4"
    },
    "orig_nbformat": 4,
    "vscode": {
      "interpreter": {
        "hash": "862aaaa3bfdfe0cb3b02e12d68ad12f84f678ba56b93b757d8f1a9844b9ba170"
      }
    }
  },
  "nbformat": 4,
  "nbformat_minor": 0
}
