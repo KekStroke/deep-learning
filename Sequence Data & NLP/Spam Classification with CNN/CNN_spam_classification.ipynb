{
  "cells": [
    {
      "cell_type": "code",
      "execution_count": 1,
      "metadata": {
        "id": "kxajvanJkltj"
      },
      "outputs": [],
      "source": [
        "import pandas as pd\n",
        "import numpy as np\n",
        "\n",
        "import matplotlib.pyplot as plt\n",
        "\n",
        "import torch\n",
        "import torch.nn as nn\n",
        "import torch.nn.functional as F\n",
        "\n",
        "from torchtext.data.utils import get_tokenizer\n",
        "from torchtext.vocab import build_vocab_from_iterator"
      ]
    },
    {
      "cell_type": "code",
      "execution_count": 2,
      "metadata": {
        "id": "JDVA0zREkltm"
      },
      "outputs": [],
      "source": [
        "lr = 0.001\n",
        "batch_size = 100\n",
        "n_epochs = 100\n",
        "\n",
        "embedding_dim = 3\n",
        "lstm_hidden_size = 5\n",
        "lstm_num_layers = 1"
      ]
    },
    {
      "cell_type": "code",
      "execution_count": 3,
      "metadata": {
        "colab": {
          "base_uri": "https://localhost:8080/",
          "height": 237
        },
        "id": "YsIKUX63kltp",
        "outputId": "62ad48f1-70f6-4a35-b815-1b95d103da02"
      },
      "outputs": [
        {
          "data": {
            "text/html": [
              "<div>\n",
              "<style scoped>\n",
              "    .dataframe tbody tr th:only-of-type {\n",
              "        vertical-align: middle;\n",
              "    }\n",
              "\n",
              "    .dataframe tbody tr th {\n",
              "        vertical-align: top;\n",
              "    }\n",
              "\n",
              "    .dataframe thead th {\n",
              "        text-align: right;\n",
              "    }\n",
              "</style>\n",
              "<table border=\"1\" class=\"dataframe\">\n",
              "  <thead>\n",
              "    <tr style=\"text-align: right;\">\n",
              "      <th></th>\n",
              "      <th>text</th>\n",
              "      <th>label</th>\n",
              "    </tr>\n",
              "  </thead>\n",
              "  <tbody>\n",
              "    <tr>\n",
              "      <th>0</th>\n",
              "      <td>Go until jurong point, crazy.. Available only ...</td>\n",
              "      <td>0</td>\n",
              "    </tr>\n",
              "    <tr>\n",
              "      <th>1</th>\n",
              "      <td>Ok lar... Joking wif u oni...</td>\n",
              "      <td>0</td>\n",
              "    </tr>\n",
              "    <tr>\n",
              "      <th>2</th>\n",
              "      <td>Free entry in 2 a wkly comp to win FA Cup fina...</td>\n",
              "      <td>1</td>\n",
              "    </tr>\n",
              "    <tr>\n",
              "      <th>3</th>\n",
              "      <td>U dun say so early hor... U c already then say...</td>\n",
              "      <td>0</td>\n",
              "    </tr>\n",
              "    <tr>\n",
              "      <th>4</th>\n",
              "      <td>Nah I don't think he goes to usf, he lives aro...</td>\n",
              "      <td>0</td>\n",
              "    </tr>\n",
              "  </tbody>\n",
              "</table>\n",
              "</div>"
            ],
            "text/plain": [
              "                                                text  label\n",
              "0  Go until jurong point, crazy.. Available only ...      0\n",
              "1                      Ok lar... Joking wif u oni...      0\n",
              "2  Free entry in 2 a wkly comp to win FA Cup fina...      1\n",
              "3  U dun say so early hor... U c already then say...      0\n",
              "4  Nah I don't think he goes to usf, he lives aro...      0"
            ]
          },
          "execution_count": 3,
          "metadata": {},
          "output_type": "execute_result"
        }
      ],
      "source": [
        "df = pd.read_csv(\n",
        "    \"../data/SpamClassification/preprocessed_spam.csv\",\n",
        "    sep=\",\",\n",
        "    header=0,\n",
        "    index_col=0,\n",
        ")\n",
        "\n",
        "df.head()"
      ]
    },
    {
      "cell_type": "code",
      "execution_count": 4,
      "metadata": {},
      "outputs": [],
      "source": [
        "from sklearn.model_selection import train_test_split\n",
        "\n",
        "dataset = df.to_numpy()\n",
        "\n",
        "X = dataset[:, 0]\n",
        "Y = dataset[:, 1]\n",
        "\n",
        "X_train, X_test, Y_train, Y_test = train_test_split(X, Y, train_size=0.5, random_state=42)"
      ]
    },
    {
      "cell_type": "code",
      "execution_count": 5,
      "metadata": {
        "id": "0zLDJIkxkltq"
      },
      "outputs": [],
      "source": [
        "text_iter = iter(X_train)\n",
        "\n",
        "tokenizer = get_tokenizer(\"basic_english\")\n",
        "\n",
        "\n",
        "def yield_tokens(data_iter):\n",
        "    for text in data_iter:\n",
        "        yield tokenizer(text)\n",
        "\n",
        "\n",
        "vocab = build_vocab_from_iterator(yield_tokens(text_iter), specials=[\"<unk>\", \"<pad>\"])\n",
        "vocab.set_default_index(vocab[\"<unk>\"])\n"
      ]
    },
    {
      "cell_type": "code",
      "execution_count": 6,
      "metadata": {
        "id": "R2mkK9d9nSh3"
      },
      "outputs": [],
      "source": [
        "def add_padding(arr, max_len):\n",
        "\n",
        "  zeros = np.ones(0)\n",
        "  if len(arr) < max_len:\n",
        "    zeros = np.zeros(max_len - len(arr))\n",
        "  arr = np.concatenate((zeros, arr))\n",
        "\n",
        "  return arr"
      ]
    },
    {
      "cell_type": "code",
      "execution_count": 7,
      "metadata": {
        "colab": {
          "base_uri": "https://localhost:8080/"
        },
        "id": "8k3qbjaQkltr",
        "outputId": "65b85297-d043-46dc-bdfb-ff408c804c34"
      },
      "outputs": [
        {
          "name": "stdout",
          "output_type": "stream",
          "text": [
            "212\n"
          ]
        }
      ],
      "source": [
        "max_len = np.max([len(tokenizer(x)) for x in X])\n",
        "print(max_len)\n",
        "\n",
        "text_pipeline = np.vectorize(lambda x: add_padding(vocab(tokenizer(x)), max_len))"
      ]
    },
    {
      "cell_type": "code",
      "execution_count": 8,
      "metadata": {},
      "outputs": [
        {
          "name": "stdout",
          "output_type": "stream",
          "text": [
            "Device cuda is being used\n"
          ]
        }
      ],
      "source": [
        "device = torch.device(\"cuda\" if torch.cuda.is_available() else \"cpu\")\n",
        "print(f'Device {device} is being used')"
      ]
    },
    {
      "cell_type": "code",
      "execution_count": 9,
      "metadata": {
        "colab": {
          "base_uri": "https://localhost:8080/"
        },
        "id": "FTtBjiqFklts",
        "outputId": "74c45c67-55b5-420e-f562-a5fc7b566d2f"
      },
      "outputs": [
        {
          "name": "stdout",
          "output_type": "stream",
          "text": [
            "torch.Size([2786, 212])\n",
            "torch.Size([2786])\n",
            "torch.Size([2786, 212])\n",
            "torch.Size([2786])\n"
          ]
        }
      ],
      "source": [
        "train_inputs = torch.from_numpy(np.array(list(map(text_pipeline, X_train)))).type(torch.LongTensor).to(device)\n",
        "train_targets = torch.from_numpy(Y_train.astype(np.longlong)).type(torch.LongTensor).to(device)\n",
        "test_inputs = torch.from_numpy(np.array(list(map(text_pipeline, X_test)))).type(torch.LongTensor).to(device)\n",
        "test_targets = torch.from_numpy(Y_test.astype(np.longlong)).type(torch.LongTensor).to(device)\n",
        "\n",
        "print(train_inputs.shape)\n",
        "print(train_targets.shape)\n",
        "print(test_inputs.shape)\n",
        "print(test_targets.shape)"
      ]
    },
    {
      "cell_type": "code",
      "execution_count": 10,
      "metadata": {},
      "outputs": [],
      "source": [
        "from torch.utils.data import TensorDataset, DataLoader\n",
        "\n",
        "train_dataset = TensorDataset(train_inputs, train_targets)\n",
        "test_dataset = TensorDataset(test_inputs, test_targets)\n",
        "\n",
        "train_dataloader = DataLoader(\n",
        "    train_dataset,\n",
        "    batch_size=batch_size,\n",
        "    shuffle=True,\n",
        ")\n",
        "test_dataloader = DataLoader(\n",
        "    test_dataset,\n",
        "    batch_size=batch_size,\n",
        ")"
      ]
    },
    {
      "cell_type": "code",
      "execution_count": 11,
      "metadata": {
        "id": "2L6Ljq7Okltu"
      },
      "outputs": [],
      "source": [
        "class CNN(nn.Module):\n",
        "    def __init__(\n",
        "        self,\n",
        "        vocab_size,\n",
        "        embedding_dim,\n",
        "        output_size,\n",
        "    ):\n",
        "        super(CNN, self).__init__()\n",
        "        self.embed = nn.Embedding(\n",
        "            num_embeddings=vocab_size,\n",
        "            embedding_dim=embedding_dim,\n",
        "        )\n",
        "        self.conv1 = nn.Conv1d(\n",
        "            in_channels=embedding_dim,\n",
        "            out_channels=32,\n",
        "            kernel_size=3,\n",
        "            padding=1,\n",
        "        )\n",
        "        self.conv2 = nn.Conv1d(\n",
        "            in_channels=32,\n",
        "            out_channels=64,\n",
        "            kernel_size=3,\n",
        "            padding=1,\n",
        "        )\n",
        "        self.conv3 = nn.Conv1d(\n",
        "            in_channels=64,\n",
        "            out_channels=128,\n",
        "            kernel_size=3,\n",
        "            padding=1,\n",
        "        )\n",
        "        self.fc = nn.Linear(128, output_size)\n",
        "\n",
        "    def forward(self, inputs):\n",
        "        outputs = self.embed(outputs)\n",
        "        outputs = torch.permute(outputs, (0, 2, 1))\n",
        "        \n",
        "        outputs = self.conv1(inputs)\n",
        "        outputs = F.relu(outputs)\n",
        "        outputs = F.max_pool1d(outputs, 2)\n",
        "        outputs = self.conv2(inputs)\n",
        "        outputs = F.relu(outputs)\n",
        "        outputs = F.max_pool1d(outputs, 2)\n",
        "        outputs = self.conv3(inputs)\n",
        "        outputs = F.relu(outputs)\n",
        "        outputs = F.max_pool1d(outputs, 2)\n",
        "        \n",
        "        outputs = torch.permute(outputs, (0, 2, 1))\n",
        "        outputs, _ = torch.max(outputs, dim=1)\n",
        "        \n",
        "        outputs = self.fc(outputs)\n",
        "\n",
        "        return outputs\n"
      ]
    },
    {
      "cell_type": "code",
      "execution_count": 12,
      "metadata": {
        "colab": {
          "base_uri": "https://localhost:8080/"
        },
        "id": "hN55Xby3kltv",
        "outputId": "9694da4f-dd6f-4b9e-dc6f-567185190c2e"
      },
      "outputs": [
        {
          "data": {
            "text/plain": [
              "RNN(\n",
              "  (emb): Embedding(6403, 3)\n",
              "  (rnn): LSTM(3, 5, batch_first=True)\n",
              "  (fc): Linear(in_features=5, out_features=2, bias=True)\n",
              ")"
            ]
          },
          "execution_count": 12,
          "metadata": {},
          "output_type": "execute_result"
        }
      ],
      "source": [
        "model = CNN(\n",
        "    vocab_size=len(vocab),\n",
        "    embedding_dim=embedding_dim,\n",
        "    output_size=2,\n",
        ")\n",
        "\n",
        "model.to(device)"
      ]
    },
    {
      "cell_type": "code",
      "execution_count": 13,
      "metadata": {
        "id": "_LpL8rpakltw"
      },
      "outputs": [],
      "source": [
        "optimizer = torch.optim.Adam(model.parameters(), lr=lr)\n",
        "criterion = nn.CrossEntropyLoss()"
      ]
    },
    {
      "cell_type": "code",
      "execution_count": 14,
      "metadata": {},
      "outputs": [],
      "source": [
        "def validate(dataset, batch_size=128):\n",
        "    dataloader = DataLoader(\n",
        "        dataset=dataset,\n",
        "        batch_size=batch_size,\n",
        "    )\n",
        "\n",
        "    tot_predicted = 0\n",
        "    tot_correct = 0\n",
        "\n",
        "    for inputs, targets in dataloader:\n",
        "        inputs, targets = inputs.to(device), targets.to(device)\n",
        "\n",
        "        tot_predicted += inputs.shape[0]\n",
        "        outputs = model(inputs)\n",
        "\n",
        "        _, predictions = torch.max(outputs, dim=1)\n",
        "\n",
        "        tot_correct += (predictions == targets).sum()\n",
        "\n",
        "    return (tot_correct/tot_predicted)"
      ]
    },
    {
      "cell_type": "code",
      "execution_count": 15,
      "metadata": {
        "id": "qbvoA_Rtkltx"
      },
      "outputs": [],
      "source": [
        "def train(n_epochs=100):\n",
        "\n",
        "    train_losses = np.zeros(n_epochs)\n",
        "    test_losses = np.zeros(n_epochs)\n",
        "    train_accuracies = np.zeros(n_epochs)\n",
        "    test_accuracies = np.zeros(n_epochs)\n",
        "\n",
        "    for it in range(n_epochs):\n",
        "\n",
        "        train_loss = []\n",
        "        test_loss = []\n",
        "\n",
        "        for i, (inputs, targets) in enumerate(train_dataloader):\n",
        "            inputs, targets = inputs.to(device), targets.to(device)\n",
        "            optimizer.zero_grad()\n",
        "\n",
        "            outputs = model(inputs)\n",
        "            loss = criterion(outputs, targets)\n",
        "            loss.backward()\n",
        "            optimizer.step()\n",
        "\n",
        "            train_loss.append(loss.item())\n",
        "\n",
        "        train_losses[it] = np.mean(train_loss)\n",
        "\n",
        "        for i, (inputs, targets) in enumerate(test_dataloader):\n",
        "            inputs, targets = inputs.to(device), targets.to(device)\n",
        "\n",
        "            outputs = model(inputs)\n",
        "            loss = criterion(outputs, targets)\n",
        "            test_loss.append(loss.item())\n",
        "\n",
        "        test_losses[it] = np.mean(test_loss)\n",
        "\n",
        "        train_accuracies[it] = validate(train_dataset, batch_size=batch_size)\n",
        "        test_accuracies[it] = validate(test_dataset, batch_size=batch_size)\n",
        "\n",
        "        print(\n",
        "            f\"Iteration: {it+1:4.0f}/{n_epochs}\\tTrain Loss: {train_losses[it]:.6f}\\tTest Loss: {test_losses[it]:.6f}\\tTrain Accuracy: {train_accuracies[it]:.6f}\\tTest Accuracy: {test_accuracies[it]:.6f}\"\n",
        "        )\n",
        "\n",
        "    return train_losses, test_losses, train_accuracies, test_accuracies\n"
      ]
    },
    {
      "cell_type": "code",
      "execution_count": 16,
      "metadata": {
        "colab": {
          "base_uri": "https://localhost:8080/"
        },
        "id": "Y1F0QJsYkltx",
        "outputId": "22712df2-1cba-4437-bda4-d68590a1c0ce"
      },
      "outputs": [
        {
          "name": "stdout",
          "output_type": "stream",
          "text": [
            "Iteration:    1/100\tTrain Loss: 0.779348\tTest Loss: 0.734350\tTrain Accuracy: 0.134243\tTest Accuracy: 0.136037\n",
            "Iteration:    2/100\tTrain Loss: 0.688318\tTest Loss: 0.637337\tTrain Accuracy: 0.866116\tTest Accuracy: 0.865398\n",
            "Iteration:    3/100\tTrain Loss: 0.587803\tTest Loss: 0.538278\tTrain Accuracy: 0.866475\tTest Accuracy: 0.865398\n",
            "Iteration:    4/100\tTrain Loss: 0.497227\tTest Loss: 0.461625\tTrain Accuracy: 0.866475\tTest Accuracy: 0.865398\n",
            "Iteration:    5/100\tTrain Loss: 0.437276\tTest Loss: 0.418756\tTrain Accuracy: 0.866475\tTest Accuracy: 0.865398\n",
            "Iteration:    6/100\tTrain Loss: 0.407935\tTest Loss: 0.399059\tTrain Accuracy: 0.866475\tTest Accuracy: 0.865398\n",
            "Iteration:    7/100\tTrain Loss: 0.394121\tTest Loss: 0.391058\tTrain Accuracy: 0.866475\tTest Accuracy: 0.865398\n",
            "Iteration:    8/100\tTrain Loss: 0.388731\tTest Loss: 0.387012\tTrain Accuracy: 0.866475\tTest Accuracy: 0.865398\n",
            "Iteration:    9/100\tTrain Loss: 0.385109\tTest Loss: 0.384771\tTrain Accuracy: 0.866475\tTest Accuracy: 0.865398\n",
            "Iteration:   10/100\tTrain Loss: 0.382898\tTest Loss: 0.383041\tTrain Accuracy: 0.866475\tTest Accuracy: 0.865398\n",
            "Iteration:   11/100\tTrain Loss: 0.380812\tTest Loss: 0.381010\tTrain Accuracy: 0.866475\tTest Accuracy: 0.865398\n",
            "Iteration:   12/100\tTrain Loss: 0.377433\tTest Loss: 0.378766\tTrain Accuracy: 0.866475\tTest Accuracy: 0.865398\n",
            "Iteration:   13/100\tTrain Loss: 0.373061\tTest Loss: 0.375570\tTrain Accuracy: 0.866475\tTest Accuracy: 0.865398\n",
            "Iteration:   14/100\tTrain Loss: 0.367287\tTest Loss: 0.370351\tTrain Accuracy: 0.866475\tTest Accuracy: 0.865398\n",
            "Iteration:   15/100\tTrain Loss: 0.356592\tTest Loss: 0.361791\tTrain Accuracy: 0.866475\tTest Accuracy: 0.865398\n",
            "Iteration:   16/100\tTrain Loss: 0.339412\tTest Loss: 0.347883\tTrain Accuracy: 0.867552\tTest Accuracy: 0.865398\n",
            "Iteration:   17/100\tTrain Loss: 0.314492\tTest Loss: 0.327977\tTrain Accuracy: 0.872577\tTest Accuracy: 0.868988\n",
            "Iteration:   18/100\tTrain Loss: 0.282556\tTest Loss: 0.302199\tTrain Accuracy: 0.889088\tTest Accuracy: 0.876884\n",
            "Iteration:   19/100\tTrain Loss: 0.244648\tTest Loss: 0.271434\tTrain Accuracy: 0.911342\tTest Accuracy: 0.886576\n",
            "Iteration:   20/100\tTrain Loss: 0.208495\tTest Loss: 0.241635\tTrain Accuracy: 0.933597\tTest Accuracy: 0.899856\n",
            "Iteration:   21/100\tTrain Loss: 0.184871\tTest Loss: 0.222919\tTrain Accuracy: 0.949031\tTest Accuracy: 0.913855\n",
            "Iteration:   22/100\tTrain Loss: 0.166847\tTest Loss: 0.216057\tTrain Accuracy: 0.955133\tTest Accuracy: 0.917444\n",
            "Iteration:   23/100\tTrain Loss: 0.154157\tTest Loss: 0.203125\tTrain Accuracy: 0.958004\tTest Accuracy: 0.924982\n",
            "Iteration:   24/100\tTrain Loss: 0.143395\tTest Loss: 0.198628\tTrain Accuracy: 0.960517\tTest Accuracy: 0.926418\n",
            "Iteration:   25/100\tTrain Loss: 0.134212\tTest Loss: 0.195449\tTrain Accuracy: 0.964106\tTest Accuracy: 0.931084\n",
            "Iteration:   26/100\tTrain Loss: 0.124765\tTest Loss: 0.188138\tTrain Accuracy: 0.967696\tTest Accuracy: 0.938622\n",
            "Iteration:   27/100\tTrain Loss: 0.117283\tTest Loss: 0.184733\tTrain Accuracy: 0.972003\tTest Accuracy: 0.941852\n",
            "Iteration:   28/100\tTrain Loss: 0.110710\tTest Loss: 0.180087\tTrain Accuracy: 0.973798\tTest Accuracy: 0.944724\n",
            "Iteration:   29/100\tTrain Loss: 0.105040\tTest Loss: 0.174162\tTrain Accuracy: 0.974515\tTest Accuracy: 0.949031\n",
            "Iteration:   30/100\tTrain Loss: 0.099340\tTest Loss: 0.176733\tTrain Accuracy: 0.977387\tTest Accuracy: 0.947595\n",
            "Iteration:   31/100\tTrain Loss: 0.093958\tTest Loss: 0.169733\tTrain Accuracy: 0.979182\tTest Accuracy: 0.951185\n",
            "Iteration:   32/100\tTrain Loss: 0.089118\tTest Loss: 0.169131\tTrain Accuracy: 0.980258\tTest Accuracy: 0.952261\n",
            "Iteration:   33/100\tTrain Loss: 0.084364\tTest Loss: 0.169335\tTrain Accuracy: 0.982053\tTest Accuracy: 0.953697\n",
            "Iteration:   34/100\tTrain Loss: 0.080008\tTest Loss: 0.175473\tTrain Accuracy: 0.979899\tTest Accuracy: 0.952261\n",
            "Iteration:   35/100\tTrain Loss: 0.076783\tTest Loss: 0.168698\tTrain Accuracy: 0.983848\tTest Accuracy: 0.954056\n",
            "Iteration:   36/100\tTrain Loss: 0.072129\tTest Loss: 0.165803\tTrain Accuracy: 0.986001\tTest Accuracy: 0.955492\n",
            "Iteration:   37/100\tTrain Loss: 0.067990\tTest Loss: 0.161481\tTrain Accuracy: 0.986719\tTest Accuracy: 0.956210\n",
            "Iteration:   38/100\tTrain Loss: 0.065569\tTest Loss: 0.162064\tTrain Accuracy: 0.987437\tTest Accuracy: 0.957286\n",
            "Iteration:   39/100\tTrain Loss: 0.061512\tTest Loss: 0.158047\tTrain Accuracy: 0.987796\tTest Accuracy: 0.958363\n",
            "Iteration:   40/100\tTrain Loss: 0.058068\tTest Loss: 0.158178\tTrain Accuracy: 0.988873\tTest Accuracy: 0.958363\n",
            "Iteration:   41/100\tTrain Loss: 0.055630\tTest Loss: 0.155804\tTrain Accuracy: 0.989232\tTest Accuracy: 0.958363\n",
            "Iteration:   42/100\tTrain Loss: 0.053196\tTest Loss: 0.154132\tTrain Accuracy: 0.990309\tTest Accuracy: 0.957645\n",
            "Iteration:   43/100\tTrain Loss: 0.051156\tTest Loss: 0.151065\tTrain Accuracy: 0.990668\tTest Accuracy: 0.958363\n",
            "Iteration:   44/100\tTrain Loss: 0.048819\tTest Loss: 0.155293\tTrain Accuracy: 0.991385\tTest Accuracy: 0.959081\n",
            "Iteration:   45/100\tTrain Loss: 0.046621\tTest Loss: 0.154806\tTrain Accuracy: 0.991385\tTest Accuracy: 0.959081\n",
            "Iteration:   46/100\tTrain Loss: 0.044657\tTest Loss: 0.152179\tTrain Accuracy: 0.992103\tTest Accuracy: 0.958722\n",
            "Iteration:   47/100\tTrain Loss: 0.042990\tTest Loss: 0.150601\tTrain Accuracy: 0.992103\tTest Accuracy: 0.958722\n",
            "Iteration:   48/100\tTrain Loss: 0.040758\tTest Loss: 0.150216\tTrain Accuracy: 0.992462\tTest Accuracy: 0.959081\n",
            "Iteration:   49/100\tTrain Loss: 0.038878\tTest Loss: 0.151882\tTrain Accuracy: 0.992821\tTest Accuracy: 0.958004\n",
            "Iteration:   50/100\tTrain Loss: 0.037142\tTest Loss: 0.153852\tTrain Accuracy: 0.993898\tTest Accuracy: 0.958722\n",
            "Iteration:   51/100\tTrain Loss: 0.035195\tTest Loss: 0.153671\tTrain Accuracy: 0.994257\tTest Accuracy: 0.959799\n",
            "Iteration:   52/100\tTrain Loss: 0.032412\tTest Loss: 0.150823\tTrain Accuracy: 0.995334\tTest Accuracy: 0.960158\n",
            "Iteration:   53/100\tTrain Loss: 0.029936\tTest Loss: 0.152770\tTrain Accuracy: 0.995693\tTest Accuracy: 0.960158\n",
            "Iteration:   54/100\tTrain Loss: 0.028489\tTest Loss: 0.149671\tTrain Accuracy: 0.996411\tTest Accuracy: 0.960517\n",
            "Iteration:   55/100\tTrain Loss: 0.026881\tTest Loss: 0.147600\tTrain Accuracy: 0.996770\tTest Accuracy: 0.961953\n",
            "Iteration:   56/100\tTrain Loss: 0.024602\tTest Loss: 0.151987\tTrain Accuracy: 0.996052\tTest Accuracy: 0.960876\n",
            "Iteration:   57/100\tTrain Loss: 0.023821\tTest Loss: 0.145250\tTrain Accuracy: 0.997128\tTest Accuracy: 0.963029\n",
            "Iteration:   58/100\tTrain Loss: 0.022342\tTest Loss: 0.144602\tTrain Accuracy: 0.997487\tTest Accuracy: 0.963747\n",
            "Iteration:   59/100\tTrain Loss: 0.021405\tTest Loss: 0.144828\tTrain Accuracy: 0.997487\tTest Accuracy: 0.963388\n",
            "Iteration:   60/100\tTrain Loss: 0.020435\tTest Loss: 0.140874\tTrain Accuracy: 0.997846\tTest Accuracy: 0.964824\n",
            "Iteration:   61/100\tTrain Loss: 0.019468\tTest Loss: 0.142599\tTrain Accuracy: 0.998564\tTest Accuracy: 0.965183\n",
            "Iteration:   62/100\tTrain Loss: 0.018475\tTest Loss: 0.144228\tTrain Accuracy: 0.998564\tTest Accuracy: 0.965542\n",
            "Iteration:   63/100\tTrain Loss: 0.017461\tTest Loss: 0.138372\tTrain Accuracy: 0.998564\tTest Accuracy: 0.966619\n",
            "Iteration:   64/100\tTrain Loss: 0.016791\tTest Loss: 0.139339\tTrain Accuracy: 0.998564\tTest Accuracy: 0.966619\n",
            "Iteration:   65/100\tTrain Loss: 0.016899\tTest Loss: 0.139415\tTrain Accuracy: 0.998564\tTest Accuracy: 0.966260\n",
            "Iteration:   66/100\tTrain Loss: 0.016150\tTest Loss: 0.138869\tTrain Accuracy: 0.995334\tTest Accuracy: 0.963029\n",
            "Iteration:   67/100\tTrain Loss: 0.016695\tTest Loss: 0.140692\tTrain Accuracy: 0.998564\tTest Accuracy: 0.968055\n",
            "Iteration:   68/100\tTrain Loss: 0.015044\tTest Loss: 0.138845\tTrain Accuracy: 0.998564\tTest Accuracy: 0.966619\n",
            "Iteration:   69/100\tTrain Loss: 0.014309\tTest Loss: 0.138520\tTrain Accuracy: 0.998564\tTest Accuracy: 0.966619\n",
            "Iteration:   70/100\tTrain Loss: 0.013911\tTest Loss: 0.139188\tTrain Accuracy: 0.998564\tTest Accuracy: 0.966978\n",
            "Iteration:   71/100\tTrain Loss: 0.013557\tTest Loss: 0.139775\tTrain Accuracy: 0.998923\tTest Accuracy: 0.967337\n",
            "Iteration:   72/100\tTrain Loss: 0.013237\tTest Loss: 0.139548\tTrain Accuracy: 0.998923\tTest Accuracy: 0.966978\n",
            "Iteration:   73/100\tTrain Loss: 0.012927\tTest Loss: 0.139171\tTrain Accuracy: 0.998923\tTest Accuracy: 0.966619\n",
            "Iteration:   74/100\tTrain Loss: 0.012981\tTest Loss: 0.139772\tTrain Accuracy: 0.998923\tTest Accuracy: 0.966978\n",
            "Iteration:   75/100\tTrain Loss: 0.012367\tTest Loss: 0.140152\tTrain Accuracy: 0.998923\tTest Accuracy: 0.967696\n",
            "Iteration:   76/100\tTrain Loss: 0.012118\tTest Loss: 0.139868\tTrain Accuracy: 0.998923\tTest Accuracy: 0.966978\n",
            "Iteration:   77/100\tTrain Loss: 0.012149\tTest Loss: 0.140189\tTrain Accuracy: 0.998923\tTest Accuracy: 0.967337\n",
            "Iteration:   78/100\tTrain Loss: 0.011648\tTest Loss: 0.139957\tTrain Accuracy: 0.998923\tTest Accuracy: 0.967337\n",
            "Iteration:   79/100\tTrain Loss: 0.011492\tTest Loss: 0.141021\tTrain Accuracy: 0.998923\tTest Accuracy: 0.967696\n",
            "Iteration:   80/100\tTrain Loss: 0.011249\tTest Loss: 0.140243\tTrain Accuracy: 0.998923\tTest Accuracy: 0.967337\n",
            "Iteration:   81/100\tTrain Loss: 0.011064\tTest Loss: 0.139238\tTrain Accuracy: 0.998923\tTest Accuracy: 0.966978\n",
            "Iteration:   82/100\tTrain Loss: 0.011116\tTest Loss: 0.140143\tTrain Accuracy: 0.998923\tTest Accuracy: 0.966978\n",
            "Iteration:   83/100\tTrain Loss: 0.010646\tTest Loss: 0.138913\tTrain Accuracy: 0.998923\tTest Accuracy: 0.966978\n",
            "Iteration:   84/100\tTrain Loss: 0.010397\tTest Loss: 0.138191\tTrain Accuracy: 0.998923\tTest Accuracy: 0.966978\n",
            "Iteration:   85/100\tTrain Loss: 0.010104\tTest Loss: 0.136537\tTrain Accuracy: 0.998923\tTest Accuracy: 0.967696\n",
            "Iteration:   86/100\tTrain Loss: 0.010546\tTest Loss: 0.149242\tTrain Accuracy: 0.998923\tTest Accuracy: 0.969131\n",
            "Iteration:   87/100\tTrain Loss: 0.009689\tTest Loss: 0.135607\tTrain Accuracy: 0.998923\tTest Accuracy: 0.967337\n",
            "Iteration:   88/100\tTrain Loss: 0.008461\tTest Loss: 0.134400\tTrain Accuracy: 0.999282\tTest Accuracy: 0.967337\n",
            "Iteration:   89/100\tTrain Loss: 0.008341\tTest Loss: 0.134362\tTrain Accuracy: 0.999282\tTest Accuracy: 0.968055\n",
            "Iteration:   90/100\tTrain Loss: 0.007876\tTest Loss: 0.134545\tTrain Accuracy: 0.999282\tTest Accuracy: 0.968413\n",
            "Iteration:   91/100\tTrain Loss: 0.007745\tTest Loss: 0.135119\tTrain Accuracy: 0.999282\tTest Accuracy: 0.968772\n",
            "Iteration:   92/100\tTrain Loss: 0.007608\tTest Loss: 0.135365\tTrain Accuracy: 0.999282\tTest Accuracy: 0.968772\n",
            "Iteration:   93/100\tTrain Loss: 0.007503\tTest Loss: 0.135953\tTrain Accuracy: 0.999282\tTest Accuracy: 0.968772\n",
            "Iteration:   94/100\tTrain Loss: 0.007406\tTest Loss: 0.136351\tTrain Accuracy: 0.999282\tTest Accuracy: 0.969490\n",
            "Iteration:   95/100\tTrain Loss: 0.007302\tTest Loss: 0.135816\tTrain Accuracy: 0.999282\tTest Accuracy: 0.969490\n",
            "Iteration:   96/100\tTrain Loss: 0.007209\tTest Loss: 0.136947\tTrain Accuracy: 0.999282\tTest Accuracy: 0.969490\n",
            "Iteration:   97/100\tTrain Loss: 0.007123\tTest Loss: 0.137097\tTrain Accuracy: 0.999282\tTest Accuracy: 0.969849\n",
            "Iteration:   98/100\tTrain Loss: 0.007044\tTest Loss: 0.137824\tTrain Accuracy: 0.999282\tTest Accuracy: 0.970567\n",
            "Iteration:   99/100\tTrain Loss: 0.006952\tTest Loss: 0.137700\tTrain Accuracy: 0.999282\tTest Accuracy: 0.969849\n",
            "Iteration:  100/100\tTrain Loss: 0.006874\tTest Loss: 0.137890\tTrain Accuracy: 0.999282\tTest Accuracy: 0.970208\n"
          ]
        }
      ],
      "source": [
        "train_losses, test_losses, train_accuracies, test_accuracies = train(n_epochs=n_epochs)\n"
      ]
    },
    {
      "cell_type": "code",
      "execution_count": 17,
      "metadata": {
        "colab": {
          "base_uri": "https://localhost:8080/",
          "height": 282
        },
        "id": "exZOPfdBw0OK",
        "outputId": "a89f9e63-75f2-4e0c-985b-d58db187c283"
      },
      "outputs": [
        {
          "data": {
            "text/plain": [
              "<matplotlib.legend.Legend at 0x2e77f582b60>"
            ]
          },
          "execution_count": 17,
          "metadata": {},
          "output_type": "execute_result"
        },
        {
          "data": {
            "image/png": "[encoded data removed]",
            "text/plain": [
              "<Figure size 432x288 with 1 Axes>"
            ]
          },
          "metadata": {
            "needs_background": "light"
          },
          "output_type": "display_data"
        }
      ],
      "source": [
        "plt.plot(train_losses, label='Train Loss')\n",
        "plt.plot(test_losses, label='Test loss')\n",
        "plt.legend()"
      ]
    },
    {
      "cell_type": "code",
      "execution_count": 18,
      "metadata": {},
      "outputs": [
        {
          "data": {
            "text/plain": [
              "<matplotlib.legend.Legend at 0x2e71ee6ee00>"
            ]
          },
          "execution_count": 18,
          "metadata": {},
          "output_type": "execute_result"
        },
        {
          "data": {
            "image/png": "[encoded data removed]",
            "text/plain": [
              "<Figure size 432x288 with 1 Axes>"
            ]
          },
          "metadata": {
            "needs_background": "light"
          },
          "output_type": "display_data"
        }
      ],
      "source": [
        "plt.plot(train_accuracies, label='Train Accuracy')\n",
        "plt.plot(test_accuracies, label='Test Accuracy')\n",
        "plt.legend()"
      ]
    }
  ],
  "metadata": {
    "colab": {
      "name": "RNN sentiment ananlysis.ipynb",
      "provenance": []
    },
    "kernelspec": {
      "display_name": "Python 3.10.4 ('venv': venv)",
      "language": "python",
      "name": "python3"
    },
    "language_info": {
      "codemirror_mode": {
        "name": "ipython",
        "version": 3
      },
      "file_extension": ".py",
      "mimetype": "text/x-python",
      "name": "python",
      "nbconvert_exporter": "python",
      "pygments_lexer": "ipython3",
      "version": "3.10.4"
    },
    "orig_nbformat": 4,
    "vscode": {
      "interpreter": {
        "hash": "862aaaa3bfdfe0cb3b02e12d68ad12f84f678ba56b93b757d8f1a9844b9ba170"
      }
    }
  },
  "nbformat": 4,
  "nbformat_minor": 0
}
