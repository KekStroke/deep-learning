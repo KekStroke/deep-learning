{
 "cells": [
  {
   "cell_type": "code",
   "execution_count": 1,
   "metadata": {},
   "outputs": [],
   "source": [
    "import torch\n",
    "import torch.nn as nn\n",
    "\n",
    "import numpy as np\n",
    "import matplotlib.pyplot as plt\n",
    "%matplotlib inline"
   ]
  },
  {
   "cell_type": "markdown",
   "metadata": {},
   "source": [
    "#### Creating dummy data that is linearly dependent\n",
    "however contains some noise, so that it would be impossible to build idea line through the data"
   ]
  },
  {
   "cell_type": "code",
   "execution_count": 2,
   "metadata": {},
   "outputs": [],
   "source": [
    "N = 40\n",
    "\n",
    "X = np.random.random(N) * 10 - 5\n",
    "\n",
    "W = 1.5\n",
    "b = -3\n",
    "\n",
    "Y = W * X + b + np.random.randn(N)"
   ]
  },
  {
   "cell_type": "markdown",
   "metadata": {},
   "source": [
    "#### Plotting the data\n",
    "to check if it is really dependent\n",
    "And in fact, it is."
   ]
  },
  {
   "cell_type": "code",
   "execution_count": 3,
   "metadata": {},
   "outputs": [
    {
     "data": {
      "text/plain": [
       "<matplotlib.collections.PathCollection at 0x292af4f35b0>"
      ]
     },
     "execution_count": 3,
     "metadata": {},
     "output_type": "execute_result"
    },
    {
     "data": {
      "image/png": "[encoded data removed]",
      "text/plain": [
       "<Figure size 432x288 with 1 Axes>"
      ]
     },
     "metadata": {
      "needs_background": "light"
     },
     "output_type": "display_data"
    }
   ],
   "source": [
    "fig, axis = plt.subplots()\n",
    "\n",
    "axis.scatter(X, Y)"
   ]
  },
  {
   "cell_type": "markdown",
   "metadata": {},
   "source": [
    "#### Setting up model"
   ]
  },
  {
   "cell_type": "markdown",
   "metadata": {},
   "source": [
    "Converting data to tensors"
   ]
  },
  {
   "cell_type": "code",
   "execution_count": 4,
   "metadata": {},
   "outputs": [],
   "source": [
    "X = X.reshape(N, 1)\n",
    "Y = Y.reshape(N, 1)\n",
    "\n",
    "input_tens = torch.from_numpy(X.astype(np.float32))\n",
    "target = torch.from_numpy(Y.astype(np.float32))"
   ]
  },
  {
   "cell_type": "markdown",
   "metadata": {},
   "source": [
    "Setting up actual linear model"
   ]
  },
  {
   "cell_type": "code",
   "execution_count": 5,
   "metadata": {},
   "outputs": [],
   "source": [
    "model = nn.Linear(1, 1)"
   ]
  },
  {
   "cell_type": "markdown",
   "metadata": {},
   "source": [
    "Setting up loss function criterion and type of optimizer"
   ]
  },
  {
   "cell_type": "code",
   "execution_count": 6,
   "metadata": {},
   "outputs": [],
   "source": [
    "criterion = nn.MSELoss()\n",
    "opt = torch.optim.SGD(model.parameters(), lr=0.01)"
   ]
  },
  {
   "cell_type": "markdown",
   "metadata": {},
   "source": [
    "#### Fitting data to the model\n",
    "This is an iterative process of leaning"
   ]
  },
  {
   "cell_type": "code",
   "execution_count": 7,
   "metadata": {},
   "outputs": [
    {
     "name": "stdout",
     "output_type": "stream",
     "text": [
      "0/29 epoch is running, loss function value: 19.096446990966797\n",
      "5/29 epoch is running, loss function value: 14.198994636535645\n",
      "10/29 epoch is running, loss function value: 11.687081336975098\n",
      "15/29 epoch is running, loss function value: 9.889097213745117\n",
      "20/29 epoch is running, loss function value: 8.442659378051758\n",
      "25/29 epoch is running, loss function value: 7.243273735046387\n",
      "30/29 epoch is running, loss function value: 6.241610050201416\n",
      "35/29 epoch is running, loss function value: 5.403690814971924\n",
      "40/29 epoch is running, loss function value: 4.702483177185059\n",
      "45/29 epoch is running, loss function value: 4.115631580352783\n",
      "50/29 epoch is running, loss function value: 3.6244759559631348\n",
      "55/29 epoch is running, loss function value: 3.213409423828125\n",
      "60/29 epoch is running, loss function value: 2.869372844696045\n",
      "65/29 epoch is running, loss function value: 2.5814356803894043\n",
      "70/29 epoch is running, loss function value: 2.340449810028076\n",
      "75/29 epoch is running, loss function value: 2.1387603282928467\n",
      "80/29 epoch is running, loss function value: 1.9699580669403076\n",
      "85/29 epoch is running, loss function value: 1.8286817073822021\n",
      "90/29 epoch is running, loss function value: 1.710442304611206\n",
      "95/29 epoch is running, loss function value: 1.6114826202392578\n",
      "100/29 epoch is running, loss function value: 1.5286595821380615\n",
      "105/29 epoch is running, loss function value: 1.4593420028686523\n",
      "110/29 epoch is running, loss function value: 1.4013274908065796\n",
      "115/29 epoch is running, loss function value: 1.3527729511260986\n",
      "120/29 epoch is running, loss function value: 1.3121356964111328\n",
      "125/29 epoch is running, loss function value: 1.2781249284744263\n",
      "130/29 epoch is running, loss function value: 1.2496602535247803\n",
      "135/29 epoch is running, loss function value: 1.225836992263794\n",
      "140/29 epoch is running, loss function value: 1.2058982849121094\n",
      "145/29 epoch is running, loss function value: 1.1892110109329224\n",
      "150/29 epoch is running, loss function value: 1.1752445697784424\n",
      "155/29 epoch is running, loss function value: 1.1635557413101196\n",
      "160/29 epoch is running, loss function value: 1.1537725925445557\n",
      "165/29 epoch is running, loss function value: 1.1455849409103394\n",
      "170/29 epoch is running, loss function value: 1.1387325525283813\n",
      "175/29 epoch is running, loss function value: 1.1329971551895142\n",
      "180/29 epoch is running, loss function value: 1.1281970739364624\n",
      "185/29 epoch is running, loss function value: 1.1241799592971802\n",
      "190/29 epoch is running, loss function value: 1.1208178997039795\n",
      "195/29 epoch is running, loss function value: 1.1180036067962646\n",
      "200/29 epoch is running, loss function value: 1.115648865699768\n",
      "205/29 epoch is running, loss function value: 1.1136776208877563\n",
      "210/29 epoch is running, loss function value: 1.112027883529663\n",
      "215/29 epoch is running, loss function value: 1.1106473207473755\n",
      "220/29 epoch is running, loss function value: 1.1094915866851807\n",
      "225/29 epoch is running, loss function value: 1.1085245609283447\n",
      "230/29 epoch is running, loss function value: 1.1077152490615845\n",
      "235/29 epoch is running, loss function value: 1.1070377826690674\n",
      "240/29 epoch is running, loss function value: 1.1064708232879639\n",
      "245/29 epoch is running, loss function value: 1.1059961318969727\n",
      "250/29 epoch is running, loss function value: 1.1055988073349\n",
      "255/29 epoch is running, loss function value: 1.1052666902542114\n",
      "260/29 epoch is running, loss function value: 1.1049883365631104\n",
      "265/29 epoch is running, loss function value: 1.1047556400299072\n",
      "270/29 epoch is running, loss function value: 1.1045608520507812\n",
      "275/29 epoch is running, loss function value: 1.1043976545333862\n",
      "280/29 epoch is running, loss function value: 1.1042612791061401\n",
      "285/29 epoch is running, loss function value: 1.1041468381881714\n",
      "290/29 epoch is running, loss function value: 1.1040512323379517\n",
      "295/29 epoch is running, loss function value: 1.103971242904663\n"
     ]
    }
   ],
   "source": [
    "# we would save our loss function values so we could understand model performance better\n",
    "losses = []\n",
    "\n",
    "# we will run 300 iterations\n",
    "for epoch in range(300):\n",
    "    \n",
    "    # put gradient values to zero since they accumulate while backpropogation is computed \n",
    "    opt.zero_grad()\n",
    "    \n",
    "    # result of forward propagation\n",
    "    output = model(input_tens)\n",
    "    \n",
    "    # calculate the loss function and add it to the list\n",
    "    loss = criterion(output, target)\n",
    "    losses.append(loss.item())\n",
    "    \n",
    "    # backpropogation step. Here partial derivatives and their effect of the model parameters is calculated\n",
    "    loss.backward()\n",
    "    opt.step()\n",
    "    \n",
    "    # print progress of the training\n",
    "    if (epoch % 30 == 0):\n",
    "        print('{}/299 epoch is running, loss function value: {}'.format(epoch, loss))"
   ]
  },
  {
   "cell_type": "markdown",
   "metadata": {},
   "source": [
    "#### Evaluate Performance of the Model\n",
    "Loss graph shows that training went pretty well"
   ]
  },
  {
   "cell_type": "code",
   "execution_count": 8,
   "metadata": {},
   "outputs": [
    {
     "data": {
      "text/plain": [
       "[<matplotlib.lines.Line2D at 0x292b1617e20>]"
      ]
     },
     "execution_count": 8,
     "metadata": {},
     "output_type": "execute_result"
    },
    {
     "data": {
      "image/png": "[encoded data removed]",
      "text/plain": [
       "<Figure size 432x288 with 1 Axes>"
      ]
     },
     "metadata": {
      "needs_background": "light"
     },
     "output_type": "display_data"
    }
   ],
   "source": [
    "plt.plot(losses)"
   ]
  },
  {
   "cell_type": "markdown",
   "metadata": {},
   "source": [
    "Plot acquired line on the data"
   ]
  },
  {
   "cell_type": "code",
   "execution_count": 13,
   "metadata": {},
   "outputs": [
    {
     "data": {
      "text/plain": [
       "[<matplotlib.lines.Line2D at 0x292b37c6e00>]"
      ]
     },
     "execution_count": 13,
     "metadata": {},
     "output_type": "execute_result"
    },
    {
     "data": {
      "image/png": "[encoded data removed]",
      "text/plain": [
       "<Figure size 432x288 with 1 Axes>"
      ]
     },
     "metadata": {
      "needs_background": "light"
     },
     "output_type": "display_data"
    }
   ],
   "source": [
    "plt.scatter(Y, X)\n",
    "plt.plot(model(input_tens).detach().numpy(), X)"
   ]
  },
  {
   "cell_type": "markdown",
   "metadata": {},
   "source": [
    "Compare acquired parameters with true ones"
   ]
  },
  {
   "cell_type": "code",
   "execution_count": 11,
   "metadata": {},
   "outputs": [
    {
     "name": "stdout",
     "output_type": "stream",
     "text": [
      "Parameters: [[1.4028119]], [-3.1486125]\n",
      "Actual Parameters: 1.5, -3\n"
     ]
    }
   ],
   "source": [
    "model_weight = model.weight.detach().numpy()\n",
    "model_bias = model.bias.detach().numpy()\n",
    "\n",
    "print('Parameters: {}, {}'.format(model.weight.detach().numpy(), model.bias.detach().numpy()))\n",
    "print('Actual Parameters: {}, {}'.format(W, b))"
   ]
  }
 ],
 "metadata": {
  "interpreter": {
   "hash": "862aaaa3bfdfe0cb3b02e12d68ad12f84f678ba56b93b757d8f1a9844b9ba170"
  },
  "kernelspec": {
   "display_name": "Python 3.10.4 ('venv': venv)",
   "language": "python",
   "name": "python3"
  },
  "language_info": {
   "codemirror_mode": {
    "name": "ipython",
    "version": 3
   },
   "file_extension": ".py",
   "mimetype": "text/x-python",
   "name": "python",
   "nbconvert_exporter": "python",
   "pygments_lexer": "ipython3",
   "version": "3.10.4"
  },
  "orig_nbformat": 4
 },
 "nbformat": 4,
 "nbformat_minor": 2
}
