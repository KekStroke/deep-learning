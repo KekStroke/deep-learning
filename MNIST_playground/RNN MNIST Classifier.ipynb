{
 "cells": [
  {
   "cell_type": "code",
   "execution_count": 20,
   "metadata": {},
   "outputs": [],
   "source": [
    "import numpy as np\n",
    "import matplotlib.pyplot as plt\n",
    "\n",
    "import torch\n",
    "import torch.nn as nn\n",
    "import torchvision"
   ]
  },
  {
   "cell_type": "code",
   "execution_count": 21,
   "metadata": {},
   "outputs": [],
   "source": [
    "batch_size = 128\n",
    "hidden_layers=512\n",
    "n_epoch = 15\n",
    "cuda = True"
   ]
  },
  {
   "cell_type": "code",
   "execution_count": 22,
   "metadata": {},
   "outputs": [
    {
     "name": "stdout",
     "output_type": "stream",
     "text": [
      "Device: cuda\n"
     ]
    }
   ],
   "source": [
    "device = 'cuda' if torch.cuda.is_available() and cuda else 'cpu'\n",
    "print('Device: {}'.format(device))"
   ]
  },
  {
   "cell_type": "code",
   "execution_count": 23,
   "metadata": {},
   "outputs": [],
   "source": [
    "train_dataset = torchvision.datasets.MNIST(\n",
    "    root=\"data/\",\n",
    "    train=True,\n",
    "    transform=torchvision.transforms.ToTensor(),\n",
    "    download=True,\n",
    ")\n",
    "\n",
    "test_dataset = torchvision.datasets.MNIST(\n",
    "    root=\"data/\",\n",
    "    train=False,\n",
    "    transform=torchvision.transforms.ToTensor(),\n",
    "    download=True,\n",
    ")"
   ]
  },
  {
   "cell_type": "code",
   "execution_count": 24,
   "metadata": {},
   "outputs": [
    {
     "name": "stdout",
     "output_type": "stream",
     "text": [
      "Data shape: torch.Size([60000, 28, 28])\n",
      "Targets shape: torch.Size([60000])\n",
      "Class types amount: 10\n"
     ]
    }
   ],
   "source": [
    "print('Data shape: {}'.format(train_dataset.data.shape))\n",
    "print('Targets shape: {}'.format(train_dataset.targets.shape))\n",
    "print('Class types amount: {}'.format(len(set(train_dataset.targets.numpy()))))"
   ]
  },
  {
   "cell_type": "code",
   "execution_count": 25,
   "metadata": {},
   "outputs": [],
   "source": [
    "from torch.utils.data import DataLoader\n",
    "\n",
    "train_loader = DataLoader(\n",
    "    dataset=train_dataset,\n",
    "    batch_size=batch_size,\n",
    "    shuffle=True,\n",
    ")\n",
    "\n",
    "test_loader = DataLoader(\n",
    "    dataset=test_dataset,\n",
    "    batch_size=batch_size,\n",
    "    shuffle=False,\n",
    ")\n"
   ]
  },
  {
   "cell_type": "code",
   "execution_count": 26,
   "metadata": {},
   "outputs": [],
   "source": [
    "class RNN_MNIST(nn.Module):\n",
    "    def __init__(self, input_size, hidden_size, num_layers, output_size):\n",
    "        super(RNN_MNIST, self).__init__()\n",
    "        self.D = input_size\n",
    "        self.M = hidden_size\n",
    "        self.L = num_layers\n",
    "        self.K = output_size\n",
    "        \n",
    "        self.rnn_layer = nn.LSTM(\n",
    "            input_size=self.D,\n",
    "            hidden_size=self.M,\n",
    "            num_layers=self.L,\n",
    "            batch_first=True,\n",
    "        )\n",
    "        \n",
    "        self.fc = nn.Linear(self.M, self.K)\n",
    "\n",
    "    def forward(self, inputs):\n",
    "        h0 = torch.zeros(self.L, inputs.size(0), self.M).to(device)\n",
    "        c0 = torch.zeros(self.L, inputs.size(0), self.M).to(device)\n",
    "        \n",
    "        outputs, _ = self.rnn_layer(inputs, (h0, c0))\n",
    "        \n",
    "        outputs = self.fc(outputs[:, -1, :])\n",
    "        return outputs\n"
   ]
  },
  {
   "cell_type": "code",
   "execution_count": 27,
   "metadata": {},
   "outputs": [
    {
     "data": {
      "text/plain": [
       "RNN_MNIST(\n",
       "  (rnn_layer): LSTM(28, 128, num_layers=2, batch_first=True)\n",
       "  (fc): Linear(in_features=128, out_features=10, bias=True)\n",
       ")"
      ]
     },
     "execution_count": 27,
     "metadata": {},
     "output_type": "execute_result"
    }
   ],
   "source": [
    "model = RNN_MNIST(\n",
    "    input_size=28,\n",
    "    hidden_size=128,\n",
    "    num_layers=2,\n",
    "    output_size=10,\n",
    ")\n",
    "model.to(device)\n"
   ]
  },
  {
   "cell_type": "code",
   "execution_count": 28,
   "metadata": {},
   "outputs": [],
   "source": [
    "criterion = nn.CrossEntropyLoss()\n",
    "optimizer = torch.optim.Adam(model.parameters())"
   ]
  },
  {
   "cell_type": "code",
   "execution_count": 29,
   "metadata": {},
   "outputs": [],
   "source": [
    "def validate(\n",
    "    model,\n",
    "    dataset,\n",
    "    test_size=256,\n",
    "    batch_size=128,\n",
    "    device='cpu',\n",
    "):\n",
    "    loader = torch.utils.data.DataLoader(\n",
    "        dataset=dataset,\n",
    "        batch_size=batch_size,\n",
    "        shuffle=True,\n",
    "    )\n",
    "    \n",
    "    total_correct = 0\n",
    "    total_tested = 0\n",
    "\n",
    "    for (inputs, targets) in loader:\n",
    "        if total_tested >= test_size:\n",
    "            break\n",
    "        \n",
    "        inputs = inputs.to(device).view(-1, 28, 28)\n",
    "        targets = targets.to(device)\n",
    "\n",
    "        outputs = model(inputs)\n",
    "\n",
    "        _, predictions = torch.max(outputs, 1)\n",
    "        total_correct += sum(predictions == targets)\n",
    "        total_tested += len(targets)\n",
    "\n",
    "    return (total_correct / total_tested).item()\n"
   ]
  },
  {
   "cell_type": "code",
   "execution_count": 30,
   "metadata": {},
   "outputs": [],
   "source": [
    "def train(\n",
    "    model,\n",
    "    criterion,\n",
    "    optimizer,\n",
    "    train_loader,\n",
    "    test_loader,\n",
    "    n_epoch=10,\n",
    "    device=\"cpu\",\n",
    "):\n",
    "    train_losses = []\n",
    "    test_losses = []\n",
    "    train_accuracies = []\n",
    "    test_accuracies = []\n",
    "\n",
    "    for it in range(n_epoch):\n",
    "        \n",
    "        iter_train_loss = []\n",
    "        iter_test_loss = []\n",
    "\n",
    "        for (inputs, targets) in train_loader:\n",
    "            inputs = inputs.to(device).view(-1, 28, 28)\n",
    "            targets = targets.to(device)\n",
    "\n",
    "            outputs = model(inputs)\n",
    "\n",
    "            optimizer.zero_grad()\n",
    "\n",
    "            loss = criterion(outputs, targets)\n",
    "            loss.backward()\n",
    "\n",
    "            optimizer.step()\n",
    "            \n",
    "            iter_train_loss.append(loss.item())\n",
    "\n",
    "        train_losses.append(np.mean(iter_train_loss))\n",
    "\n",
    "        train_accuracies.append(\n",
    "            validate(\n",
    "                model=model,\n",
    "                dataset=train_dataset,\n",
    "                device=device,\n",
    "            )\n",
    "        )\n",
    "\n",
    "        for (inputs, targets) in test_loader:\n",
    "            inputs = inputs.to(device).view(-1, 28, 28)\n",
    "            targets = targets.to(device)\n",
    "\n",
    "            outputs = model(inputs)\n",
    "\n",
    "            loss = criterion(outputs, targets)\n",
    "            \n",
    "            iter_test_loss.append(loss.item())\n",
    "\n",
    "        test_losses.append(np.mean(iter_test_loss))\n",
    "\n",
    "        test_accuracies.append(\n",
    "            validate(\n",
    "                model=model,\n",
    "                dataset=train_dataset,\n",
    "                device=device,\n",
    "            )\n",
    "        )\n",
    "\n",
    "        print(f\"Iteration {it + 1:2.0f}/{n_epoch} \\t Train Loss: {train_losses[-1]:.4f} \\t Test Loss: {test_losses[-1]:.4f}\")\n",
    "\n",
    "    return train_losses, test_losses, train_accuracies, test_accuracies\n"
   ]
  },
  {
   "cell_type": "code",
   "execution_count": 31,
   "metadata": {},
   "outputs": [
    {
     "name": "stdout",
     "output_type": "stream",
     "text": [
      "Iteration  1/15 \t Train Loss: 0.5348 \t Test Loss: 0.1518\n",
      "Iteration  2/15 \t Train Loss: 0.1329 \t Test Loss: 0.1072\n",
      "Iteration  3/15 \t Train Loss: 0.0848 \t Test Loss: 0.0814\n",
      "Iteration  4/15 \t Train Loss: 0.0615 \t Test Loss: 0.0727\n",
      "Iteration  5/15 \t Train Loss: 0.0517 \t Test Loss: 0.0604\n",
      "Iteration  6/15 \t Train Loss: 0.0418 \t Test Loss: 0.0532\n",
      "Iteration  7/15 \t Train Loss: 0.0361 \t Test Loss: 0.0537\n",
      "Iteration  8/15 \t Train Loss: 0.0319 \t Test Loss: 0.0433\n",
      "Iteration  9/15 \t Train Loss: 0.0292 \t Test Loss: 0.0431\n",
      "Iteration 10/15 \t Train Loss: 0.0276 \t Test Loss: 0.0449\n",
      "Iteration 11/15 \t Train Loss: 0.0207 \t Test Loss: 0.0460\n",
      "Iteration 12/15 \t Train Loss: 0.0213 \t Test Loss: 0.0526\n",
      "Iteration 13/15 \t Train Loss: 0.0201 \t Test Loss: 0.0415\n",
      "Iteration 14/15 \t Train Loss: 0.0157 \t Test Loss: 0.0398\n",
      "Iteration 15/15 \t Train Loss: 0.0186 \t Test Loss: 0.0392\n"
     ]
    }
   ],
   "source": [
    "train_losses, test_losses, train_accuracies, test_accuracies = train(\n",
    "    model=model,\n",
    "    criterion=criterion,\n",
    "    optimizer=optimizer,\n",
    "    train_loader=train_loader,\n",
    "    test_loader=test_loader,\n",
    "    n_epoch=n_epoch,\n",
    "    device=device,\n",
    ")\n"
   ]
  },
  {
   "cell_type": "code",
   "execution_count": 32,
   "metadata": {},
   "outputs": [
    {
     "data": {
      "text/plain": [
       "[<matplotlib.lines.Line2D at 0x2cd78fe1900>]"
      ]
     },
     "execution_count": 32,
     "metadata": {},
     "output_type": "execute_result"
    },
    {
     "data": {
      "text/plain": [
       "<Figure size 432x288 with 0 Axes>"
      ]
     },
     "metadata": {},
     "output_type": "display_data"
    },
    {
     "data": {
      "image/png": "[encoded data removed]",
      "text/plain": [
       "<Figure size 432x288 with 1 Axes>"
      ]
     },
     "metadata": {
      "needs_background": "light"
     },
     "output_type": "display_data"
    },
    {
     "data": {
      "image/png": "[encoded data removed]",
      "text/plain": [
       "<Figure size 432x288 with 1 Axes>"
      ]
     },
     "metadata": {
      "needs_background": "light"
     },
     "output_type": "display_data"
    }
   ],
   "source": [
    "plt.figure(1)\n",
    "fig, axes = plt.subplots()\n",
    "axes.plot(train_losses)\n",
    "axes.plot(test_losses)\n",
    "\n",
    "plt.figure(2)\n",
    "fig, axes = plt.subplots()\n",
    "axes.plot(train_accuracies)\n",
    "axes.plot(test_accuracies)"
   ]
  },
  {
   "cell_type": "code",
   "execution_count": 33,
   "metadata": {},
   "outputs": [],
   "source": [
    "from sklearn.metrics import confusion_matrix\n",
    "import itertools\n",
    "\n",
    "\n",
    "def plot_confusion_matrix(\n",
    "    cm, classes, normalize=False, title=\"Confusion Matrix\", cmap=plt.cm.Blues\n",
    "):\n",
    "    \"\"\"\n",
    "    This functions prints and plots Confusion matrix.\n",
    "    Normalization can be applied by setting `normalize=True`.\n",
    "    \"\"\"\n",
    "    if normalize:\n",
    "        cm = cm.astype(\"float\") / cm.sum(axis=1)[:, np.newaxis]\n",
    "        print(\"Normalized confusion matrix\")\n",
    "    else:\n",
    "        print(\"Confusion matrix without normalization\")\n",
    "\n",
    "    print(cm)\n",
    "\n",
    "    plt.imshow(cm, interpolation=\"nearest\", cmap=cmap)\n",
    "    plt.title(title)\n",
    "    plt.colorbar()\n",
    "    tick_marks = np.arange(len(classes))\n",
    "    plt.xticks(tick_marks, classes, rotation=45)\n",
    "    plt.yticks(tick_marks, classes)\n",
    "\n",
    "    fmt = \".2f\" if normalize else \"d\"\n",
    "\n",
    "    thresh = cm.max() / 2.\n",
    "\n",
    "    for i, j in itertools.product(range(cm.shape[0]), range(cm.shape[1])):\n",
    "        plt.text(\n",
    "            j,\n",
    "            i,\n",
    "            format(cm[i, j], fmt),\n",
    "            horizontalalignment=\"center\",\n",
    "            color=\"white\" if cm[i, j] > thresh else \"black\",\n",
    "        )\n",
    "\n",
    "    plt.tight_layout()\n",
    "    plt.ylabel('True label')\n",
    "    plt.xlabel('Predicted label')\n",
    "    plt.show()"
   ]
  },
  {
   "cell_type": "code",
   "execution_count": 34,
   "metadata": {},
   "outputs": [
    {
     "name": "stdout",
     "output_type": "stream",
     "text": [
      "Confusion matrix without normalization\n",
      "[[ 974    0    0    0    0    0    4    1    1    0]\n",
      " [   0 1130    1    1    0    0    2    1    0    0]\n",
      " [   0    0 1026    0    1    0    1    2    2    0]\n",
      " [   0    0    1 1002    0    3    0    1    3    0]\n",
      " [   0    0    0    0  973    0    5    2    0    2]\n",
      " [   0    0    0    7    0  881    1    0    2    1]\n",
      " [   1    4    1    0    1    8  941    0    2    0]\n",
      " [   1    4    7    0    1    0    0 1011    1    3]\n",
      " [   1    0    2    1    0    3    0    3  964    0]\n",
      " [   0    0    0    1   12    4    0    4    2  986]]\n"
     ]
    },
    {
     "data": {
      "image/png": "[encoded data removed]",
      "text/plain": [
       "<Figure size 432x288 with 2 Axes>"
      ]
     },
     "metadata": {
      "needs_background": "light"
     },
     "output_type": "display_data"
    }
   ],
   "source": [
    "x_test = test_dataset.data.numpy()\n",
    "y_test = test_dataset.targets.numpy()\n",
    "p_test = np.array([])\n",
    "for inputs, targets in test_loader:\n",
    "    inputs, targets = inputs.to(device).view(-1, 28, 28), targets.to(device)\n",
    "    \n",
    "    outputs = model(inputs)\n",
    "    \n",
    "    _, predictions = torch.max(outputs, 1)\n",
    "    \n",
    "    p_test = np.concatenate((p_test, predictions.cpu().numpy()))\n",
    "\n",
    "cm = confusion_matrix(y_test, p_test)\n",
    "plot_confusion_matrix(cm, list(range(10)))"
   ]
  }
 ],
 "metadata": {
  "kernelspec": {
   "display_name": "Python 3.10.4 ('venv': venv)",
   "language": "python",
   "name": "python3"
  },
  "language_info": {
   "codemirror_mode": {
    "name": "ipython",
    "version": 3
   },
   "file_extension": ".py",
   "mimetype": "text/x-python",
   "name": "python",
   "nbconvert_exporter": "python",
   "pygments_lexer": "ipython3",
   "version": "3.10.4"
  },
  "orig_nbformat": 4,
  "vscode": {
   "interpreter": {
    "hash": "862aaaa3bfdfe0cb3b02e12d68ad12f84f678ba56b93b757d8f1a9844b9ba170"
   }
  }
 },
 "nbformat": 4,
 "nbformat_minor": 2
}
