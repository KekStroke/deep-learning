{
  "cells": [
    {
      "cell_type": "code",
      "execution_count": 1,
      "metadata": {
        "id": "kxajvanJkltj"
      },
      "outputs": [],
      "source": [
        "import pandas as pd\n",
        "import numpy as np\n",
        "\n",
        "import matplotlib.pyplot as plt\n",
        "\n",
        "import torch\n",
        "import torch.nn as nn\n",
        "import torch.nn.functional as F\n",
        "\n",
        "from datetime import datetime\n"
      ]
    },
    {
      "cell_type": "code",
      "execution_count": 2,
      "metadata": {
        "id": "JDVA0zREkltm"
      },
      "outputs": [],
      "source": [
        "lr = 1e-4\n",
        "batch_size = 512*20\n",
        "n_epochs = 100\n",
        "\n",
        "hidden_size = 1024\n",
        "\n",
        "train_ratio = 0.8\n",
        "\n",
        "embedding_dim = 10\n"
      ]
    },
    {
      "cell_type": "code",
      "execution_count": 3,
      "metadata": {
        "colab": {
          "base_uri": "https://localhost:8080/",
          "height": 237
        },
        "id": "YsIKUX63kltp",
        "outputId": "62ad48f1-70f6-4a35-b815-1b95d103da02"
      },
      "outputs": [
        {
          "data": {
            "text/html": [
              "<div>\n",
              "<style scoped>\n",
              "    .dataframe tbody tr th:only-of-type {\n",
              "        vertical-align: middle;\n",
              "    }\n",
              "\n",
              "    .dataframe tbody tr th {\n",
              "        vertical-align: top;\n",
              "    }\n",
              "\n",
              "    .dataframe thead th {\n",
              "        text-align: right;\n",
              "    }\n",
              "</style>\n",
              "<table border=\"1\" class=\"dataframe\">\n",
              "  <thead>\n",
              "    <tr style=\"text-align: right;\">\n",
              "      <th></th>\n",
              "      <th>userId</th>\n",
              "      <th>movieId</th>\n",
              "      <th>rating</th>\n",
              "      <th>timestamp</th>\n",
              "    </tr>\n",
              "  </thead>\n",
              "  <tbody>\n",
              "    <tr>\n",
              "      <th>0</th>\n",
              "      <td>1</td>\n",
              "      <td>2</td>\n",
              "      <td>3.5</td>\n",
              "      <td>2005-04-02 23:53:47</td>\n",
              "    </tr>\n",
              "    <tr>\n",
              "      <th>1</th>\n",
              "      <td>1</td>\n",
              "      <td>29</td>\n",
              "      <td>3.5</td>\n",
              "      <td>2005-04-02 23:31:16</td>\n",
              "    </tr>\n",
              "    <tr>\n",
              "      <th>2</th>\n",
              "      <td>1</td>\n",
              "      <td>32</td>\n",
              "      <td>3.5</td>\n",
              "      <td>2005-04-02 23:33:39</td>\n",
              "    </tr>\n",
              "    <tr>\n",
              "      <th>3</th>\n",
              "      <td>1</td>\n",
              "      <td>47</td>\n",
              "      <td>3.5</td>\n",
              "      <td>2005-04-02 23:32:07</td>\n",
              "    </tr>\n",
              "    <tr>\n",
              "      <th>4</th>\n",
              "      <td>1</td>\n",
              "      <td>50</td>\n",
              "      <td>3.5</td>\n",
              "      <td>2005-04-02 23:29:40</td>\n",
              "    </tr>\n",
              "  </tbody>\n",
              "</table>\n",
              "</div>"
            ],
            "text/plain": [
              "   userId  movieId  rating            timestamp\n",
              "0       1        2     3.5  2005-04-02 23:53:47\n",
              "1       1       29     3.5  2005-04-02 23:31:16\n",
              "2       1       32     3.5  2005-04-02 23:33:39\n",
              "3       1       47     3.5  2005-04-02 23:32:07\n",
              "4       1       50     3.5  2005-04-02 23:29:40"
            ]
          },
          "execution_count": 3,
          "metadata": {},
          "output_type": "execute_result"
        }
      ],
      "source": [
        "df = pd.read_csv(\n",
        "    \"../../data/MovieRatings/rating.csv\",\n",
        "    sep=\",\",\n",
        "    header=0,\n",
        ")\n",
        "\n",
        "df.head()\n"
      ]
    },
    {
      "cell_type": "code",
      "execution_count": 4,
      "metadata": {},
      "outputs": [],
      "source": [
        "user_ids = df.userId.astype(\"category\").cat.codes.values\n",
        "movie_ids = df.movieId.astype(\"category\").cat.codes.values\n",
        "targets = df[\"rating\"].values - 2.5\n"
      ]
    },
    {
      "cell_type": "code",
      "execution_count": 5,
      "metadata": {},
      "outputs": [
        {
          "name": "stdout",
          "output_type": "stream",
          "text": [
            "Total amount of users: 138493\n",
            "Total amount of movies: 26744\n"
          ]
        }
      ],
      "source": [
        "amount_users = len(set(user_ids))\n",
        "amount_movies = len(set(movie_ids))\n",
        "\n",
        "print(f'Total amount of users: {amount_users}')\n",
        "print(f'Total amount of movies: {amount_movies}')"
      ]
    },
    {
      "cell_type": "code",
      "execution_count": 6,
      "metadata": {},
      "outputs": [],
      "source": [
        "n_samples = df.shape[0]\n",
        "\n",
        "shuffle = np.random.permutation(n_samples)\n",
        "user_ids, movie_ids, targets = user_ids[shuffle], movie_ids[shuffle], targets[shuffle]\n"
      ]
    },
    {
      "cell_type": "code",
      "execution_count": 7,
      "metadata": {},
      "outputs": [
        {
          "name": "stdout",
          "output_type": "stream",
          "text": [
            "Device cuda is being used\n"
          ]
        }
      ],
      "source": [
        "device = torch.device(\"cuda\" if torch.cuda.is_available() else \"cpu\")\n",
        "print(f\"Device {device} is being used\")\n"
      ]
    },
    {
      "cell_type": "code",
      "execution_count": 8,
      "metadata": {},
      "outputs": [],
      "source": [
        "n_to_train = int(n_samples * train_ratio)\n",
        "\n",
        "train_users = user_ids[:n_to_train]\n",
        "test_users = user_ids[n_to_train:]\n",
        "train_movies = movie_ids[:n_to_train]\n",
        "test_movies = movie_ids[n_to_train:]\n",
        "\n",
        "train_targets = targets[:n_to_train]\n",
        "test_targets = targets[n_to_train:]\n",
        "\n",
        "train_data = (train_users, train_movies, train_targets)\n",
        "test_data = (test_users, test_movies, train_targets)"
      ]
    },
    {
      "cell_type": "code",
      "execution_count": 9,
      "metadata": {
        "id": "2L6Ljq7Okltu"
      },
      "outputs": [],
      "source": [
        "class Recommender(nn.Module):\n",
        "    def __init__(\n",
        "        self,\n",
        "        users_num,\n",
        "        movies_num,\n",
        "        embedding_dim,\n",
        "        hidden_size\n",
        "    ):\n",
        "        super(Recommender, self).__init__()\n",
        "        self.embed_user = nn.Embedding(\n",
        "            num_embeddings=users_num,\n",
        "            embedding_dim=embedding_dim,\n",
        "        )\n",
        "        self.embed_movie = nn.Embedding(\n",
        "            num_embeddings=movies_num,\n",
        "            embedding_dim=embedding_dim,\n",
        "        )\n",
        "        \n",
        "        self.fc1 = nn.Linear(2 * embedding_dim, hidden_size)\n",
        "        self.fc2 = nn.Linear(hidden_size, 1)\n",
        "\n",
        "    def forward(self, users, movies):\n",
        "        users_emb = self.embed_user(users)\n",
        "        movies_emb = self.embed_movie(movies)\n",
        "\n",
        "        merged_inp = torch.concat((users_emb, movies_emb), dim=1)\n",
        "        \n",
        "        outputs = self.fc1(merged_inp)\n",
        "        outputs = F.relu(outputs)\n",
        "        \n",
        "        outputs = self.fc2(outputs)\n",
        "\n",
        "        return outputs\n"
      ]
    },
    {
      "cell_type": "code",
      "execution_count": 10,
      "metadata": {
        "id": "qbvoA_Rtkltx"
      },
      "outputs": [],
      "source": [
        "def train_batch(model, criterion, optimizer, train_data, test_data, batch_size=1024, n_epochs=100):\n",
        "    train_users, train_movies, train_targets = train_data\n",
        "    test_users, test_movies, test_targets = test_data\n",
        "\n",
        "    train_losses = np.zeros(n_epochs)\n",
        "    test_losses = np.zeros(n_epochs)\n",
        "\n",
        "    batches_per_epoch_train = int(np.floor(len(train_users) / batch_size))\n",
        "    batches_per_epoch_test = int(np.floor(len(test_users) / batch_size))\n",
        "\n",
        "    start_time = datetime.now()\n",
        "\n",
        "    for it in range(n_epochs):\n",
        "\n",
        "        shuffle = np.random.permutation(len(train_users))\n",
        "        train_users, train_movies, train_targets = (\n",
        "            train_users[shuffle],\n",
        "            train_movies[shuffle],\n",
        "            train_targets[shuffle],\n",
        "        )\n",
        "\n",
        "        train_loss = []\n",
        "\n",
        "        for j in range(batches_per_epoch_train):\n",
        "\n",
        "            users = train_users[j * batch_size : (j + 1) * batch_size]\n",
        "            movies = train_movies[j * batch_size : (j + 1) * batch_size]\n",
        "            targets = train_targets[j * batch_size : (j + 1) * batch_size]\n",
        "\n",
        "            users = torch.from_numpy(users).long()\n",
        "            movies = torch.from_numpy(movies).long()\n",
        "            targets = torch.from_numpy(targets.astype(np.float32))\n",
        "\n",
        "            targets = targets.view(-1, 1)\n",
        "\n",
        "            users = users.to(device)\n",
        "            movies = movies.to(device)\n",
        "            targets = targets.to(device)\n",
        "\n",
        "            optimizer.zero_grad()\n",
        "\n",
        "            outputs = model(users, movies)\n",
        "            loss = criterion(outputs, targets)\n",
        "            loss.backward()\n",
        "            optimizer.step()\n",
        "\n",
        "            train_loss.append(loss.item())\n",
        "\n",
        "        test_loss = []\n",
        "\n",
        "        for j in range(batches_per_epoch_test):\n",
        "\n",
        "            users = test_users[j * batch_size : (j + 1) * batch_size]\n",
        "            movies = test_movies[j * batch_size : (j + 1) * batch_size]\n",
        "            targets = test_targets[j * batch_size : (j + 1) * batch_size]\n",
        "\n",
        "            users = torch.from_numpy(users).long()\n",
        "            movies = torch.from_numpy(movies).long()\n",
        "            targets = torch.from_numpy(targets.astype(np.float32))\n",
        "\n",
        "            targets = targets.view(-1, 1)\n",
        "\n",
        "            users = users.to(device)\n",
        "            movies = movies.to(device)\n",
        "            targets = targets.to(device)\n",
        "\n",
        "            outputs = model(users, movies)\n",
        "            loss = criterion(outputs, targets)\n",
        "            test_loss.append(loss.item())\n",
        "\n",
        "        train_losses[it] = np.mean(train_loss)\n",
        "        test_losses[it] = np.mean(test_loss)\n",
        "\n",
        "    end_time = datetime.now()\n",
        "\n",
        "        # print(\n",
        "        #     f\"Iteration: {it+1:4.0f}/{n_epochs}\\tTrain Loss: {train_losses[it]:.6f}\\tTest Loss: {test_losses[it]:.6f}\\tDuration: {end_time-start_time}\"\n",
        "        # )\n",
        "        \n",
        "    print(\n",
        "        f\"Train Loss: {train_losses[n_epochs-1]:.6f}\\tTest Loss: {test_losses[n_epochs-1]:.6f}\\tDuration: {end_time-start_time}\"\n",
        "    )\n",
        "\n",
        "    return train_losses, test_losses\n"
      ]
    },
    {
      "cell_type": "code",
      "execution_count": 11,
      "metadata": {
        "colab": {
          "base_uri": "https://localhost:8080/"
        },
        "id": "Y1F0QJsYkltx",
        "outputId": "22712df2-1cba-4437-bda4-d68590a1c0ce"
      },
      "outputs": [
        {
          "name": "stdout",
          "output_type": "stream",
          "text": [
            "Train Loss: 1.113972\tTest Loss: 1.124958\tDuration: 0:22:29.509740\n",
            "Train Loss: 1.066537\tTest Loss: 1.142556\tDuration: 0:22:12.065700\n"
          ]
        },
        {
          "data": {
            "image/png": "[encoded data removed]",
            "text/plain": [
              "<Figure size 432x288 with 1 Axes>"
            ]
          },
          "metadata": {
            "needs_background": "light"
          },
          "output_type": "display_data"
        },
        {
          "data": {
            "image/png": "[encoded data removed]",
            "text/plain": [
              "<Figure size 432x288 with 1 Axes>"
            ]
          },
          "metadata": {
            "needs_background": "light"
          },
          "output_type": "display_data"
        }
      ],
      "source": [
        "for i in range(-7, -5):\n",
        "    model = Recommender(\n",
        "        users_num=amount_users,\n",
        "        movies_num=amount_movies,\n",
        "        embedding_dim=embedding_dim,\n",
        "        hidden_size=hidden_size,\n",
        "    )\n",
        "\n",
        "    model.to(device)\n",
        "\n",
        "    optimizer = torch.optim.Adam(model.parameters(), lr=10**i)\n",
        "    criterion = nn.MSELoss()\n",
        "\n",
        "    train_losses, test_losses = train_batch(\n",
        "        model=model,\n",
        "        criterion=criterion,\n",
        "        optimizer=optimizer,\n",
        "        train_data=train_data,\n",
        "        test_data=test_data,\n",
        "        batch_size=batch_size,\n",
        "        n_epochs=n_epochs,\n",
        "    )\n",
        "\n",
        "    plt.figure(i + 10)\n",
        "    plt.title(f\"Loss Graph for Learning Rate {10**i}\")\n",
        "    plt.plot(train_losses, label=\"Train Loss\")\n",
        "    plt.plot(test_losses, label=\"Test loss\")\n",
        "    plt.legend()\n"
      ]
    },
    {
      "cell_type": "markdown",
      "metadata": {},
      "source": [
        "To improve the results you may want to set different initial weights to fc layers"
      ]
    }
  ],
  "metadata": {
    "colab": {
      "name": "RNN sentiment ananlysis.ipynb",
      "provenance": []
    },
    "kernelspec": {
      "display_name": "Python 3.10.4 ('venv': venv)",
      "language": "python",
      "name": "python3"
    },
    "language_info": {
      "codemirror_mode": {
        "name": "ipython",
        "version": 3
      },
      "file_extension": ".py",
      "mimetype": "text/x-python",
      "name": "python",
      "nbconvert_exporter": "python",
      "pygments_lexer": "ipython3",
      "version": "3.10.4"
    },
    "orig_nbformat": 4,
    "vscode": {
      "interpreter": {
        "hash": "862aaaa3bfdfe0cb3b02e12d68ad12f84f678ba56b93b757d8f1a9844b9ba170"
      }
    }
  },
  "nbformat": 4,
  "nbformat_minor": 0
}
