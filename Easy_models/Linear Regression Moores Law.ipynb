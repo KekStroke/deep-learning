{
 "cells": [
  {
   "cell_type": "code",
   "execution_count": 1,
   "metadata": {},
   "outputs": [],
   "source": [
    "import pandas as pd\n",
    "import numpy as np\n",
    "\n",
    "import torch\n",
    "import torch.nn as nn\n",
    "\n",
    "import matplotlib.pyplot as plt\n",
    "%matplotlib inline"
   ]
  },
  {
   "cell_type": "code",
   "execution_count": 2,
   "metadata": {},
   "outputs": [
    {
     "name": "stdout",
     "output_type": "stream",
     "text": [
      "(102, 2)\n"
     ]
    },
    {
     "data": {
      "text/html": [
       "<div>\n",
       "<style scoped>\n",
       "    .dataframe tbody tr th:only-of-type {\n",
       "        vertical-align: middle;\n",
       "    }\n",
       "\n",
       "    .dataframe tbody tr th {\n",
       "        vertical-align: top;\n",
       "    }\n",
       "\n",
       "    .dataframe thead th {\n",
       "        text-align: right;\n",
       "    }\n",
       "</style>\n",
       "<table border=\"1\" class=\"dataframe\">\n",
       "  <thead>\n",
       "    <tr style=\"text-align: right;\">\n",
       "      <th></th>\n",
       "      <th>1</th>\n",
       "      <th>2</th>\n",
       "    </tr>\n",
       "  </thead>\n",
       "  <tbody>\n",
       "    <tr>\n",
       "      <th>0</th>\n",
       "      <td>2,300</td>\n",
       "      <td>1971</td>\n",
       "    </tr>\n",
       "    <tr>\n",
       "      <th>1</th>\n",
       "      <td>3,500</td>\n",
       "      <td>1972</td>\n",
       "    </tr>\n",
       "    <tr>\n",
       "      <th>2</th>\n",
       "      <td>4,500</td>\n",
       "      <td>1974</td>\n",
       "    </tr>\n",
       "    <tr>\n",
       "      <th>3</th>\n",
       "      <td>4,100</td>\n",
       "      <td>1974</td>\n",
       "    </tr>\n",
       "    <tr>\n",
       "      <th>4</th>\n",
       "      <td>5,000</td>\n",
       "      <td>1974</td>\n",
       "    </tr>\n",
       "  </tbody>\n",
       "</table>\n",
       "</div>"
      ],
      "text/plain": [
       "       1     2\n",
       "0  2,300  1971\n",
       "1  3,500  1972\n",
       "2  4,500  1974\n",
       "3  4,100  1974\n",
       "4  5,000  1974"
      ]
     },
     "execution_count": 2,
     "metadata": {},
     "output_type": "execute_result"
    }
   ],
   "source": [
    "df = pd.read_csv('data/Moore/moore.csv', sep='\\t', header=None).iloc[:, [1,2]]\n",
    "print(df.shape)\n",
    "df.head()"
   ]
  },
  {
   "cell_type": "code",
   "execution_count": 3,
   "metadata": {},
   "outputs": [],
   "source": [
    "for index, row in df.iterrows():\n",
    "    idx = row[1].find('[');\n",
    "    if idx != -1 :\n",
    "        row[1] = row[1][:idx]\n",
    "    idx = row[2].find('[');\n",
    "    if idx != -1 :\n",
    "        row[2] = row[2][:idx]\n",
    "    df.iloc[index] = row"
   ]
  },
  {
   "cell_type": "code",
   "execution_count": 4,
   "metadata": {},
   "outputs": [],
   "source": [
    "df[1] = df[1].apply(lambda x : x.replace(',', ''))\n",
    "df = df[df[1].str.isnumeric() & df[2].str.isnumeric()]"
   ]
  },
  {
   "cell_type": "code",
   "execution_count": 5,
   "metadata": {},
   "outputs": [
    {
     "name": "stdout",
     "output_type": "stream",
     "text": [
      "X shape: (100, 1)\n",
      "Y shape: (100, 1)\n"
     ]
    }
   ],
   "source": [
    "dataset = df.values\n",
    "\n",
    "X = dataset[:, 1].reshape(-1, 1).astype(np.float32)\n",
    "Y = dataset[:, 0].reshape(-1 ,1).astype(np.float32)\n",
    "\n",
    "print('X shape: {}'.format(X.shape))\n",
    "print('Y shape: {}'.format(Y.shape))"
   ]
  },
  {
   "cell_type": "code",
   "execution_count": 6,
   "metadata": {},
   "outputs": [
    {
     "data": {
      "text/plain": [
       "<matplotlib.collections.PathCollection at 0x1b0191469b0>"
      ]
     },
     "execution_count": 6,
     "metadata": {},
     "output_type": "execute_result"
    },
    {
     "data": {
      "image/png": "[encoded data removed]",
      "text/plain": [
       "<Figure size 432x288 with 1 Axes>"
      ]
     },
     "metadata": {
      "needs_background": "light"
     },
     "output_type": "display_data"
    }
   ],
   "source": [
    "plt.scatter(X, Y)"
   ]
  },
  {
   "cell_type": "code",
   "execution_count": 7,
   "metadata": {},
   "outputs": [
    {
     "data": {
      "text/plain": [
       "<matplotlib.collections.PathCollection at 0x1b01b24a950>"
      ]
     },
     "execution_count": 7,
     "metadata": {},
     "output_type": "execute_result"
    },
    {
     "data": {
      "image/png": "[encoded data removed]",
      "text/plain": [
       "<Figure size 432x288 with 1 Axes>"
      ]
     },
     "metadata": {
      "needs_background": "light"
     },
     "output_type": "display_data"
    }
   ],
   "source": [
    "Y = np.log(Y)\n",
    "\n",
    "plt.scatter(X, Y)"
   ]
  },
  {
   "cell_type": "code",
   "execution_count": 8,
   "metadata": {},
   "outputs": [
    {
     "name": "stdout",
     "output_type": "stream",
     "text": [
      "X mean: 1999.3499755859375\n",
      "X standard deviation: 13.055553436279297\n",
      "Y mean: 16.869443893432617\n",
      "Y standard deviation: 4.709517478942871\n"
     ]
    }
   ],
   "source": [
    "x_mean = X.mean()\n",
    "print('X mean: {}'.format(x_mean))\n",
    "x_sd = X.std()\n",
    "print('X standard deviation: {}'.format(x_sd))\n",
    "y_mean = Y.mean()\n",
    "print('Y mean: {}'.format(y_mean))\n",
    "y_sd = Y.std()\n",
    "print('Y standard deviation: {}'.format(y_sd))"
   ]
  },
  {
   "cell_type": "code",
   "execution_count": 9,
   "metadata": {},
   "outputs": [],
   "source": [
    "Y = (Y-y_mean)/y_sd\n",
    "X = (X-x_mean)/x_sd"
   ]
  },
  {
   "cell_type": "code",
   "execution_count": 10,
   "metadata": {},
   "outputs": [
    {
     "data": {
      "text/plain": [
       "<matplotlib.collections.PathCollection at 0x1b01b2c2800>"
      ]
     },
     "execution_count": 10,
     "metadata": {},
     "output_type": "execute_result"
    },
    {
     "data": {
      "image/png": "[encoded data removed]",
      "text/plain": [
       "<Figure size 432x288 with 1 Axes>"
      ]
     },
     "metadata": {
      "needs_background": "light"
     },
     "output_type": "display_data"
    }
   ],
   "source": [
    "plt.scatter(X, Y)"
   ]
  },
  {
   "cell_type": "code",
   "execution_count": 11,
   "metadata": {},
   "outputs": [],
   "source": [
    "inp = torch.from_numpy(X)\n",
    "target = torch.from_numpy(Y)"
   ]
  },
  {
   "cell_type": "code",
   "execution_count": 12,
   "metadata": {},
   "outputs": [],
   "source": [
    "model = nn.Linear(1, 1)\n",
    "\n",
    "criterion = nn.MSELoss()\n",
    "optimizer = torch.optim.SGD(model.parameters(), lr=0.05)\n"
   ]
  },
  {
   "cell_type": "code",
   "execution_count": 13,
   "metadata": {},
   "outputs": [],
   "source": [
    "losses = []\n",
    "\n",
    "for epoch in range(1,100):\n",
    "    optimizer.zero_grad()\n",
    "    \n",
    "    output = model(inp)\n",
    "    \n",
    "    loss = criterion(output, target)\n",
    "    losses.append(loss.item())\n",
    "    \n",
    "    loss.backward()\n",
    "    \n",
    "    optimizer.step()    "
   ]
  },
  {
   "cell_type": "code",
   "execution_count": 14,
   "metadata": {},
   "outputs": [
    {
     "data": {
      "text/plain": [
       "[<matplotlib.lines.Line2D at 0x1b01b336350>]"
      ]
     },
     "execution_count": 14,
     "metadata": {},
     "output_type": "execute_result"
    },
    {
     "data": {
      "image/png": "[encoded data removed]",
      "text/plain": [
       "<Figure size 432x288 with 1 Axes>"
      ]
     },
     "metadata": {
      "needs_background": "light"
     },
     "output_type": "display_data"
    }
   ],
   "source": [
    "plt.plot(losses)"
   ]
  },
  {
   "cell_type": "code",
   "execution_count": 15,
   "metadata": {},
   "outputs": [
    {
     "data": {
      "text/plain": [
       "<matplotlib.collections.PathCollection at 0x1b01b39dd20>"
      ]
     },
     "execution_count": 15,
     "metadata": {},
     "output_type": "execute_result"
    },
    {
     "data": {
      "image/png": "[encoded data removed]",
      "text/plain": [
       "<Figure size 432x288 with 1 Axes>"
      ]
     },
     "metadata": {
      "needs_background": "light"
     },
     "output_type": "display_data"
    }
   ],
   "source": [
    "predicted = model(inp).detach().numpy()\n",
    "\n",
    "plt.plot(X, predicted)\n",
    "plt.scatter(X, Y, c='r')"
   ]
  },
  {
   "cell_type": "code",
   "execution_count": 16,
   "metadata": {},
   "outputs": [
    {
     "name": "stdout",
     "output_type": "stream",
     "text": [
      "weight: [[0.97584105]]\n",
      "bias: [-1.4133424e-05]\n"
     ]
    }
   ],
   "source": [
    "weight = model.weight.data.numpy()\n",
    "bias = model.bias.data.numpy()\n",
    "\n",
    "print('weight: {}'.format(weight))\n",
    "print('bias: {}'.format(bias))\n"
   ]
  },
  {
   "cell_type": "markdown",
   "metadata": {},
   "source": [
    "$$ C = C_0r^t $$\n",
    "$$ \\log{C} = \\log{r}*t + \\log{C_0} $$\n",
    "$$ y' = a*x' + b $$\n",
    "$$ y' = \\frac{y-\\mu_y}{\\sigma_y} \\qquad x' = \\frac{x-\\mu_x}{\\sigma_x} $$\n",
    "$$ \\frac{y-\\mu_y}{\\sigma_y} = a * \\frac{x-\\mu_x}{\\sigma_x} + b $$\n",
    "$$ y = a * \\frac{x*\\sigma_y-\\mu_x*\\sigma_y}{\\sigma_x} + b*\\sigma_y + \\mu_y$$\n",
    "$$ y = a * \\frac{\\sigma_y}{\\sigma_x}*x-\\frac{\\mu_x*\\sigma_y}{\\sigma_x} + b*\\sigma_y + \\mu_y$$\n",
    "\n",
    "$$ y = \\log{C} $$\n",
    "$$ \\log{r} = a * \\frac{\\sigma_y}{\\sigma_x} $$\n",
    "$$ r = e^{a\\frac{\\sigma_y}{\\sigma_x}} $$\n",
    "where *a* is our **weight**"
   ]
  },
  {
   "cell_type": "code",
   "execution_count": 17,
   "metadata": {},
   "outputs": [
    {
     "name": "stdout",
     "output_type": "stream",
     "text": [
      "r: 1.4219287633895874\n"
     ]
    }
   ],
   "source": [
    "a = weight[0,0]*y_sd/x_sd\n",
    "r = np.exp(a)\n",
    "print('r: {}'.format(r))"
   ]
  },
  {
   "cell_type": "markdown",
   "metadata": {},
   "source": [
    "I've used already given formula to get the actual trend\n",
    "\n",
    "// TODO calculate the trend by hands"
   ]
  },
  {
   "cell_type": "code",
   "execution_count": 18,
   "metadata": {},
   "outputs": [
    {
     "name": "stdout",
     "output_type": "stream",
     "text": [
      "The cost doubles every 1.969 years\n"
     ]
    }
   ],
   "source": [
    "print('The cost doubles every {:.3f} years'.format(np.log(2)/a))"
   ]
  }
 ],
 "metadata": {
  "interpreter": {
   "hash": "862aaaa3bfdfe0cb3b02e12d68ad12f84f678ba56b93b757d8f1a9844b9ba170"
  },
  "kernelspec": {
   "display_name": "Python 3.10.4 ('venv': venv)",
   "language": "python",
   "name": "python3"
  },
  "language_info": {
   "codemirror_mode": {
    "name": "ipython",
    "version": 3
   },
   "file_extension": ".py",
   "mimetype": "text/x-python",
   "name": "python",
   "nbconvert_exporter": "python",
   "pygments_lexer": "ipython3",
   "version": "3.10.4"
  },
  "orig_nbformat": 4
 },
 "nbformat": 4,
 "nbformat_minor": 2
}
