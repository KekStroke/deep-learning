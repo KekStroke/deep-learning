{
  "cells": [
    {
      "cell_type": "code",
      "execution_count": 1,
      "metadata": {
        "id": "GXysj8Q16tMn"
      },
      "outputs": [],
      "source": [
        "import os\n",
        "import os.path\n",
        "import shutil\n",
        "import torch\n",
        "from torch.autograd import Variable\n",
        "from torch.utils.data import DataLoader\n",
        "from torch.utils.data.dataloader import default_collate\n",
        "from torch.nn import init\n",
        "\n",
        "\n",
        "def get_data_loader(dataset, batch_size, cuda=False, collate_fn=None):\n",
        "\n",
        "    return DataLoader(\n",
        "        dataset,\n",
        "        batch_size=batch_size,\n",
        "        shuffle=True,\n",
        "        collate_fn=(collate_fn or default_collate),\n",
        "        # **({\"num_workers\": 2, \"pin_memory\": True} if cuda else {})\n",
        "    )\n",
        "\n",
        "\n",
        "def save_checkpoint(model, model_dir, epoch, precision, best=True):\n",
        "    path = os.path.join(model_dir, model.name)\n",
        "    path_best = os.path.join(model_dir, \"{}-best\".format(model.name))\n",
        "\n",
        "    # save the checkpoint.\n",
        "    if not os.path.exists(model_dir):\n",
        "        os.makedirs(model_dir)\n",
        "    torch.save(\n",
        "        {\n",
        "            \"state\": model.state_dict(),\n",
        "            \"epoch\": epoch,\n",
        "            \"precision\": precision,\n",
        "        },\n",
        "        path,\n",
        "    )\n",
        "\n",
        "    # override the best model if it's the best.\n",
        "    if best:\n",
        "        shutil.copy(path, path_best)\n",
        "        print(\n",
        "            \"=> updated the best model of {name} at {path}\".format(\n",
        "                name=model.name, path=path_best\n",
        "            )\n",
        "        )\n",
        "\n",
        "    # notify that we successfully saved the checkpoint.\n",
        "    print(\"=> saved the model {name} to {path}\".format(name=model.name, path=path))\n",
        "\n",
        "\n",
        "def load_checkpoint(model, model_dir, best=True):\n",
        "    path = os.path.join(model_dir, model.name)\n",
        "    path_best = os.path.join(model_dir, \"{}-best\".format(model.name))\n",
        "\n",
        "    # load the checkpoint.\n",
        "    checkpoint = torch.load(path_best if best else path)\n",
        "    print(\n",
        "        \"=> loaded checkpoint of {name} from {path}\".format(\n",
        "            name=model.name, path=(path_best if best else path)\n",
        "        )\n",
        "    )\n",
        "\n",
        "    # load parameters and return the checkpoint's epoch and precision.\n",
        "    model.load_state_dict(checkpoint[\"state\"])\n",
        "    epoch = checkpoint[\"epoch\"]\n",
        "    precision = checkpoint[\"precision\"]\n",
        "    return epoch, precision\n",
        "\n",
        "\n",
        "def validate(model, dataset, test_size=256, batch_size=32, cuda=False, verbose=True):\n",
        "    mode = model.training\n",
        "    model.train(mode=False)\n",
        "    data_loader = get_data_loader(dataset, batch_size, cuda=cuda)\n",
        "    total_tested = 0\n",
        "    total_correct = 0\n",
        "    for x, y in data_loader:\n",
        "        # break on test size.\n",
        "        if total_tested >= test_size:\n",
        "            break\n",
        "        # test the model.\n",
        "        x = x.view(batch_size, -1)\n",
        "        x = Variable(x).cuda() if cuda else Variable(x)\n",
        "        y = Variable(y).cuda() if cuda else Variable(y)\n",
        "        scores = model(x)\n",
        "        _, predicted = scores.max(1)\n",
        "        # update statistics.\n",
        "        total_correct += int((predicted == y).sum())\n",
        "        total_tested += len(x)\n",
        "    model.train(mode=mode)\n",
        "    precision = total_correct / total_tested\n",
        "    if verbose:\n",
        "        print(\"=> precision: {:.3f}\".format(precision))\n",
        "    return precision\n",
        "\n",
        "\n",
        "def xavier_initialize(model):\n",
        "    modules = [m for n, m in model.named_modules() if \"conv\" in n or \"linear\" in n]\n",
        "\n",
        "    parameters = [p for m in modules for p in m.parameters() if p.dim() >= 2]\n",
        "\n",
        "    for p in parameters:\n",
        "        init.xavier_normal(p)\n",
        "\n",
        "\n",
        "def gaussian_intiailize(model, std=0.1):\n",
        "    for p in model.parameters():\n",
        "        init.normal(p, std=std)\n"
      ]
    },
    {
      "cell_type": "code",
      "execution_count": 2,
      "metadata": {
        "id": "8WtUGlNV6ZTW"
      },
      "outputs": [],
      "source": [
        "from functools import reduce\n",
        "import torch\n",
        "from torch import nn\n",
        "from torch.nn import functional as F\n",
        "from torch import autograd\n",
        "from torch.autograd import Variable\n",
        "\n",
        "\n",
        "class MLP(nn.Module):\n",
        "    def __init__(self, input_size, output_size,\n",
        "                 hidden_size=400,\n",
        "                 hidden_layer_num=2,\n",
        "                 hidden_dropout_prob=.5,\n",
        "                 input_dropout_prob=.2,\n",
        "                 lamda=40):\n",
        "        # Configurations.\n",
        "        super().__init__()\n",
        "        self.input_size = input_size\n",
        "        self.input_dropout_prob = input_dropout_prob\n",
        "        self.hidden_size = hidden_size\n",
        "        self.hidden_layer_num = hidden_layer_num\n",
        "        self.hidden_dropout_prob = hidden_dropout_prob\n",
        "        self.output_size = output_size\n",
        "        self.lamda = lamda\n",
        "\n",
        "        # Layers.\n",
        "        self.layers = nn.ModuleList([\n",
        "            # input\n",
        "            nn.Linear(self.input_size, self.hidden_size), nn.ReLU(),\n",
        "            nn.Dropout(self.input_dropout_prob),\n",
        "            # hidden\n",
        "            *((nn.Linear(self.hidden_size, self.hidden_size), nn.ReLU(),\n",
        "               nn.Dropout(self.hidden_dropout_prob)) * self.hidden_layer_num),\n",
        "            # output\n",
        "            nn.Linear(self.hidden_size, self.output_size)\n",
        "        ])\n",
        "\n",
        "    @property\n",
        "    def name(self):\n",
        "        return (\n",
        "            'MLP'\n",
        "            '-lambda{lamda}'\n",
        "            '-in{input_size}-out{output_size}'\n",
        "            '-h{hidden_size}x{hidden_layer_num}'\n",
        "            '-dropout_in{input_dropout_prob}_hidden{hidden_dropout_prob}'\n",
        "        ).format(\n",
        "            lamda=self.lamda,\n",
        "            input_size=self.input_size,\n",
        "            output_size=self.output_size,\n",
        "            hidden_size=self.hidden_size,\n",
        "            hidden_layer_num=self.hidden_layer_num,\n",
        "            input_dropout_prob=self.input_dropout_prob,\n",
        "            hidden_dropout_prob=self.hidden_dropout_prob,\n",
        "        )\n",
        "\n",
        "    def forward(self, x):\n",
        "        return reduce(lambda x, l: l(x), self.layers, x)\n",
        "\n",
        "    def estimate_fisher(self, dataset, sample_size, batch_size=32):\n",
        "        # sample loglikelihoods from the dataset.\n",
        "        data_loader = get_data_loader(dataset, batch_size)\n",
        "        loglikelihoods = []\n",
        "        for x, y in data_loader:\n",
        "            x = x.view(batch_size, -1)\n",
        "            x = Variable(x).cuda() if self._is_on_cuda() else Variable(x)\n",
        "            y = Variable(y).cuda() if self._is_on_cuda() else Variable(y)\n",
        "            loglikelihoods.append(\n",
        "                F.log_softmax(self(x), dim=1)[range(batch_size), y.data]\n",
        "            )\n",
        "            if len(loglikelihoods) >= sample_size // batch_size:\n",
        "                break\n",
        "        # estimate the fisher information of the parameters.\n",
        "        loglikelihoods = torch.cat(loglikelihoods).unbind()\n",
        "        loglikelihood_grads = zip(*[autograd.grad(\n",
        "            l, self.parameters(),\n",
        "            retain_graph=(i < len(loglikelihoods))\n",
        "        ) for i, l in enumerate(loglikelihoods, 1)])\n",
        "        loglikelihood_grads = [torch.stack(gs) for gs in loglikelihood_grads]\n",
        "        fisher_diagonals = [(g ** 2).mean(0) for g in loglikelihood_grads]\n",
        "        param_names = [\n",
        "            n.replace('.', '__') for n, p in self.named_parameters()\n",
        "        ]\n",
        "        return {n: f.detach() for n, f in zip(param_names, fisher_diagonals)}\n",
        "\n",
        "    def consolidate(self, fisher):\n",
        "        for n, p in self.named_parameters():\n",
        "            n = n.replace('.', '__')\n",
        "            self.register_buffer('{}_mean'.format(n), p.data.clone())\n",
        "            self.register_buffer('{}_fisher'\n",
        "                                 .format(n), fisher[n].data.clone())\n",
        "\n",
        "    def ewc_loss(self, cuda=False):\n",
        "        try:\n",
        "            losses = []\n",
        "            for n, p in self.named_parameters():\n",
        "                # retrieve the consolidated mean and fisher information.\n",
        "                n = n.replace('.', '__')\n",
        "                mean = getattr(self, '{}_mean'.format(n))\n",
        "                fisher = getattr(self, '{}_fisher'.format(n))\n",
        "                # wrap mean and fisher in variables.\n",
        "                mean = Variable(mean)\n",
        "                fisher = Variable(fisher)\n",
        "                # calculate a ewc loss. (assumes the parameter's prior as\n",
        "                # gaussian distribution with the estimated mean and the\n",
        "                # estimated cramer-rao lower bound variance, which is\n",
        "                # equivalent to the inverse of fisher information)\n",
        "                losses.append((fisher * (p-mean)**2).sum())\n",
        "            return (self.lamda/2)*sum(losses)\n",
        "        except AttributeError:\n",
        "            # ewc loss is 0 if there's no consolidated parameters.\n",
        "            return (\n",
        "                Variable(torch.zeros(1)).cuda() if cuda else\n",
        "                Variable(torch.zeros(1))\n",
        "            )\n",
        "\n",
        "    def _is_on_cuda(self):\n",
        "        return next(self.parameters()).is_cuda\n"
      ]
    },
    {
      "cell_type": "code",
      "execution_count": 3,
      "metadata": {
        "id": "dQ4Bp9Y06dev"
      },
      "outputs": [],
      "source": [
        "from torch import optim\n",
        "from torch import nn\n",
        "from torch.autograd import Variable\n",
        "from tqdm import tqdm\n",
        "\n",
        "import matplotlib.pyplot as plt\n",
        "\n",
        "def train(model, train_datasets, test_datasets, epochs_per_task=10,\n",
        "          batch_size=64, test_size=1024, consolidate=True,\n",
        "          fisher_estimation_sample_size=1024,\n",
        "          lr=1e-3, weight_decay=1e-5,\n",
        "          loss_log_interval=30,\n",
        "          eval_log_interval=50,\n",
        "          cuda=False):\n",
        "    # prepare the loss criteriton and the optimizer.\n",
        "    criteriton = nn.CrossEntropyLoss()\n",
        "    optimizer = optim.SGD(model.parameters(), lr=lr,\n",
        "                          weight_decay=weight_decay)\n",
        "    \n",
        "    # set the model's mode to training mode.\n",
        "    model.train()\n",
        "\n",
        "    test_accuracies = np.zeros((len(train_datasets), sum([\n",
        "                    epochs_per_task * len(d) // batch_size for d in\n",
        "                    train_datasets[:]\n",
        "                ])))\n",
        "\n",
        "    for task, train_dataset in enumerate(train_datasets, 1):\n",
        "        for epoch in range(1, epochs_per_task+1):\n",
        "            # prepare the data loaders.\n",
        "            data_loader = get_data_loader(\n",
        "                train_dataset, batch_size=batch_size,\n",
        "                cuda=cuda\n",
        "            )\n",
        "            data_stream = tqdm(enumerate(data_loader, 1))\n",
        "\n",
        "            for batch_index, (x, y) in data_stream:\n",
        "                # where are we?\n",
        "                data_size = len(x)\n",
        "                dataset_size = len(data_loader.dataset)\n",
        "                dataset_batches = len(data_loader)\n",
        "                previous_task_iteration = sum([\n",
        "                    epochs_per_task * len(d) // batch_size for d in\n",
        "                    train_datasets[:task-1]\n",
        "                ])\n",
        "                current_task_iteration = (\n",
        "                    (epoch-1)*dataset_batches + batch_index\n",
        "                )\n",
        "                iteration = (\n",
        "                    previous_task_iteration +\n",
        "                    current_task_iteration\n",
        "                )\n",
        "\n",
        "                # prepare the data.\n",
        "                x = x.view(data_size, -1)\n",
        "                x = Variable(x).cuda() if cuda else Variable(x)\n",
        "                y = Variable(y).cuda() if cuda else Variable(y)\n",
        "\n",
        "                # run the model and backpropagate the errors.\n",
        "                optimizer.zero_grad()\n",
        "                scores = model(x)\n",
        "                ce_loss = criteriton(scores, y)\n",
        "                ewc_loss = model.ewc_loss(cuda=cuda)\n",
        "                loss = ce_loss + ewc_loss\n",
        "                loss.backward()\n",
        "                optimizer.step()\n",
        "\n",
        "                # calculate the training precision.\n",
        "                _, predicted = scores.max(1)\n",
        "                precision = (predicted == y).sum().float() / len(x)\n",
        "\n",
        "                data_stream.set_description((\n",
        "                    '=> '\n",
        "                    'task: {task}/{tasks} | '\n",
        "                    'epoch: {epoch}/{epochs} | '\n",
        "                    'progress: [{trained}/{total}] ({progress:.0f}%) | '\n",
        "                    'prec: {prec:.4} | '\n",
        "                    'loss => '\n",
        "                    'ce: {ce_loss:.4} / '\n",
        "                    'ewc: {ewc_loss:.4} / '\n",
        "                    'total: {loss:.4}'\n",
        "                ).format(\n",
        "                    task=task,\n",
        "                    tasks=len(train_datasets),\n",
        "                    epoch=epoch,\n",
        "                    epochs=epochs_per_task,\n",
        "                    trained=batch_index*batch_size,\n",
        "                    total=dataset_size,\n",
        "                    progress=(100.*batch_index/dataset_batches),\n",
        "                    prec=float(precision),\n",
        "                    ce_loss=float(ce_loss),\n",
        "                    ewc_loss=float(ewc_loss),\n",
        "                    loss=float(loss),\n",
        "                ))\n",
        "\n",
        "                \n",
        "                \n",
        "\n",
        "                # names = [\n",
        "                #     'task {}'.format(i+1) for i in\n",
        "                #     range(len(train_datasets))\n",
        "                # ]\n",
        "                precs = [\n",
        "                    validate(\n",
        "                        model, test_datasets[i], test_size=test_size,\n",
        "                        cuda=cuda, verbose=False,\n",
        "                    ) if i+1 <= task else 0 for i in\n",
        "                    range(len(train_datasets))\n",
        "                ]\n",
        "\n",
        "                test_accuracies[:, iteration-2] = precs\n",
        "\n",
        "                # title = (\n",
        "                #     'precision (consolidated)' if consolidate else\n",
        "                #     'precision'\n",
        "                # )\n",
        "                # visual.visualize_scalars(\n",
        "                #     vis, precs, names, title,\n",
        "                #     iteration\n",
        "                # )\n",
        "\n",
        "                # title = 'loss (consolidated)' if consolidate else 'loss'\n",
        "                # visual.visualize_scalars(\n",
        "                #     vis,\n",
        "                #     [loss, ce_loss, ewc_loss],\n",
        "                #     ['total', 'cross entropy', 'ewc'],\n",
        "                #     title, iteration\n",
        "                # )\n",
        "\n",
        "        if consolidate and task < len(train_datasets):\n",
        "            # estimate the fisher information of the parameters and consolidate\n",
        "            # them in the network.\n",
        "            print(\n",
        "                '=> Estimating diagonals of the fisher information matrix...',\n",
        "                flush=True, end='',\n",
        "            )\n",
        "            model.consolidate(model.estimate_fisher(\n",
        "                train_dataset, fisher_estimation_sample_size\n",
        "            ))\n",
        "            print(' Done!')\n",
        "    \n",
        "    return test_accuracies"
      ]
    },
    {
      "cell_type": "code",
      "execution_count": 4,
      "metadata": {
        "id": "gRE5TpKGAux5"
      },
      "outputs": [],
      "source": [
        "from torchvision import datasets, transforms\n",
        "\n",
        "\n",
        "def _permutate_image_pixels(image, permutation):\n",
        "    if permutation is None:\n",
        "        return image\n",
        "\n",
        "    c, h, w = image.size()\n",
        "    image = image.view(-1, c)\n",
        "    image = image[permutation, :]\n",
        "    image.view(c, h, w)\n",
        "    return image\n",
        "\n",
        "\n",
        "def get_dataset(name, train=True, download=True, permutation=None):\n",
        "    dataset_class = AVAILABLE_DATASETS[name]\n",
        "    dataset_transform = transforms.Compose([\n",
        "        *AVAILABLE_TRANSFORMS[name],\n",
        "        transforms.Lambda(lambda x: _permutate_image_pixels(x, permutation)),\n",
        "    ])\n",
        "\n",
        "    return dataset_class(\n",
        "        '../data/{name}'.format(name=name), train=train,\n",
        "        download=download, transform=dataset_transform,\n",
        "    )\n",
        "\n",
        "\n",
        "AVAILABLE_DATASETS = {\n",
        "    'mnist': datasets.MNIST\n",
        "}\n",
        "\n",
        "AVAILABLE_TRANSFORMS = {\n",
        "    'mnist': [\n",
        "        transforms.ToTensor(),\n",
        "        transforms.ToPILImage(),\n",
        "        transforms.Pad(2),\n",
        "        transforms.ToTensor(),\n",
        "        transforms.Normalize((0.1307,), (0.3081,)),\n",
        "    ]\n",
        "}\n",
        "\n",
        "DATASET_CONFIGS = {\n",
        "    'mnist': {'size': 32, 'channels': 1, 'classes': 10}\n",
        "}\n"
      ]
    },
    {
      "cell_type": "code",
      "execution_count": 16,
      "metadata": {
        "id": "2cAUbX7i_gKB"
      },
      "outputs": [],
      "source": [
        "hidden_size = 400\n",
        "hidden_layer_num = 2\n",
        "hidden_dropout_prob=.5\n",
        "input_dropout_prob=.2\n",
        "task_number=8\n",
        "epochs_per_task=3\n",
        "lamda=80\n",
        "lr=1e-1\n",
        "weight_decay=0\n",
        "batch_size=128\n",
        "test_size=1024\n",
        "fisher_estimation_sample_size=1024/4\n",
        "random_seed=0\n",
        "cuda=True\n",
        "eval_log_interval=250\n",
        "loss_log_interval=250\n",
        "consolidate=True"
      ]
    },
    {
      "cell_type": "code",
      "execution_count": 17,
      "metadata": {
        "id": "XIIr6ib76NTF"
      },
      "outputs": [],
      "source": [
        "import numpy as np\n",
        "import torch\n",
        "\n",
        "# decide whether to use cuda or not.\n",
        "cuda = torch.cuda.is_available()\n",
        "\n",
        "# generate permutations for the tasks.\n",
        "np.random.seed(random_seed)\n",
        "permutations = [\n",
        "    np.random.permutation(DATASET_CONFIGS['mnist']['size']**2) for\n",
        "    _ in range(task_number)\n",
        "]\n",
        "\n",
        "# prepare mnist datasets.\n",
        "train_datasets = [\n",
        "    get_dataset('mnist', permutation=p) for p in permutations\n",
        "]\n",
        "test_datasets = [\n",
        "    get_dataset('mnist', train=False, permutation=p) for p in permutations\n",
        "]"
      ]
    },
    {
      "cell_type": "code",
      "execution_count": 18,
      "metadata": {
        "colab": {
          "base_uri": "https://localhost:8080/"
        },
        "id": "3cwyQ_cwBHtf",
        "outputId": "462d19ac-eaa6-437c-b202-906e20c4b7be"
      },
      "outputs": [
        {
          "name": "stderr",
          "output_type": "stream",
          "text": [
            "=> task: 1/8 | epoch: 1/3 | progress: [60032/60000] (100%) | prec: 0.9062 | loss => ce: 0.3069 / ewc: 0.0 / total: 0.3069: : 469it [04:48,  1.62it/s]\n",
            "=> task: 1/8 | epoch: 2/3 | progress: [60032/60000] (100%) | prec: 0.9792 | loss => ce: 0.07229 / ewc: 0.0 / total: 0.07229: : 469it [05:11,  1.51it/s]\n",
            "=> task: 1/8 | epoch: 3/3 | progress: [60032/60000] (100%) | prec: 0.9792 | loss => ce: 0.15 / ewc: 0.0 / total: 0.15: : 469it [03:56,  1.98it/s]      "
          ]
        },
        {
          "name": "stdout",
          "output_type": "stream",
          "text": [
            "=> Estimating diagonals of the fisher information matrix..."
          ]
        },
        {
          "name": "stderr",
          "output_type": "stream",
          "text": [
            "\n"
          ]
        },
        {
          "name": "stdout",
          "output_type": "stream",
          "text": [
            " Done!\n"
          ]
        },
        {
          "name": "stderr",
          "output_type": "stream",
          "text": [
            "=> task: 2/8 | epoch: 1/3 | progress: [60032/60000] (100%) | prec: 0.9688 | loss => ce: 0.145 / ewc: 0.05315 / total: 0.1981: : 469it [07:20,  1.06it/s] \n",
            "=> task: 2/8 | epoch: 2/3 | progress: [60032/60000] (100%) | prec: 0.9479 | loss => ce: 0.2185 / ewc: 0.05901 / total: 0.2775: : 469it [07:17,  1.07it/s] \n",
            "=> task: 2/8 | epoch: 3/3 | progress: [60032/60000] (100%) | prec: 0.9167 | loss => ce: 0.3801 / ewc: 0.06051 / total: 0.4406: : 469it [06:54,  1.13it/s] "
          ]
        },
        {
          "name": "stdout",
          "output_type": "stream",
          "text": [
            "=> Estimating diagonals of the fisher information matrix..."
          ]
        },
        {
          "name": "stderr",
          "output_type": "stream",
          "text": [
            "\n"
          ]
        },
        {
          "name": "stdout",
          "output_type": "stream",
          "text": [
            " Done!\n"
          ]
        },
        {
          "name": "stderr",
          "output_type": "stream",
          "text": [
            "=> task: 3/8 | epoch: 1/3 | progress: [60032/60000] (100%) | prec: 0.9688 | loss => ce: 0.1224 / ewc: 0.08072 / total: 0.2031: : 469it [10:31,  1.35s/it]\n",
            "=> task: 3/8 | epoch: 2/3 | progress: [60032/60000] (100%) | prec: 0.9583 | loss => ce: 0.1123 / ewc: 0.07826 / total: 0.1906: : 469it [10:16,  1.31s/it]\n",
            "=> task: 3/8 | epoch: 3/3 | progress: [60032/60000] (100%) | prec: 0.9375 | loss => ce: 0.1729 / ewc: 0.07478 / total: 0.2476: : 469it [10:37,  1.36s/it]"
          ]
        },
        {
          "name": "stdout",
          "output_type": "stream",
          "text": [
            "=> Estimating diagonals of the fisher information matrix..."
          ]
        },
        {
          "name": "stderr",
          "output_type": "stream",
          "text": [
            "\n"
          ]
        },
        {
          "name": "stdout",
          "output_type": "stream",
          "text": [
            " Done!\n"
          ]
        },
        {
          "name": "stderr",
          "output_type": "stream",
          "text": [
            "=> task: 4/8 | epoch: 1/3 | progress: [60032/60000] (100%) | prec: 0.9792 | loss => ce: 0.1373 / ewc: 0.09788 / total: 0.2352: : 469it [14:34,  1.86s/it]\n",
            "=> task: 4/8 | epoch: 2/3 | progress: [60032/60000] (100%) | prec: 0.9271 | loss => ce: 0.1847 / ewc: 0.08264 / total: 0.2674: : 469it [14:36,  1.87s/it]\n",
            "=> task: 4/8 | epoch: 3/3 | progress: [60032/60000] (100%) | prec: 0.9583 | loss => ce: 0.09862 / ewc: 0.07758 / total: 0.1762: : 469it [14:27,  1.85s/it]"
          ]
        },
        {
          "name": "stdout",
          "output_type": "stream",
          "text": [
            "=> Estimating diagonals of the fisher information matrix..."
          ]
        },
        {
          "name": "stderr",
          "output_type": "stream",
          "text": [
            "\n"
          ]
        },
        {
          "name": "stdout",
          "output_type": "stream",
          "text": [
            " Done!\n"
          ]
        },
        {
          "name": "stderr",
          "output_type": "stream",
          "text": [
            "=> task: 5/8 | epoch: 1/3 | progress: [60032/60000] (100%) | prec: 0.9167 | loss => ce: 0.2268 / ewc: 0.08275 / total: 0.3095: : 469it [17:06,  2.19s/it]\n",
            "=> task: 5/8 | epoch: 2/3 | progress: [60032/60000] (100%) | prec: 0.9375 | loss => ce: 0.1233 / ewc: 0.07222 / total: 0.1955: : 469it [16:17,  2.09s/it]\n",
            "=> task: 5/8 | epoch: 3/3 | progress: [60032/60000] (100%) | prec: 0.9792 | loss => ce: 0.1987 / ewc: 0.06556 / total: 0.2642: : 469it [16:14,  2.08s/it]"
          ]
        },
        {
          "name": "stdout",
          "output_type": "stream",
          "text": [
            "=> Estimating diagonals of the fisher information matrix..."
          ]
        },
        {
          "name": "stderr",
          "output_type": "stream",
          "text": [
            "\n"
          ]
        },
        {
          "name": "stdout",
          "output_type": "stream",
          "text": [
            " Done!\n"
          ]
        },
        {
          "name": "stderr",
          "output_type": "stream",
          "text": [
            "=> task: 6/8 | epoch: 1/3 | progress: [60032/60000] (100%) | prec: 0.9479 | loss => ce: 0.1255 / ewc: 0.07328 / total: 0.1987: : 469it [19:21,  2.48s/it]\n",
            "=> task: 6/8 | epoch: 2/3 | progress: [60032/60000] (100%) | prec: 0.9792 | loss => ce: 0.1178 / ewc: 0.06342 / total: 0.1813: : 469it [19:23,  2.48s/it]\n",
            "=> task: 6/8 | epoch: 3/3 | progress: [60032/60000] (100%) | prec: 0.9792 | loss => ce: 0.15 / ewc: 0.06094 / total: 0.2109: : 469it [19:23,  2.48s/it]  "
          ]
        },
        {
          "name": "stdout",
          "output_type": "stream",
          "text": [
            "=> Estimating diagonals of the fisher information matrix..."
          ]
        },
        {
          "name": "stderr",
          "output_type": "stream",
          "text": [
            "\n"
          ]
        },
        {
          "name": "stdout",
          "output_type": "stream",
          "text": [
            " Done!\n"
          ]
        },
        {
          "name": "stderr",
          "output_type": "stream",
          "text": [
            "=> task: 7/8 | epoch: 1/3 | progress: [60032/60000] (100%) | prec: 0.9479 | loss => ce: 0.2835 / ewc: 0.071 / total: 0.3545: : 469it [22:34,  2.89s/it]  \n",
            "=> task: 7/8 | epoch: 2/3 | progress: [60032/60000] (100%) | prec: 0.9583 | loss => ce: 0.1419 / ewc: 0.06321 / total: 0.2051: : 469it [22:33,  2.89s/it]\n",
            "=> task: 7/8 | epoch: 3/3 | progress: [60032/60000] (100%) | prec: 0.9479 | loss => ce: 0.1165 / ewc: 0.05602 / total: 0.1725: : 469it [22:33,  2.89s/it]"
          ]
        },
        {
          "name": "stdout",
          "output_type": "stream",
          "text": [
            "=> Estimating diagonals of the fisher information matrix..."
          ]
        },
        {
          "name": "stderr",
          "output_type": "stream",
          "text": [
            "\n"
          ]
        },
        {
          "name": "stdout",
          "output_type": "stream",
          "text": [
            " Done!\n"
          ]
        },
        {
          "name": "stderr",
          "output_type": "stream",
          "text": [
            "=> task: 8/8 | epoch: 1/3 | progress: [60032/60000] (100%) | prec: 0.9583 | loss => ce: 0.2233 / ewc: 0.081 / total: 0.3043: : 469it [5:36:21, 43.03s/it]   \n",
            "=> task: 8/8 | epoch: 2/3 | progress: [60032/60000] (100%) | prec: 0.9583 | loss => ce: 0.2328 / ewc: 0.07442 / total: 0.3072: : 469it [27:07,  3.47s/it]\n",
            "=> task: 8/8 | epoch: 3/3 | progress: [60032/60000] (100%) | prec: 0.9792 | loss => ce: 0.05808 / ewc: 0.07135 / total: 0.1294: : 469it [27:48,  3.56s/it]\n"
          ]
        }
      ],
      "source": [
        "mlp = MLP(\n",
        "    DATASET_CONFIGS['mnist']['size']**2,\n",
        "    DATASET_CONFIGS['mnist']['classes'],\n",
        "    hidden_size=hidden_size,\n",
        "    hidden_layer_num=hidden_layer_num,\n",
        "    hidden_dropout_prob=hidden_dropout_prob,\n",
        "    input_dropout_prob=input_dropout_prob,\n",
        "    lamda=lamda,\n",
        ")\n",
        "\n",
        "# initialize the parameters.\n",
        "xavier_initialize(mlp)\n",
        "\n",
        "# prepare the cuda if needed.\n",
        "if cuda:\n",
        "    mlp.cuda()\n",
        "\n",
        "# run the experiment.\n",
        "test_accuracies = train(\n",
        "    mlp, train_datasets, test_datasets,\n",
        "    epochs_per_task=epochs_per_task,\n",
        "    batch_size=batch_size,\n",
        "    test_size=test_size,\n",
        "    consolidate=consolidate,\n",
        "    fisher_estimation_sample_size=fisher_estimation_sample_size,\n",
        "    lr=lr,\n",
        "    weight_decay=weight_decay,\n",
        "    eval_log_interval=eval_log_interval,\n",
        "    loss_log_interval=loss_log_interval,\n",
        "    cuda=cuda,\n",
        ")"
      ]
    },
    {
      "cell_type": "code",
      "execution_count": 11,
      "metadata": {
        "id": "Bb8KcyqnJc9e"
      },
      "outputs": [],
      "source": [
        "def accuracy_plot(x):\n",
        "    for t, v in enumerate(x):\n",
        "      plt.plot(list(range(sum([epochs_per_task * len(d) // batch_size for d in train_datasets[:]]))), v)\n",
        "    plt.ylim(0, 1)"
      ]
    },
    {
      "cell_type": "code",
      "execution_count": 19,
      "metadata": {
        "colab": {
          "base_uri": "https://localhost:8080/",
          "height": 269
        },
        "id": "PrTl3lDMKbC7",
        "outputId": "68d1da2e-5b4f-48b7-cfbb-71956475dd59"
      },
      "outputs": [
        {
          "data": {
            "image/png": "[encoded data removed]",
            "text/plain": [
              "<Figure size 432x288 with 1 Axes>"
            ]
          },
          "metadata": {
            "needs_background": "light"
          },
          "output_type": "display_data"
        }
      ],
      "source": [
        "accuracy_plot(test_accuracies)"
      ]
    },
    {
      "cell_type": "code",
      "execution_count": 9,
      "metadata": {
        "id": "xzan8o5IGKDC"
      },
      "outputs": [
        {
          "name": "stderr",
          "output_type": "stream",
          "text": [
            "=> task: 1/8 | epoch: 1/3 | progress: [60032/60000] (100%) | prec: 0.9271 | loss => ce: 0.2115 / ewc: 0.0 / total: 0.2115: : 469it [04:13,  1.85it/s]\n",
            "=> task: 1/8 | epoch: 2/3 | progress: [60032/60000] (100%) | prec: 0.9583 | loss => ce: 0.1707 / ewc: 0.0 / total: 0.1707: : 469it [03:51,  2.03it/s] \n",
            "=> task: 1/8 | epoch: 3/3 | progress: [60032/60000] (100%) | prec: 0.8958 | loss => ce: 0.3567 / ewc: 0.0 / total: 0.3567: : 469it [03:49,  2.04it/s]  \n",
            "=> task: 2/8 | epoch: 1/3 | progress: [60032/60000] (100%) | prec: 0.9479 | loss => ce: 0.1497 / ewc: 0.0 / total: 0.1497: : 469it [07:08,  1.09it/s] \n",
            "=> task: 2/8 | epoch: 2/3 | progress: [60032/60000] (100%) | prec: 0.9062 | loss => ce: 0.3167 / ewc: 0.0 / total: 0.3167: : 469it [07:09,  1.09it/s] \n",
            "=> task: 2/8 | epoch: 3/3 | progress: [60032/60000] (100%) | prec: 0.9688 | loss => ce: 0.04627 / ewc: 0.0 / total: 0.04627: : 469it [07:09,  1.09it/s]\n",
            "=> task: 3/8 | epoch: 1/3 | progress: [60032/60000] (100%) | prec: 0.9375 | loss => ce: 0.2345 / ewc: 0.0 / total: 0.2345: : 469it [10:31,  1.35s/it] \n",
            "=> task: 3/8 | epoch: 2/3 | progress: [60032/60000] (100%) | prec: 0.9583 | loss => ce: 0.1374 / ewc: 0.0 / total: 0.1374: : 469it [10:11,  1.30s/it]  \n",
            "=> task: 3/8 | epoch: 3/3 | progress: [60032/60000] (100%) | prec: 0.9896 | loss => ce: 0.03157 / ewc: 0.0 / total: 0.03157: : 469it [10:17,  1.32s/it]\n",
            "=> task: 4/8 | epoch: 1/3 | progress: [60032/60000] (100%) | prec: 0.9167 | loss => ce: 0.2202 / ewc: 0.0 / total: 0.2202: : 469it [13:48,  1.77s/it] \n",
            "=> task: 4/8 | epoch: 2/3 | progress: [60032/60000] (100%) | prec: 0.9688 | loss => ce: 0.1399 / ewc: 0.0 / total: 0.1399: : 469it [13:48,  1.77s/it]  \n",
            "=> task: 4/8 | epoch: 3/3 | progress: [60032/60000] (100%) | prec: 0.9792 | loss => ce: 0.2173 / ewc: 0.0 / total: 0.2173: : 469it [13:48,  1.77s/it]  \n",
            "=> task: 5/8 | epoch: 1/3 | progress: [60032/60000] (100%) | prec: 0.9792 | loss => ce: 0.1233 / ewc: 0.0 / total: 0.1233: : 469it [5:32:45, 42.57s/it] \n",
            "=> task: 5/8 | epoch: 2/3 | progress: [60032/60000] (100%) | prec: 0.9375 | loss => ce: 0.1772 / ewc: 0.0 / total: 0.1772: : 469it [17:29,  2.24s/it] \n",
            "=> task: 5/8 | epoch: 3/3 | progress: [60032/60000] (100%) | prec: 0.9688 | loss => ce: 0.1294 / ewc: 0.0 / total: 0.1294: : 469it [17:37,  2.25s/it]  \n",
            "=> task: 6/8 | epoch: 1/3 | progress: [60032/60000] (100%) | prec: 0.9583 | loss => ce: 0.1891 / ewc: 0.0 / total: 0.1891: : 469it [20:43,  2.65s/it] \n",
            "=> task: 6/8 | epoch: 2/3 | progress: [60032/60000] (100%) | prec: 0.9792 | loss => ce: 0.07716 / ewc: 0.0 / total: 0.07716: : 469it [20:29,  2.62s/it]\n",
            "=> task: 6/8 | epoch: 3/3 | progress: [60032/60000] (100%) | prec: 0.9792 | loss => ce: 0.08982 / ewc: 0.0 / total: 0.08982: : 469it [28:17,  3.62s/it]\n",
            "=> task: 7/8 | epoch: 1/3 | progress: [60032/60000] (100%) | prec: 0.9271 | loss => ce: 0.1879 / ewc: 0.0 / total: 0.1879: : 469it [36:21,  4.65s/it] \n",
            "=> task: 7/8 | epoch: 2/3 | progress: [60032/60000] (100%) | prec: 0.9479 | loss => ce: 0.1322 / ewc: 0.0 / total: 0.1322: : 469it [29:36,  3.79s/it] \n",
            "=> task: 7/8 | epoch: 3/3 | progress: [60032/60000] (100%) | prec: 0.9375 | loss => ce: 0.1371 / ewc: 0.0 / total: 0.1371: : 469it [23:25,  3.00s/it]  \n",
            "=> task: 8/8 | epoch: 1/3 | progress: [60032/60000] (100%) | prec: 0.9271 | loss => ce: 0.2027 / ewc: 0.0 / total: 0.2027: : 469it [27:15,  3.49s/it] \n",
            "=> task: 8/8 | epoch: 2/3 | progress: [60032/60000] (100%) | prec: 0.9375 | loss => ce: 0.1715 / ewc: 0.0 / total: 0.1715: : 469it [26:59,  3.45s/it] \n",
            "=> task: 8/8 | epoch: 3/3 | progress: [60032/60000] (100%) | prec: 0.9896 | loss => ce: 0.05226 / ewc: 0.0 / total: 0.05226: : 469it [27:13,  3.48s/it]\n"
          ]
        }
      ],
      "source": [
        "mlp2 = MLP(\n",
        "    DATASET_CONFIGS['mnist']['size']**2,\n",
        "    DATASET_CONFIGS['mnist']['classes'],\n",
        "    hidden_size=hidden_size,\n",
        "    hidden_layer_num=hidden_layer_num,\n",
        "    hidden_dropout_prob=hidden_dropout_prob,\n",
        "    input_dropout_prob=input_dropout_prob,\n",
        "    lamda=lamda,\n",
        ")\n",
        "\n",
        "# initialize the parameters.\n",
        "xavier_initialize(mlp2)\n",
        "\n",
        "# prepare the cuda if needed.\n",
        "if cuda:\n",
        "    mlp2.cuda()\n",
        "\n",
        "# run the experiment.\n",
        "test_accuracies2 = train(\n",
        "    mlp2, train_datasets, test_datasets,\n",
        "    epochs_per_task=epochs_per_task,\n",
        "    batch_size=batch_size,\n",
        "    test_size=test_size,\n",
        "    consolidate=False,\n",
        "    fisher_estimation_sample_size=fisher_estimation_sample_size,\n",
        "    lr=lr,\n",
        "    weight_decay=weight_decay,\n",
        "    eval_log_interval=eval_log_interval,\n",
        "    loss_log_interval=loss_log_interval,\n",
        "    cuda=cuda,\n",
        ")"
      ]
    },
    {
      "cell_type": "code",
      "execution_count": 12,
      "metadata": {
        "id": "TYLCplzDIYXJ"
      },
      "outputs": [
        {
          "data": {
            "image/png": "[encoded data removed]",
            "text/plain": [
              "<Figure size 432x288 with 1 Axes>"
            ]
          },
          "metadata": {
            "needs_background": "light"
          },
          "output_type": "display_data"
        }
      ],
      "source": [
        "accuracy_plot(test_accuracies2)"
      ]
    },
    {
      "cell_type": "code",
      "execution_count": 20,
      "metadata": {},
      "outputs": [],
      "source": [
        "torch.save(mlp.state_dict(), 'ewc_8_tasks_MNIST.pt')"
      ]
    },
    {
      "cell_type": "code",
      "execution_count": 15,
      "metadata": {},
      "outputs": [],
      "source": [
        "torch.save(mlp2.state_dict(), 'sgd_8_tasks_MNIST.pt')"
      ]
    }
  ],
  "metadata": {
    "colab": {
      "collapsed_sections": [],
      "name": "EWC.ipynb",
      "provenance": []
    },
    "kernelspec": {
      "display_name": "Python 3.10.4 ('venv': venv)",
      "language": "python",
      "name": "python3"
    },
    "language_info": {
      "codemirror_mode": {
        "name": "ipython",
        "version": 3
      },
      "file_extension": ".py",
      "mimetype": "text/x-python",
      "name": "python",
      "nbconvert_exporter": "python",
      "pygments_lexer": "ipython3",
      "version": "3.10.4"
    },
    "vscode": {
      "interpreter": {
        "hash": "862aaaa3bfdfe0cb3b02e12d68ad12f84f678ba56b93b757d8f1a9844b9ba170"
      }
    }
  },
  "nbformat": 4,
  "nbformat_minor": 0
}
