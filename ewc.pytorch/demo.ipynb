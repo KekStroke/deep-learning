{
 "cells": [
  {
   "cell_type": "code",
   "execution_count": 2,
   "metadata": {},
   "outputs": [],
   "source": [
    "import matplotlib.pyplot as plt\n",
    "\n",
    "plt.style.use(\"seaborn-white\")\n",
    "\n",
    "import random\n",
    "import torch\n",
    "from torch import nn\n",
    "from torch.nn import functional as F\n",
    "from torch import optim\n",
    "from tqdm import tqdm\n",
    "\n",
    "from data import PermutedMNIST\n",
    "from utils import EWC, ewc_train, normal_train, test\n"
   ]
  },
  {
   "cell_type": "code",
   "execution_count": 3,
   "metadata": {},
   "outputs": [],
   "source": [
    "epochs = 20\n",
    "lr = 1e-1\n",
    "batch_size = 128\n",
    "sample_size = 200\n",
    "hidden_size = 400\n",
    "num_task = 2"
   ]
  },
  {
   "cell_type": "code",
   "execution_count": 4,
   "metadata": {},
   "outputs": [],
   "source": [
    "class MLP(nn.Module):\n",
    "    def __init__(self, hidden_size=400):\n",
    "        super(MLP, self).__init__()\n",
    "        self.fc1 = nn.Linear(28 * 28, hidden_size)\n",
    "        self.fc2 = nn.Linear(hidden_size, hidden_size)\n",
    "        # self.fc3 = nn.Linear(hidden_size, hidden_size)\n",
    "        self.fc4 = nn.Linear(hidden_size, 10)\n",
    "\n",
    "    def forward(self, inputs):\n",
    "        x = F.relu(self.fc1(inputs))\n",
    "        x = F.relu(self.fc2(x))\n",
    "        # x = F.relu(self.fc3(x))\n",
    "        # x = F.relu(self.fc4(x))\n",
    "        return self.fc4(x)\n"
   ]
  },
  {
   "cell_type": "code",
   "execution_count": 5,
   "metadata": {},
   "outputs": [],
   "source": [
    "def get_permute_mnist():\n",
    "    train_loader = {}\n",
    "    test_loader = {}\n",
    "    idx = list(range(28 * 28))\n",
    "    for i in range(num_task):\n",
    "        train_loader[i] = torch.utils.data.DataLoader(PermutedMNIST(root='../data/', train=True, download=False, permute_idx=idx),\n",
    "                                                      batch_size=batch_size,\n",
    "                                                      num_workers=4)\n",
    "        test_loader[i] = torch.utils.data.DataLoader(PermutedMNIST(root='../data/', train=False, download=False, permute_idx=idx),\n",
    "                                                     batch_size=batch_size)\n",
    "        random.shuffle(idx)\n",
    "    return train_loader, test_loader\n",
    "\n",
    "\n",
    "train_loader, test_loader = get_permute_mnist()\n"
   ]
  },
  {
   "cell_type": "code",
   "execution_count": 6,
   "metadata": {},
   "outputs": [],
   "source": [
    "def standard_process(epochs, use_cuda=True, weight=True):\n",
    "    model = MLP(hidden_size)\n",
    "    if torch.cuda.is_available() and use_cuda:\n",
    "        model.cuda()\n",
    "    optimizer = optim.SGD(params=model.parameters(), lr=lr)\n",
    "\n",
    "    loss, acc = {}, {}\n",
    "    for task in range(num_task):\n",
    "        loss[task] = []\n",
    "        acc[task] = []\n",
    "        for _ in tqdm(range(epochs)):\n",
    "            loss[task].append(normal_train(model, optimizer, train_loader[task]))\n",
    "            for sub_task in range(task + 1):\n",
    "                acc[sub_task].append(test(model, test_loader[sub_task]))\n",
    "        if task == 0 and weight:\n",
    "            weight = model.state_dict()\n",
    "    return loss, acc, weight\n",
    "\n",
    "\n",
    "def ewc_process(epochs, importance, use_cuda=True, weight=None):\n",
    "    model = MLP(hidden_size)\n",
    "    if torch.cuda.is_available() and use_cuda:\n",
    "        model.cuda()\n",
    "    optimizer = optim.SGD(params=model.parameters(), lr=lr)\n",
    "\n",
    "    loss, acc, ewc = {}, {}, {}\n",
    "    for task in range(num_task):\n",
    "        loss[task] = []\n",
    "        acc[task] = []\n",
    "\n",
    "        if task == 0:\n",
    "            if weight:\n",
    "                model.load_state_dict(weight)\n",
    "            else:\n",
    "                for _ in tqdm(range(epochs)):\n",
    "                    loss[task].append(normal_train(model, optimizer, train_loader[task]))\n",
    "                    acc[task].append(test(model, test_loader[task]))\n",
    "        else:\n",
    "            old_tasks = []\n",
    "            for sub_task in range(task):\n",
    "                old_tasks = old_tasks + train_loader[sub_task].dataset.get_sample(sample_size)\n",
    "            old_tasks = random.sample(old_tasks, k=sample_size)\n",
    "            for _ in tqdm(range(epochs)):\n",
    "                loss[task].append(ewc_train(model, optimizer, train_loader[task], EWC(model, old_tasks), importance))\n",
    "                for sub_task in range(task + 1):\n",
    "                    acc[sub_task].append(test(model, test_loader[sub_task]))\n",
    "\n",
    "    return loss, acc"
   ]
  },
  {
   "cell_type": "code",
   "execution_count": 7,
   "metadata": {},
   "outputs": [],
   "source": [
    "def loss_plot(x):\n",
    "    for t, v in x.items():\n",
    "        if not isinstance(v[0], float):\n",
    "            v = [item.cpu().detach().numpy() for item in v]\n",
    "        plt.plot(list(range(t * epochs, (t + 1) * epochs)), v)\n",
    "\n",
    "def accuracy_plot(x):\n",
    "    for t, v in x.items():\n",
    "        v = [item.cpu() for item in v]\n",
    "        plt.plot(list(range(t * epochs, num_task * epochs)), v)\n",
    "    plt.ylim(0, 1)"
   ]
  },
  {
   "cell_type": "code",
   "execution_count": 7,
   "metadata": {},
   "outputs": [
    {
     "name": "stderr",
     "output_type": "stream",
     "text": [
      "100%|██████████| 20/20 [03:19<00:00,  9.95s/it]\n",
      "100%|██████████| 20/20 [01:05<00:00,  3.28s/it]\n"
     ]
    }
   ],
   "source": [
    "loss, acc, weight = standard_process(epochs)"
   ]
  },
  {
   "cell_type": "code",
   "execution_count": 8,
   "metadata": {},
   "outputs": [
    {
     "data": {
      "image/png": "[encoded data removed]",
      "text/plain": [
       "<Figure size 432x288 with 1 Axes>"
      ]
     },
     "metadata": {
      "needs_background": "light"
     },
     "output_type": "display_data"
    }
   ],
   "source": [
    "loss_plot(loss)"
   ]
  },
  {
   "cell_type": "code",
   "execution_count": 9,
   "metadata": {},
   "outputs": [
    {
     "data": {
      "image/png": "[encoded data removed]",
      "text/plain": [
       "<Figure size 432x288 with 1 Axes>"
      ]
     },
     "metadata": {
      "needs_background": "light"
     },
     "output_type": "display_data"
    }
   ],
   "source": [
    "accuracy_plot(acc)"
   ]
  },
  {
   "cell_type": "code",
   "execution_count": 8,
   "metadata": {
    "scrolled": true
   },
   "outputs": [
    {
     "name": "stderr",
     "output_type": "stream",
     "text": [
      "100%|██████████| 20/20 [02:21<00:00,  7.08s/it]\n",
      "  0%|          | 0/20 [00:01<?, ?it/s]\n"
     ]
    },
    {
     "ename": "RuntimeError",
     "evalue": "Boolean value of Tensor with more than one value is ambiguous",
     "output_type": "error",
     "traceback": [
      "\u001b[1;31m---------------------------------------------------------------------------\u001b[0m",
      "\u001b[1;31mRuntimeError\u001b[0m                              Traceback (most recent call last)",
      "\u001b[1;32me:\\Python_projects\\deep-learning\\ewc.pytorch\\demo.ipynb Cell 8'\u001b[0m in \u001b[0;36m<cell line: 1>\u001b[1;34m()\u001b[0m\n\u001b[1;32m----> <a href='vscode-notebook-cell:/e%3A/Python_projects/deep-learning/ewc.pytorch/demo.ipynb#ch0000007?line=0'>1</a>\u001b[0m loss_ewc, acc_ewc \u001b[39m=\u001b[39m ewc_process(epochs, importance\u001b[39m=\u001b[39;49m\u001b[39m1000\u001b[39;49m)\n",
      "\u001b[1;32me:\\Python_projects\\deep-learning\\ewc.pytorch\\demo.ipynb Cell 5'\u001b[0m in \u001b[0;36mewc_process\u001b[1;34m(epochs, importance, use_cuda, weight)\u001b[0m\n\u001b[0;32m     <a href='vscode-notebook-cell:/e%3A/Python_projects/deep-learning/ewc.pytorch/demo.ipynb#ch0000004?line=41'>42</a>\u001b[0m old_tasks \u001b[39m=\u001b[39m random\u001b[39m.\u001b[39msample(old_tasks, k\u001b[39m=\u001b[39msample_size)\n\u001b[0;32m     <a href='vscode-notebook-cell:/e%3A/Python_projects/deep-learning/ewc.pytorch/demo.ipynb#ch0000004?line=42'>43</a>\u001b[0m \u001b[39mfor\u001b[39;00m _ \u001b[39min\u001b[39;00m tqdm(\u001b[39mrange\u001b[39m(epochs)):\n\u001b[1;32m---> <a href='vscode-notebook-cell:/e%3A/Python_projects/deep-learning/ewc.pytorch/demo.ipynb#ch0000004?line=43'>44</a>\u001b[0m     loss[task]\u001b[39m.\u001b[39mappend(ewc_train(model, optimizer, train_loader[task], EWC(model, old_tasks), importance))\n\u001b[0;32m     <a href='vscode-notebook-cell:/e%3A/Python_projects/deep-learning/ewc.pytorch/demo.ipynb#ch0000004?line=44'>45</a>\u001b[0m     \u001b[39mfor\u001b[39;00m sub_task \u001b[39min\u001b[39;00m \u001b[39mrange\u001b[39m(task \u001b[39m+\u001b[39m \u001b[39m1\u001b[39m):\n\u001b[0;32m     <a href='vscode-notebook-cell:/e%3A/Python_projects/deep-learning/ewc.pytorch/demo.ipynb#ch0000004?line=45'>46</a>\u001b[0m         acc[sub_task]\u001b[39m.\u001b[39mappend(test(model, test_loader[sub_task]))\n",
      "File \u001b[1;32me:\\Python_projects\\deep-learning\\ewc.pytorch\\utils.py:27\u001b[0m, in \u001b[0;36mEWC.__init__\u001b[1;34m(self, model, dataset)\u001b[0m\n\u001b[0;32m     23\u001b[0m \u001b[39mself\u001b[39m\u001b[39m.\u001b[39mparams \u001b[39m=\u001b[39m {\n\u001b[0;32m     24\u001b[0m     n: p \u001b[39mfor\u001b[39;00m n, p \u001b[39min\u001b[39;00m \u001b[39mself\u001b[39m\u001b[39m.\u001b[39mmodel\u001b[39m.\u001b[39mnamed_parameters() \u001b[39mif\u001b[39;00m p\u001b[39m.\u001b[39mrequires_grad\n\u001b[0;32m     25\u001b[0m }\n\u001b[0;32m     26\u001b[0m \u001b[39mself\u001b[39m\u001b[39m.\u001b[39m_means \u001b[39m=\u001b[39m {}\n\u001b[1;32m---> 27\u001b[0m \u001b[39mself\u001b[39m\u001b[39m.\u001b[39m_precision_matrices \u001b[39m=\u001b[39m \u001b[39mself\u001b[39;49m\u001b[39m.\u001b[39;49m_diag_fisher()\n\u001b[0;32m     29\u001b[0m \u001b[39mfor\u001b[39;00m n, p \u001b[39min\u001b[39;00m deepcopy(\u001b[39mself\u001b[39m\u001b[39m.\u001b[39mparams)\u001b[39m.\u001b[39mitems():\n\u001b[0;32m     30\u001b[0m     \u001b[39mself\u001b[39m\u001b[39m.\u001b[39m_means[n] \u001b[39m=\u001b[39m variable(p\u001b[39m.\u001b[39mdata)\n",
      "File \u001b[1;32me:\\Python_projects\\deep-learning\\ewc.pytorch\\utils.py:48\u001b[0m, in \u001b[0;36mEWC._diag_fisher\u001b[1;34m(self)\u001b[0m\n\u001b[0;32m     45\u001b[0m loss\u001b[39m.\u001b[39mbackward()\n\u001b[0;32m     47\u001b[0m \u001b[39mfor\u001b[39;00m n, p \u001b[39min\u001b[39;00m \u001b[39mself\u001b[39m\u001b[39m.\u001b[39mmodel\u001b[39m.\u001b[39mnamed_parameters():\n\u001b[1;32m---> 48\u001b[0m     \u001b[39mif\u001b[39;00m torch\u001b[39m.\u001b[39misinf(\n\u001b[0;32m     49\u001b[0m         precision_matrices[n]\u001b[39m.\u001b[39mdata\n\u001b[0;32m     50\u001b[0m         \u001b[39m+\u001b[39m (p\u001b[39m.\u001b[39mgrad\u001b[39m.\u001b[39mdata\u001b[39m*\u001b[39m\u001b[39m*\u001b[39m\u001b[39m2\u001b[39m \u001b[39m/\u001b[39m \u001b[39mlen\u001b[39m(\u001b[39mself\u001b[39m\u001b[39m.\u001b[39mdataset))\u001b[39m.\u001b[39msum()\n\u001b[0;32m     51\u001b[0m     ) \u001b[39mor\u001b[39;00m torch\u001b[39m.\u001b[39misnan(\n\u001b[0;32m     52\u001b[0m         precision_matrices[n]\u001b[39m.\u001b[39mdata\n\u001b[0;32m     53\u001b[0m         \u001b[39m+\u001b[39m (p\u001b[39m.\u001b[39mgrad\u001b[39m.\u001b[39mdata\u001b[39m*\u001b[39m\u001b[39m*\u001b[39m\u001b[39m2\u001b[39m \u001b[39m/\u001b[39m \u001b[39mlen\u001b[39m(\u001b[39mself\u001b[39m\u001b[39m.\u001b[39mdataset))\u001b[39m.\u001b[39msum()\n\u001b[0;32m     54\u001b[0m     ):\n\u001b[0;32m     55\u001b[0m         \u001b[39mbreak\u001b[39;00m\n\u001b[0;32m     56\u001b[0m     precision_matrices[n]\u001b[39m.\u001b[39mdata \u001b[39m+\u001b[39m\u001b[39m=\u001b[39m p\u001b[39m.\u001b[39mgrad\u001b[39m.\u001b[39mdata\u001b[39m*\u001b[39m\u001b[39m*\u001b[39m\u001b[39m2\u001b[39m \u001b[39m/\u001b[39m \u001b[39mlen\u001b[39m(\u001b[39mself\u001b[39m\u001b[39m.\u001b[39mdataset)\n",
      "\u001b[1;31mRuntimeError\u001b[0m: Boolean value of Tensor with more than one value is ambiguous"
     ]
    }
   ],
   "source": [
    "loss_ewc, acc_ewc = ewc_process(epochs, importance=1000)"
   ]
  },
  {
   "cell_type": "code",
   "execution_count": 8,
   "metadata": {},
   "outputs": [
    {
     "data": {
      "image/png": "[encoded data removed]",
      "text/plain": [
       "<Figure size 432x288 with 1 Axes>"
      ]
     },
     "metadata": {
      "needs_background": "light"
     },
     "output_type": "display_data"
    }
   ],
   "source": [
    "loss_plot(loss_ewc)"
   ]
  },
  {
   "cell_type": "code",
   "execution_count": 9,
   "metadata": {},
   "outputs": [
    {
     "data": {
      "image/png": "[encoded data removed]",
      "text/plain": [
       "<Figure size 432x288 with 1 Axes>"
      ]
     },
     "metadata": {
      "needs_background": "light"
     },
     "output_type": "display_data"
    }
   ],
   "source": [
    "accuracy_plot(acc_ewc)"
   ]
  },
  {
   "cell_type": "code",
   "execution_count": 10,
   "metadata": {},
   "outputs": [
    {
     "ename": "NameError",
     "evalue": "name 'acc' is not defined",
     "output_type": "error",
     "traceback": [
      "\u001b[1;31m---------------------------------------------------------------------------\u001b[0m",
      "\u001b[1;31mNameError\u001b[0m                                 Traceback (most recent call last)",
      "\u001b[1;32me:\\Python_projects\\deep-learning\\ewc.pytorch\\demo.ipynb Cell 13'\u001b[0m in \u001b[0;36m<cell line: 1>\u001b[1;34m()\u001b[0m\n\u001b[1;32m----> <a href='vscode-notebook-cell:/e%3A/Python_projects/deep-learning/ewc.pytorch/demo.ipynb#ch0000012?line=0'>1</a>\u001b[0m plt\u001b[39m.\u001b[39mplot([item\u001b[39m.\u001b[39mcpu() \u001b[39mfor\u001b[39;00m item \u001b[39min\u001b[39;00m acc[\u001b[39m0\u001b[39m]], label\u001b[39m=\u001b[39m\u001b[39m\"\u001b[39m\u001b[39msgd\u001b[39m\u001b[39m\"\u001b[39m)\n\u001b[0;32m      <a href='vscode-notebook-cell:/e%3A/Python_projects/deep-learning/ewc.pytorch/demo.ipynb#ch0000012?line=1'>2</a>\u001b[0m plt\u001b[39m.\u001b[39mplot([item\u001b[39m.\u001b[39mcpu() \u001b[39mfor\u001b[39;00m item \u001b[39min\u001b[39;00m acc_ewc[\u001b[39m0\u001b[39m]], label\u001b[39m=\u001b[39m\u001b[39m\"\u001b[39m\u001b[39mewc\u001b[39m\u001b[39m\"\u001b[39m)\n\u001b[0;32m      <a href='vscode-notebook-cell:/e%3A/Python_projects/deep-learning/ewc.pytorch/demo.ipynb#ch0000012?line=2'>3</a>\u001b[0m plt\u001b[39m.\u001b[39mlegend()\n",
      "\u001b[1;31mNameError\u001b[0m: name 'acc' is not defined"
     ]
    }
   ],
   "source": [
    "plt.plot([item.cpu() for item in acc[0]], label=\"sgd\")\n",
    "plt.plot([item.cpu() for item in acc_ewc[0]], label=\"ewc\")\n",
    "plt.legend()"
   ]
  }
 ],
 "metadata": {
  "kernelspec": {
   "display_name": "Python 3 (ipykernel)",
   "language": "python",
   "name": "python3"
  },
  "language_info": {
   "codemirror_mode": {
    "name": "ipython",
    "version": 3
   },
   "file_extension": ".py",
   "mimetype": "text/x-python",
   "name": "python",
   "nbconvert_exporter": "python",
   "pygments_lexer": "ipython3",
   "version": "3.10.4"
  },
  "vscode": {
   "interpreter": {
    "hash": "862aaaa3bfdfe0cb3b02e12d68ad12f84f678ba56b93b757d8f1a9844b9ba170"
   }
  }
 },
 "nbformat": 4,
 "nbformat_minor": 2
}
