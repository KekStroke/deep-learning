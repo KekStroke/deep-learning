{
  "cells": [
    {
      "cell_type": "code",
      "execution_count": 1,
      "metadata": {
        "id": "kxajvanJkltj"
      },
      "outputs": [],
      "source": [
        "import pandas as pd\n",
        "import numpy as np\n",
        "\n",
        "import matplotlib.pyplot as plt\n",
        "\n",
        "import torch\n",
        "import torch.nn as nn\n",
        "\n",
        "from torchtext.data.utils import get_tokenizer\n",
        "from torchtext.vocab import build_vocab_from_iterator"
      ]
    },
    {
      "cell_type": "code",
      "execution_count": 2,
      "metadata": {
        "id": "JDVA0zREkltm"
      },
      "outputs": [],
      "source": [
        "lr = 0.01\n",
        "batch_size = 128\n",
        "n_epochs = 100\n",
        "\n",
        "embedding_dim = 3\n",
        "lstm_hidden_size = 10\n",
        "lstm_num_layers = 2"
      ]
    },
    {
      "cell_type": "code",
      "execution_count": 3,
      "metadata": {
        "colab": {
          "base_uri": "https://localhost:8080/",
          "height": 237
        },
        "id": "YsIKUX63kltp",
        "outputId": "62ad48f1-70f6-4a35-b815-1b95d103da02"
      },
      "outputs": [
        {
          "data": {
            "text/html": [
              "<div>\n",
              "<style scoped>\n",
              "    .dataframe tbody tr th:only-of-type {\n",
              "        vertical-align: middle;\n",
              "    }\n",
              "\n",
              "    .dataframe tbody tr th {\n",
              "        vertical-align: top;\n",
              "    }\n",
              "\n",
              "    .dataframe thead th {\n",
              "        text-align: right;\n",
              "    }\n",
              "</style>\n",
              "<table border=\"1\" class=\"dataframe\">\n",
              "  <thead>\n",
              "    <tr style=\"text-align: right;\">\n",
              "      <th></th>\n",
              "      <th>text</th>\n",
              "      <th>label</th>\n",
              "    </tr>\n",
              "    <tr>\n",
              "      <th>id</th>\n",
              "      <th></th>\n",
              "      <th></th>\n",
              "    </tr>\n",
              "  </thead>\n",
              "  <tbody>\n",
              "    <tr>\n",
              "      <th>77522</th>\n",
              "      <td>RT @RobertBeadles: Yo💥\\nEnter to WIN 1,000 Mon...</td>\n",
              "      <td>0</td>\n",
              "    </tr>\n",
              "    <tr>\n",
              "      <th>661634</th>\n",
              "      <td>#SriLanka surcharge on fuel removed!\\n⛽📉\\nThe ...</td>\n",
              "      <td>2</td>\n",
              "    </tr>\n",
              "    <tr>\n",
              "      <th>413231</th>\n",
              "      <td>Net issuance increases to fund fiscal programs...</td>\n",
              "      <td>0</td>\n",
              "    </tr>\n",
              "    <tr>\n",
              "      <th>760262</th>\n",
              "      <td>RT @bentboolean: How much of Amazon's traffic ...</td>\n",
              "      <td>0</td>\n",
              "    </tr>\n",
              "    <tr>\n",
              "      <th>830153</th>\n",
              "      <td>$AMD Ryzen 4000 desktop CPUs looking ‘great’ a...</td>\n",
              "      <td>0</td>\n",
              "    </tr>\n",
              "  </tbody>\n",
              "</table>\n",
              "</div>"
            ],
            "text/plain": [
              "                                                     text  label\n",
              "id                                                              \n",
              "77522   RT @RobertBeadles: Yo💥\\nEnter to WIN 1,000 Mon...      0\n",
              "661634  #SriLanka surcharge on fuel removed!\\n⛽📉\\nThe ...      2\n",
              "413231  Net issuance increases to fund fiscal programs...      0\n",
              "760262  RT @bentboolean: How much of Amazon's traffic ...      0\n",
              "830153  $AMD Ryzen 4000 desktop CPUs looking ‘great’ a...      0"
            ]
          },
          "execution_count": 3,
          "metadata": {},
          "output_type": "execute_result"
        }
      ],
      "source": [
        "df = pd.read_csv(\n",
        "    \"../data/TweetsSentiment/preprocessed_tweets_labeled.csv\",\n",
        "    sep=\";\",\n",
        "    header=0,\n",
        "    index_col=0,\n",
        ")\n",
        "\n",
        "df.head()"
      ]
    },
    {
      "cell_type": "code",
      "execution_count": 4,
      "metadata": {},
      "outputs": [],
      "source": [
        "from sklearn.model_selection import train_test_split\n",
        "\n",
        "dataset = df.to_numpy()\n",
        "\n",
        "X = dataset[:, 0]\n",
        "Y = dataset[:, 1]\n",
        "\n",
        "X_train, X_test, Y_train, Y_test = train_test_split(X, Y, train_size=0.75, random_state=42)"
      ]
    },
    {
      "cell_type": "code",
      "execution_count": 5,
      "metadata": {
        "id": "0zLDJIkxkltq"
      },
      "outputs": [],
      "source": [
        "text_iter = iter(X_train)\n",
        "\n",
        "tokenizer = get_tokenizer(\"basic_english\")\n",
        "\n",
        "\n",
        "def yield_tokens(data_iter):\n",
        "    for text in data_iter:\n",
        "        yield tokenizer(text)\n",
        "\n",
        "\n",
        "vocab = build_vocab_from_iterator(yield_tokens(text_iter), specials=[\"<unk>\", \"<pad>\"])\n",
        "vocab.set_default_index(vocab[\"<unk>\"])\n"
      ]
    },
    {
      "cell_type": "code",
      "execution_count": 6,
      "metadata": {
        "id": "R2mkK9d9nSh3"
      },
      "outputs": [],
      "source": [
        "def add_padding(arr, max_len):\n",
        "\n",
        "  zeros = np.ones(0)\n",
        "  if len(arr) < max_len:\n",
        "    zeros = np.zeros(max_len - len(arr))\n",
        "  arr = np.concatenate((zeros, arr))\n",
        "\n",
        "  return arr"
      ]
    },
    {
      "cell_type": "code",
      "execution_count": 7,
      "metadata": {
        "colab": {
          "base_uri": "https://localhost:8080/"
        },
        "id": "8k3qbjaQkltr",
        "outputId": "65b85297-d043-46dc-bdfb-ff408c804c34"
      },
      "outputs": [
        {
          "name": "stdout",
          "output_type": "stream",
          "text": [
            "77\n"
          ]
        }
      ],
      "source": [
        "max_len = np.max([len(tokenizer(x)) for x in X])\n",
        "print(max_len)\n",
        "\n",
        "text_pipeline = np.vectorize(lambda x: add_padding(vocab(tokenizer(x)), max_len))"
      ]
    },
    {
      "cell_type": "code",
      "execution_count": 8,
      "metadata": {},
      "outputs": [
        {
          "name": "stdout",
          "output_type": "stream",
          "text": [
            "Device cuda is being used\n"
          ]
        }
      ],
      "source": [
        "device = torch.device(\"cuda\" if torch.cuda.is_available() else \"cpu\")\n",
        "print(f'Device {device} is being used')"
      ]
    },
    {
      "cell_type": "code",
      "execution_count": 9,
      "metadata": {
        "colab": {
          "base_uri": "https://localhost:8080/"
        },
        "id": "FTtBjiqFklts",
        "outputId": "74c45c67-55b5-420e-f562-a5fc7b566d2f"
      },
      "outputs": [
        {
          "name": "stdout",
          "output_type": "stream",
          "text": [
            "torch.Size([975, 77])\n",
            "torch.Size([975])\n",
            "torch.Size([325, 77])\n",
            "torch.Size([325])\n"
          ]
        }
      ],
      "source": [
        "train_inputs = torch.from_numpy(np.array(list(map(text_pipeline, X_train)))).type(torch.LongTensor).to(device)\n",
        "train_targets = torch.from_numpy(Y_train.astype(np.longlong)).type(torch.LongTensor).to(device)\n",
        "test_inputs = torch.from_numpy(np.array(list(map(text_pipeline, X_test)))).type(torch.LongTensor).to(device)\n",
        "test_targets = torch.from_numpy(Y_test.astype(np.longlong)).type(torch.LongTensor).to(device)\n",
        "\n",
        "print(train_inputs.shape)\n",
        "print(train_targets.shape)\n",
        "print(test_inputs.shape)\n",
        "print(test_targets.shape)"
      ]
    },
    {
      "cell_type": "code",
      "execution_count": 10,
      "metadata": {},
      "outputs": [],
      "source": [
        "from torch.utils.data import TensorDataset, DataLoader\n",
        "\n",
        "train_dataset = TensorDataset(train_inputs, train_targets)\n",
        "test_dataset = TensorDataset(test_inputs, test_targets)\n",
        "\n",
        "train_dataloader = DataLoader(\n",
        "    train_dataset,\n",
        "    batch_size=batch_size,\n",
        "    shuffle=True,\n",
        ")\n",
        "test_dataloader = DataLoader(\n",
        "    test_dataset,\n",
        "    batch_size=batch_size,\n",
        ")"
      ]
    },
    {
      "cell_type": "code",
      "execution_count": 11,
      "metadata": {
        "id": "2L6Ljq7Okltu"
      },
      "outputs": [],
      "source": [
        "class RNN(nn.Module):\n",
        "    def __init__(\n",
        "        self,\n",
        "        vocab_size,\n",
        "        embedding_dim,\n",
        "        output_size,\n",
        "        hidden_size,\n",
        "        num_layers,\n",
        "    ):\n",
        "        super(RNN, self).__init__()\n",
        "        \n",
        "        self.V = vocab_size\n",
        "        self.D = embedding_dim\n",
        "        self.K = output_size\n",
        "        self.M = hidden_size\n",
        "        self.L = num_layers\n",
        "        \n",
        "        self.emb = nn.Embedding(\n",
        "            num_embeddings=self.V,\n",
        "            embedding_dim=self.D,\n",
        "        )\n",
        "        self.rnn = nn.LSTM(\n",
        "            input_size=self.D,\n",
        "            hidden_size=self.M,\n",
        "            num_layers = self.L,\n",
        "            batch_first=True,\n",
        "        )\n",
        "        self.fc = nn.Linear(\n",
        "            in_features=self.M,\n",
        "            out_features=self.K,\n",
        "        )\n",
        "    \n",
        "    def forward(self, inputs):\n",
        "        h0 = torch.zeros((self.L, inputs.size(0), self.M)).to(device)\n",
        "        c0 = torch.zeros((self.L, inputs.size(0), self.M)).to(device)\n",
        "        \n",
        "        outputs = self.emb(inputs)\n",
        "        outputs, _ = self.rnn(outputs, (h0, c0))\n",
        "        outputs = self.fc(outputs[:, -1, :])\n",
        "        \n",
        "        return outputs"
      ]
    },
    {
      "cell_type": "code",
      "execution_count": 12,
      "metadata": {
        "colab": {
          "base_uri": "https://localhost:8080/"
        },
        "id": "hN55Xby3kltv",
        "outputId": "9694da4f-dd6f-4b9e-dc6f-567185190c2e"
      },
      "outputs": [
        {
          "data": {
            "text/plain": [
              "RNN(\n",
              "  (emb): Embedding(6992, 3)\n",
              "  (rnn): LSTM(3, 10, num_layers=2, batch_first=True)\n",
              "  (fc): Linear(in_features=10, out_features=3, bias=True)\n",
              ")"
            ]
          },
          "execution_count": 12,
          "metadata": {},
          "output_type": "execute_result"
        }
      ],
      "source": [
        "model = RNN(\n",
        "    vocab_size=len(vocab),\n",
        "    embedding_dim=embedding_dim,\n",
        "    output_size=3,\n",
        "    hidden_size=lstm_hidden_size,\n",
        "    num_layers=lstm_num_layers,\n",
        ")\n",
        "\n",
        "model.to(device)"
      ]
    },
    {
      "cell_type": "code",
      "execution_count": 13,
      "metadata": {
        "id": "_LpL8rpakltw"
      },
      "outputs": [],
      "source": [
        "optimizer = torch.optim.Adam(model.parameters(), lr=lr)\n",
        "criterion = nn.CrossEntropyLoss()"
      ]
    },
    {
      "cell_type": "code",
      "execution_count": 14,
      "metadata": {},
      "outputs": [],
      "source": [
        "def validate(dataset, batch_size=128):\n",
        "    dataloader = DataLoader(\n",
        "        dataset=dataset,\n",
        "        batch_size=batch_size,\n",
        "    )\n",
        "\n",
        "    tot_predicted = 0\n",
        "    tot_correct = 0\n",
        "\n",
        "    for inputs, targets in dataloader:\n",
        "        inputs, targets = inputs.to(device), targets.to(device)\n",
        "\n",
        "        tot_predicted += inputs.shape[0]\n",
        "        outputs = model(inputs)\n",
        "\n",
        "        _, predictions = torch.max(outputs, dim=1)\n",
        "\n",
        "        tot_correct += (predictions == targets).sum()\n",
        "\n",
        "    return (tot_correct/tot_predicted)"
      ]
    },
    {
      "cell_type": "code",
      "execution_count": 15,
      "metadata": {
        "id": "qbvoA_Rtkltx"
      },
      "outputs": [],
      "source": [
        "def train(n_epochs=100):\n",
        "\n",
        "    train_losses = np.zeros(n_epochs)\n",
        "    test_losses = np.zeros(n_epochs)\n",
        "    train_accuracies = np.zeros(n_epochs)\n",
        "    test_accuracies = np.zeros(n_epochs)\n",
        "\n",
        "    for it in range(n_epochs):\n",
        "\n",
        "        train_loss = []\n",
        "        test_loss = []\n",
        "\n",
        "        for i, (inputs, targets) in enumerate(train_dataloader):\n",
        "            inputs, targets = inputs.to(device), targets.to(device)\n",
        "            optimizer.zero_grad()\n",
        "\n",
        "            outputs = model(inputs)\n",
        "            loss = criterion(outputs, targets)\n",
        "            loss.backward()\n",
        "            optimizer.step()\n",
        "\n",
        "            train_loss.append(loss.item())\n",
        "\n",
        "        train_losses[it] = np.mean(train_loss)\n",
        "\n",
        "        for i, (inputs, targets) in enumerate(test_dataloader):\n",
        "            inputs, targets = inputs.to(device), targets.to(device)\n",
        "\n",
        "            outputs = model(inputs)\n",
        "            loss = criterion(outputs, targets)\n",
        "            test_loss.append(loss.item())\n",
        "\n",
        "        test_losses[it] = np.mean(test_loss)\n",
        "\n",
        "        train_accuracies[it] = validate(train_dataset, batch_size=batch_size)\n",
        "        test_accuracies[it] = validate(test_dataset, batch_size=batch_size)\n",
        "\n",
        "        print(\n",
        "            f\"Iteration: {it+1:4.0f}/{n_epochs}\\tTrain Loss: {train_losses[it]:.6f}\\tTest Loss: {test_losses[it]:.6f}\\tTrain Accuracy: {train_accuracies[it]:.6f}\\tTest Accuracy: {test_accuracies[it]:.6f}\"\n",
        "        )\n",
        "\n",
        "    return train_losses, test_losses, train_accuracies, test_accuracies\n"
      ]
    },
    {
      "cell_type": "code",
      "execution_count": 16,
      "metadata": {
        "colab": {
          "base_uri": "https://localhost:8080/"
        },
        "id": "Y1F0QJsYkltx",
        "outputId": "22712df2-1cba-4437-bda4-d68590a1c0ce"
      },
      "outputs": [
        {
          "name": "stdout",
          "output_type": "stream",
          "text": [
            "Iteration:    1/100\tTrain Loss: 1.082020\tTest Loss: 1.102005\tTrain Accuracy: 0.417436\tTest Accuracy: 0.372308\n",
            "Iteration:    2/100\tTrain Loss: 1.085490\tTest Loss: 1.096075\tTrain Accuracy: 0.417436\tTest Accuracy: 0.372308\n",
            "Iteration:    3/100\tTrain Loss: 1.076659\tTest Loss: 1.096279\tTrain Accuracy: 0.419487\tTest Accuracy: 0.372308\n",
            "Iteration:    4/100\tTrain Loss: 1.071073\tTest Loss: 1.093319\tTrain Accuracy: 0.423590\tTest Accuracy: 0.372308\n",
            "Iteration:    5/100\tTrain Loss: 1.043477\tTest Loss: 1.124229\tTrain Accuracy: 0.476923\tTest Accuracy: 0.384615\n",
            "Iteration:    6/100\tTrain Loss: 0.996039\tTest Loss: 1.109566\tTrain Accuracy: 0.525128\tTest Accuracy: 0.418462\n",
            "Iteration:    7/100\tTrain Loss: 0.957543\tTest Loss: 1.140071\tTrain Accuracy: 0.547692\tTest Accuracy: 0.412308\n",
            "Iteration:    8/100\tTrain Loss: 0.898379\tTest Loss: 1.227925\tTrain Accuracy: 0.566154\tTest Accuracy: 0.406154\n",
            "Iteration:    9/100\tTrain Loss: 0.852718\tTest Loss: 1.228501\tTrain Accuracy: 0.626667\tTest Accuracy: 0.427692\n",
            "Iteration:   10/100\tTrain Loss: 0.760172\tTest Loss: 1.251504\tTrain Accuracy: 0.640000\tTest Accuracy: 0.443077\n",
            "Iteration:   11/100\tTrain Loss: 0.682586\tTest Loss: 1.296376\tTrain Accuracy: 0.750769\tTest Accuracy: 0.427692\n",
            "Iteration:   12/100\tTrain Loss: 0.586833\tTest Loss: 1.404570\tTrain Accuracy: 0.780513\tTest Accuracy: 0.446154\n",
            "Iteration:   13/100\tTrain Loss: 0.523477\tTest Loss: 1.590583\tTrain Accuracy: 0.829744\tTest Accuracy: 0.452308\n",
            "Iteration:   14/100\tTrain Loss: 0.454583\tTest Loss: 1.548362\tTrain Accuracy: 0.851282\tTest Accuracy: 0.452308\n",
            "Iteration:   15/100\tTrain Loss: 0.392254\tTest Loss: 1.803525\tTrain Accuracy: 0.904615\tTest Accuracy: 0.461538\n",
            "Iteration:   16/100\tTrain Loss: 0.299751\tTest Loss: 1.692447\tTrain Accuracy: 0.924103\tTest Accuracy: 0.470769\n",
            "Iteration:   17/100\tTrain Loss: 0.250257\tTest Loss: 1.843759\tTrain Accuracy: 0.939487\tTest Accuracy: 0.483077\n",
            "Iteration:   18/100\tTrain Loss: 0.211570\tTest Loss: 1.923186\tTrain Accuracy: 0.948718\tTest Accuracy: 0.458462\n",
            "Iteration:   19/100\tTrain Loss: 0.188852\tTest Loss: 1.996609\tTrain Accuracy: 0.960000\tTest Accuracy: 0.467692\n",
            "Iteration:   20/100\tTrain Loss: 0.166524\tTest Loss: 2.028117\tTrain Accuracy: 0.966154\tTest Accuracy: 0.476923\n",
            "Iteration:   21/100\tTrain Loss: 0.132944\tTest Loss: 2.087157\tTrain Accuracy: 0.968205\tTest Accuracy: 0.452308\n",
            "Iteration:   22/100\tTrain Loss: 0.122378\tTest Loss: 2.127079\tTrain Accuracy: 0.974359\tTest Accuracy: 0.470769\n",
            "Iteration:   23/100\tTrain Loss: 0.112770\tTest Loss: 2.179752\tTrain Accuracy: 0.975385\tTest Accuracy: 0.473846\n",
            "Iteration:   24/100\tTrain Loss: 0.105003\tTest Loss: 2.294681\tTrain Accuracy: 0.978462\tTest Accuracy: 0.464615\n",
            "Iteration:   25/100\tTrain Loss: 0.083496\tTest Loss: 2.335047\tTrain Accuracy: 0.979487\tTest Accuracy: 0.483077\n",
            "Iteration:   26/100\tTrain Loss: 0.083089\tTest Loss: 2.293006\tTrain Accuracy: 0.982564\tTest Accuracy: 0.489231\n",
            "Iteration:   27/100\tTrain Loss: 0.101846\tTest Loss: 2.386564\tTrain Accuracy: 0.963077\tTest Accuracy: 0.464615\n",
            "Iteration:   28/100\tTrain Loss: 0.095478\tTest Loss: 2.510397\tTrain Accuracy: 0.977436\tTest Accuracy: 0.464615\n",
            "Iteration:   29/100\tTrain Loss: 0.092221\tTest Loss: 2.678884\tTrain Accuracy: 0.976410\tTest Accuracy: 0.449231\n",
            "Iteration:   30/100\tTrain Loss: 0.097749\tTest Loss: 2.555876\tTrain Accuracy: 0.980513\tTest Accuracy: 0.461538\n",
            "Iteration:   31/100\tTrain Loss: 0.079026\tTest Loss: 2.594014\tTrain Accuracy: 0.980513\tTest Accuracy: 0.473846\n",
            "Iteration:   32/100\tTrain Loss: 0.078315\tTest Loss: 2.717976\tTrain Accuracy: 0.983590\tTest Accuracy: 0.449231\n",
            "Iteration:   33/100\tTrain Loss: 0.068587\tTest Loss: 2.682133\tTrain Accuracy: 0.984615\tTest Accuracy: 0.458462\n",
            "Iteration:   34/100\tTrain Loss: 0.071260\tTest Loss: 2.733123\tTrain Accuracy: 0.984615\tTest Accuracy: 0.449231\n",
            "Iteration:   35/100\tTrain Loss: 0.066350\tTest Loss: 2.691167\tTrain Accuracy: 0.984615\tTest Accuracy: 0.452308\n",
            "Iteration:   36/100\tTrain Loss: 0.068259\tTest Loss: 2.668961\tTrain Accuracy: 0.984615\tTest Accuracy: 0.446154\n",
            "Iteration:   37/100\tTrain Loss: 0.054604\tTest Loss: 2.803742\tTrain Accuracy: 0.986667\tTest Accuracy: 0.455385\n",
            "Iteration:   38/100\tTrain Loss: 0.051017\tTest Loss: 2.785784\tTrain Accuracy: 0.986667\tTest Accuracy: 0.452308\n",
            "Iteration:   39/100\tTrain Loss: 0.048670\tTest Loss: 2.802102\tTrain Accuracy: 0.987692\tTest Accuracy: 0.452308\n",
            "Iteration:   40/100\tTrain Loss: 0.048911\tTest Loss: 2.940632\tTrain Accuracy: 0.987692\tTest Accuracy: 0.440000\n",
            "Iteration:   41/100\tTrain Loss: 0.047341\tTest Loss: 2.791335\tTrain Accuracy: 0.988718\tTest Accuracy: 0.449231\n",
            "Iteration:   42/100\tTrain Loss: 0.043962\tTest Loss: 2.784227\tTrain Accuracy: 0.987692\tTest Accuracy: 0.452308\n",
            "Iteration:   43/100\tTrain Loss: 0.042214\tTest Loss: 2.861708\tTrain Accuracy: 0.988718\tTest Accuracy: 0.449231\n",
            "Iteration:   44/100\tTrain Loss: 0.041987\tTest Loss: 2.861534\tTrain Accuracy: 0.989744\tTest Accuracy: 0.458462\n",
            "Iteration:   45/100\tTrain Loss: 0.040878\tTest Loss: 2.825862\tTrain Accuracy: 0.989744\tTest Accuracy: 0.440000\n",
            "Iteration:   46/100\tTrain Loss: 0.038184\tTest Loss: 2.859357\tTrain Accuracy: 0.989744\tTest Accuracy: 0.458462\n",
            "Iteration:   47/100\tTrain Loss: 0.036203\tTest Loss: 2.922835\tTrain Accuracy: 0.989744\tTest Accuracy: 0.446154\n",
            "Iteration:   48/100\tTrain Loss: 0.036484\tTest Loss: 2.956938\tTrain Accuracy: 0.989744\tTest Accuracy: 0.452308\n",
            "Iteration:   49/100\tTrain Loss: 0.036448\tTest Loss: 2.892443\tTrain Accuracy: 0.989744\tTest Accuracy: 0.446154\n",
            "Iteration:   50/100\tTrain Loss: 0.028474\tTest Loss: 2.916111\tTrain Accuracy: 0.991795\tTest Accuracy: 0.455385\n",
            "Iteration:   51/100\tTrain Loss: 0.027108\tTest Loss: 2.952681\tTrain Accuracy: 0.990769\tTest Accuracy: 0.458462\n",
            "Iteration:   52/100\tTrain Loss: 0.024996\tTest Loss: 3.016099\tTrain Accuracy: 0.991795\tTest Accuracy: 0.455385\n",
            "Iteration:   53/100\tTrain Loss: 0.021130\tTest Loss: 3.067442\tTrain Accuracy: 0.991795\tTest Accuracy: 0.443077\n",
            "Iteration:   54/100\tTrain Loss: 0.020911\tTest Loss: 3.095323\tTrain Accuracy: 0.992821\tTest Accuracy: 0.449231\n",
            "Iteration:   55/100\tTrain Loss: 0.019893\tTest Loss: 3.112437\tTrain Accuracy: 0.992821\tTest Accuracy: 0.446154\n",
            "Iteration:   56/100\tTrain Loss: 0.018332\tTest Loss: 3.178081\tTrain Accuracy: 0.992821\tTest Accuracy: 0.446154\n",
            "Iteration:   57/100\tTrain Loss: 0.017199\tTest Loss: 3.235434\tTrain Accuracy: 0.993846\tTest Accuracy: 0.449231\n",
            "Iteration:   58/100\tTrain Loss: 0.017924\tTest Loss: 3.261316\tTrain Accuracy: 0.993846\tTest Accuracy: 0.452308\n",
            "Iteration:   59/100\tTrain Loss: 0.022235\tTest Loss: 3.270020\tTrain Accuracy: 0.993846\tTest Accuracy: 0.446154\n",
            "Iteration:   60/100\tTrain Loss: 0.016454\tTest Loss: 3.114257\tTrain Accuracy: 0.994872\tTest Accuracy: 0.421538\n",
            "Iteration:   61/100\tTrain Loss: 0.017346\tTest Loss: 3.142251\tTrain Accuracy: 0.996923\tTest Accuracy: 0.452308\n",
            "Iteration:   62/100\tTrain Loss: 0.015591\tTest Loss: 3.347757\tTrain Accuracy: 0.995897\tTest Accuracy: 0.443077\n",
            "Iteration:   63/100\tTrain Loss: 0.015008\tTest Loss: 3.446880\tTrain Accuracy: 0.995897\tTest Accuracy: 0.440000\n",
            "Iteration:   64/100\tTrain Loss: 0.014857\tTest Loss: 3.469300\tTrain Accuracy: 0.996923\tTest Accuracy: 0.443077\n",
            "Iteration:   65/100\tTrain Loss: 0.014201\tTest Loss: 3.493717\tTrain Accuracy: 0.996923\tTest Accuracy: 0.436923\n",
            "Iteration:   66/100\tTrain Loss: 0.014795\tTest Loss: 3.502625\tTrain Accuracy: 0.996923\tTest Accuracy: 0.443077\n",
            "Iteration:   67/100\tTrain Loss: 0.012993\tTest Loss: 3.501634\tTrain Accuracy: 0.996923\tTest Accuracy: 0.427692\n",
            "Iteration:   68/100\tTrain Loss: 0.013170\tTest Loss: 3.516032\tTrain Accuracy: 0.996923\tTest Accuracy: 0.433846\n",
            "Iteration:   69/100\tTrain Loss: 0.013372\tTest Loss: 3.523594\tTrain Accuracy: 0.996923\tTest Accuracy: 0.430769\n",
            "Iteration:   70/100\tTrain Loss: 0.012237\tTest Loss: 3.523475\tTrain Accuracy: 0.996923\tTest Accuracy: 0.424615\n",
            "Iteration:   71/100\tTrain Loss: 0.012316\tTest Loss: 3.471963\tTrain Accuracy: 0.996923\tTest Accuracy: 0.436923\n",
            "Iteration:   72/100\tTrain Loss: 0.011786\tTest Loss: 3.481430\tTrain Accuracy: 0.996923\tTest Accuracy: 0.440000\n",
            "Iteration:   73/100\tTrain Loss: 0.011372\tTest Loss: 3.539038\tTrain Accuracy: 0.996923\tTest Accuracy: 0.436923\n",
            "Iteration:   74/100\tTrain Loss: 0.011821\tTest Loss: 3.590465\tTrain Accuracy: 0.996923\tTest Accuracy: 0.436923\n",
            "Iteration:   75/100\tTrain Loss: 0.011773\tTest Loss: 3.653863\tTrain Accuracy: 0.996923\tTest Accuracy: 0.427692\n",
            "Iteration:   76/100\tTrain Loss: 0.010973\tTest Loss: 3.715311\tTrain Accuracy: 0.996923\tTest Accuracy: 0.433846\n",
            "Iteration:   77/100\tTrain Loss: 0.010306\tTest Loss: 3.665517\tTrain Accuracy: 0.996923\tTest Accuracy: 0.430769\n",
            "Iteration:   78/100\tTrain Loss: 0.010017\tTest Loss: 3.676837\tTrain Accuracy: 0.996923\tTest Accuracy: 0.436923\n",
            "Iteration:   79/100\tTrain Loss: 0.009673\tTest Loss: 3.682152\tTrain Accuracy: 0.996923\tTest Accuracy: 0.430769\n",
            "Iteration:   80/100\tTrain Loss: 0.009329\tTest Loss: 3.707295\tTrain Accuracy: 0.996923\tTest Accuracy: 0.436923\n",
            "Iteration:   81/100\tTrain Loss: 0.009216\tTest Loss: 3.730070\tTrain Accuracy: 0.996923\tTest Accuracy: 0.430769\n",
            "Iteration:   82/100\tTrain Loss: 0.010887\tTest Loss: 3.730794\tTrain Accuracy: 0.996923\tTest Accuracy: 0.424615\n",
            "Iteration:   83/100\tTrain Loss: 0.009620\tTest Loss: 3.690019\tTrain Accuracy: 0.996923\tTest Accuracy: 0.430769\n",
            "Iteration:   84/100\tTrain Loss: 0.008963\tTest Loss: 3.734800\tTrain Accuracy: 0.996923\tTest Accuracy: 0.427692\n",
            "Iteration:   85/100\tTrain Loss: 0.008155\tTest Loss: 3.796727\tTrain Accuracy: 0.996923\tTest Accuracy: 0.440000\n",
            "Iteration:   86/100\tTrain Loss: 0.009358\tTest Loss: 3.795838\tTrain Accuracy: 0.996923\tTest Accuracy: 0.436923\n",
            "Iteration:   87/100\tTrain Loss: 0.008243\tTest Loss: 3.770447\tTrain Accuracy: 0.996923\tTest Accuracy: 0.430769\n",
            "Iteration:   88/100\tTrain Loss: 0.008122\tTest Loss: 3.756033\tTrain Accuracy: 0.996923\tTest Accuracy: 0.430769\n",
            "Iteration:   89/100\tTrain Loss: 0.007474\tTest Loss: 3.771362\tTrain Accuracy: 0.996923\tTest Accuracy: 0.430769\n",
            "Iteration:   90/100\tTrain Loss: 0.008396\tTest Loss: 3.768201\tTrain Accuracy: 0.996923\tTest Accuracy: 0.440000\n",
            "Iteration:   91/100\tTrain Loss: 0.007783\tTest Loss: 3.742886\tTrain Accuracy: 0.996923\tTest Accuracy: 0.446154\n",
            "Iteration:   92/100\tTrain Loss: 0.007146\tTest Loss: 3.763307\tTrain Accuracy: 0.996923\tTest Accuracy: 0.433846\n",
            "Iteration:   93/100\tTrain Loss: 0.006527\tTest Loss: 3.803591\tTrain Accuracy: 0.996923\tTest Accuracy: 0.430769\n",
            "Iteration:   94/100\tTrain Loss: 0.007718\tTest Loss: 3.832064\tTrain Accuracy: 0.996923\tTest Accuracy: 0.427692\n",
            "Iteration:   95/100\tTrain Loss: 0.008666\tTest Loss: 3.870815\tTrain Accuracy: 0.996923\tTest Accuracy: 0.433846\n",
            "Iteration:   96/100\tTrain Loss: 0.006029\tTest Loss: 3.851215\tTrain Accuracy: 0.996923\tTest Accuracy: 0.436923\n",
            "Iteration:   97/100\tTrain Loss: 0.006732\tTest Loss: 3.808000\tTrain Accuracy: 0.996923\tTest Accuracy: 0.443077\n",
            "Iteration:   98/100\tTrain Loss: 0.005893\tTest Loss: 3.804152\tTrain Accuracy: 0.996923\tTest Accuracy: 0.427692\n",
            "Iteration:   99/100\tTrain Loss: 0.006461\tTest Loss: 3.831261\tTrain Accuracy: 0.996923\tTest Accuracy: 0.427692\n",
            "Iteration:  100/100\tTrain Loss: 0.005581\tTest Loss: 3.865309\tTrain Accuracy: 0.996923\tTest Accuracy: 0.427692\n"
          ]
        }
      ],
      "source": [
        "train_losses, test_losses, train_accuracies, test_accuracies = train(n_epochs=n_epochs)\n"
      ]
    },
    {
      "cell_type": "code",
      "execution_count": 17,
      "metadata": {
        "colab": {
          "base_uri": "https://localhost:8080/",
          "height": 282
        },
        "id": "exZOPfdBw0OK",
        "outputId": "a89f9e63-75f2-4e0c-985b-d58db187c283"
      },
      "outputs": [
        {
          "data": {
            "text/plain": [
              "<matplotlib.legend.Legend at 0x178eadc2f80>"
            ]
          },
          "execution_count": 17,
          "metadata": {},
          "output_type": "execute_result"
        },
        {
          "data": {
            "image/png": "[encoded data removed]",
            "text/plain": [
              "<Figure size 432x288 with 1 Axes>"
            ]
          },
          "metadata": {
            "needs_background": "light"
          },
          "output_type": "display_data"
        }
      ],
      "source": [
        "plt.plot(train_losses, label='Train Loss')\n",
        "plt.plot(test_losses, label='Test loss')\n",
        "plt.legend()"
      ]
    },
    {
      "cell_type": "code",
      "execution_count": 18,
      "metadata": {},
      "outputs": [
        {
          "data": {
            "text/plain": [
              "<matplotlib.legend.Legend at 0x178a936d6f0>"
            ]
          },
          "execution_count": 18,
          "metadata": {},
          "output_type": "execute_result"
        },
        {
          "data": {
            "image/png": "[encoded data removed]",
            "text/plain": [
              "<Figure size 432x288 with 1 Axes>"
            ]
          },
          "metadata": {
            "needs_background": "light"
          },
          "output_type": "display_data"
        }
      ],
      "source": [
        "plt.plot(train_accuracies, label='Train Accuracy')\n",
        "plt.plot(test_accuracies, label='Test Accuracy')\n",
        "plt.legend()"
      ]
    }
  ],
  "metadata": {
    "colab": {
      "name": "RNN sentiment ananlysis.ipynb",
      "provenance": []
    },
    "kernelspec": {
      "display_name": "Python 3.10.4 ('venv': venv)",
      "language": "python",
      "name": "python3"
    },
    "language_info": {
      "codemirror_mode": {
        "name": "ipython",
        "version": 3
      },
      "file_extension": ".py",
      "mimetype": "text/x-python",
      "name": "python",
      "nbconvert_exporter": "python",
      "pygments_lexer": "ipython3",
      "version": "3.10.4"
    },
    "orig_nbformat": 4,
    "vscode": {
      "interpreter": {
        "hash": "862aaaa3bfdfe0cb3b02e12d68ad12f84f678ba56b93b757d8f1a9844b9ba170"
      }
    }
  },
  "nbformat": 4,
  "nbformat_minor": 0
}
