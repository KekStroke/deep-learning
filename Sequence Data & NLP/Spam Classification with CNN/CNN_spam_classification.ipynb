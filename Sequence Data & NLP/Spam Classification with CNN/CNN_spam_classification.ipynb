{
  "cells": [
    {
      "cell_type": "code",
      "execution_count": 1,
      "metadata": {
        "id": "kxajvanJkltj"
      },
      "outputs": [],
      "source": [
        "import pandas as pd\n",
        "import numpy as np\n",
        "\n",
        "import matplotlib.pyplot as plt\n",
        "\n",
        "import torch\n",
        "import torch.nn as nn\n",
        "import torch.nn.functional as F\n",
        "\n",
        "from torchtext.data.utils import get_tokenizer\n",
        "from torchtext.vocab import build_vocab_from_iterator\n"
      ]
    },
    {
      "cell_type": "code",
      "execution_count": 2,
      "metadata": {
        "id": "JDVA0zREkltm"
      },
      "outputs": [],
      "source": [
        "lr = 0.0005\n",
        "batch_size = 100\n",
        "n_epochs = 50\n",
        "\n",
        "embedding_dim = 3\n"
      ]
    },
    {
      "cell_type": "code",
      "execution_count": 3,
      "metadata": {
        "colab": {
          "base_uri": "https://localhost:8080/",
          "height": 237
        },
        "id": "YsIKUX63kltp",
        "outputId": "62ad48f1-70f6-4a35-b815-1b95d103da02"
      },
      "outputs": [
        {
          "data": {
            "text/html": [
              "<div>\n",
              "<style scoped>\n",
              "    .dataframe tbody tr th:only-of-type {\n",
              "        vertical-align: middle;\n",
              "    }\n",
              "\n",
              "    .dataframe tbody tr th {\n",
              "        vertical-align: top;\n",
              "    }\n",
              "\n",
              "    .dataframe thead th {\n",
              "        text-align: right;\n",
              "    }\n",
              "</style>\n",
              "<table border=\"1\" class=\"dataframe\">\n",
              "  <thead>\n",
              "    <tr style=\"text-align: right;\">\n",
              "      <th></th>\n",
              "      <th>text</th>\n",
              "      <th>label</th>\n",
              "    </tr>\n",
              "  </thead>\n",
              "  <tbody>\n",
              "    <tr>\n",
              "      <th>0</th>\n",
              "      <td>Go until jurong point, crazy.. Available only ...</td>\n",
              "      <td>0</td>\n",
              "    </tr>\n",
              "    <tr>\n",
              "      <th>1</th>\n",
              "      <td>Ok lar... Joking wif u oni...</td>\n",
              "      <td>0</td>\n",
              "    </tr>\n",
              "    <tr>\n",
              "      <th>2</th>\n",
              "      <td>Free entry in 2 a wkly comp to win FA Cup fina...</td>\n",
              "      <td>1</td>\n",
              "    </tr>\n",
              "    <tr>\n",
              "      <th>3</th>\n",
              "      <td>U dun say so early hor... U c already then say...</td>\n",
              "      <td>0</td>\n",
              "    </tr>\n",
              "    <tr>\n",
              "      <th>4</th>\n",
              "      <td>Nah I don't think he goes to usf, he lives aro...</td>\n",
              "      <td>0</td>\n",
              "    </tr>\n",
              "  </tbody>\n",
              "</table>\n",
              "</div>"
            ],
            "text/plain": [
              "                                                text  label\n",
              "0  Go until jurong point, crazy.. Available only ...      0\n",
              "1                      Ok lar... Joking wif u oni...      0\n",
              "2  Free entry in 2 a wkly comp to win FA Cup fina...      1\n",
              "3  U dun say so early hor... U c already then say...      0\n",
              "4  Nah I don't think he goes to usf, he lives aro...      0"
            ]
          },
          "execution_count": 3,
          "metadata": {},
          "output_type": "execute_result"
        }
      ],
      "source": [
        "df = pd.read_csv(\n",
        "    \"../../data/SpamClassification/preprocessed_spam.csv\",\n",
        "    sep=\",\",\n",
        "    header=0,\n",
        "    index_col=0,\n",
        ")\n",
        "\n",
        "df.head()\n"
      ]
    },
    {
      "cell_type": "code",
      "execution_count": 4,
      "metadata": {},
      "outputs": [],
      "source": [
        "from sklearn.model_selection import train_test_split\n",
        "\n",
        "dataset = df.to_numpy()\n",
        "\n",
        "X = dataset[:, 0]\n",
        "Y = dataset[:, 1]\n",
        "\n",
        "X_train, X_test, Y_train, Y_test = train_test_split(\n",
        "    X,\n",
        "    Y,\n",
        "    train_size=0.5,\n",
        "    random_state=42,\n",
        ")\n"
      ]
    },
    {
      "cell_type": "code",
      "execution_count": 5,
      "metadata": {
        "id": "0zLDJIkxkltq"
      },
      "outputs": [],
      "source": [
        "text_iter = iter(X_train)\n",
        "\n",
        "tokenizer = get_tokenizer(\"basic_english\")\n",
        "\n",
        "\n",
        "def yield_tokens(data_iter):\n",
        "    for text in data_iter:\n",
        "        yield tokenizer(text)\n",
        "\n",
        "\n",
        "vocab = build_vocab_from_iterator(yield_tokens(text_iter), specials=[\"<unk>\", \"<pad>\"])\n",
        "vocab.set_default_index(vocab[\"<unk>\"])\n"
      ]
    },
    {
      "cell_type": "code",
      "execution_count": 6,
      "metadata": {
        "id": "R2mkK9d9nSh3"
      },
      "outputs": [],
      "source": [
        "def add_padding(arr, max_len):\n",
        "\n",
        "    zeros = np.ones(0)\n",
        "    if len(arr) < max_len:\n",
        "        zeros = np.zeros(max_len - len(arr))\n",
        "    arr = np.concatenate((zeros, arr))\n",
        "\n",
        "    return arr\n"
      ]
    },
    {
      "cell_type": "code",
      "execution_count": 7,
      "metadata": {
        "colab": {
          "base_uri": "https://localhost:8080/"
        },
        "id": "8k3qbjaQkltr",
        "outputId": "65b85297-d043-46dc-bdfb-ff408c804c34"
      },
      "outputs": [
        {
          "name": "stdout",
          "output_type": "stream",
          "text": [
            "212\n"
          ]
        }
      ],
      "source": [
        "max_len = np.max([len(tokenizer(x)) for x in X])\n",
        "print(max_len)\n",
        "\n",
        "text_pipeline = np.vectorize(lambda x: add_padding(vocab(tokenizer(x)), max_len))\n"
      ]
    },
    {
      "cell_type": "code",
      "execution_count": 8,
      "metadata": {},
      "outputs": [
        {
          "name": "stdout",
          "output_type": "stream",
          "text": [
            "Device cuda is being used\n"
          ]
        }
      ],
      "source": [
        "device = torch.device(\"cuda\" if torch.cuda.is_available() else \"cpu\")\n",
        "print(f\"Device {device} is being used\")\n"
      ]
    },
    {
      "cell_type": "code",
      "execution_count": 9,
      "metadata": {
        "colab": {
          "base_uri": "https://localhost:8080/"
        },
        "id": "FTtBjiqFklts",
        "outputId": "74c45c67-55b5-420e-f562-a5fc7b566d2f"
      },
      "outputs": [
        {
          "name": "stdout",
          "output_type": "stream",
          "text": [
            "Train inputs shape: torch.Size([2786, 212])\n",
            "Train targets shape: torch.Size([2786])\n",
            "Test inputs shape: torch.Size([2786, 212])\n",
            "Test targets shape: torch.Size([2786])\n"
          ]
        }
      ],
      "source": [
        "train_inputs = (\n",
        "    torch.from_numpy(np.array(list(map(text_pipeline, X_train))))\n",
        "    .type(torch.LongTensor)\n",
        "    .to(device)\n",
        ")\n",
        "train_targets = (\n",
        "    torch.from_numpy(Y_train.astype(np.longlong)).type(torch.LongTensor).to(device)\n",
        ")\n",
        "test_inputs = (\n",
        "    torch.from_numpy(np.array(list(map(text_pipeline, X_test))))\n",
        "    .type(torch.LongTensor)\n",
        "    .to(device)\n",
        ")\n",
        "test_targets = (\n",
        "    torch.from_numpy(Y_test.astype(np.longlong)).type(torch.LongTensor).to(device)\n",
        ")\n",
        "\n",
        "print(f\"Train inputs shape: {train_inputs.shape}\")\n",
        "print(f\"Train targets shape: {train_targets.shape}\")\n",
        "print(f\"Test inputs shape: {test_inputs.shape}\")\n",
        "print(f\"Test targets shape: {test_targets.shape}\")\n"
      ]
    },
    {
      "cell_type": "code",
      "execution_count": 10,
      "metadata": {},
      "outputs": [],
      "source": [
        "from torch.utils.data import TensorDataset, DataLoader\n",
        "\n",
        "train_dataset = TensorDataset(train_inputs, train_targets)\n",
        "test_dataset = TensorDataset(test_inputs, test_targets)\n",
        "\n",
        "train_dataloader = DataLoader(\n",
        "    train_dataset,\n",
        "    batch_size=batch_size,\n",
        "    shuffle=True,\n",
        ")\n",
        "test_dataloader = DataLoader(\n",
        "    test_dataset,\n",
        "    batch_size=batch_size,\n",
        ")\n"
      ]
    },
    {
      "cell_type": "code",
      "execution_count": 11,
      "metadata": {
        "id": "2L6Ljq7Okltu"
      },
      "outputs": [],
      "source": [
        "class CNN(nn.Module):\n",
        "    def __init__(\n",
        "        self,\n",
        "        vocab_size,\n",
        "        embedding_dim,\n",
        "        output_size,\n",
        "    ):\n",
        "        super(CNN, self).__init__()\n",
        "        self.embed = nn.Embedding(\n",
        "            num_embeddings=vocab_size,\n",
        "            embedding_dim=embedding_dim,\n",
        "        )\n",
        "        self.conv1 = nn.Conv1d(\n",
        "            in_channels=embedding_dim,\n",
        "            out_channels=32,\n",
        "            kernel_size=3,\n",
        "            padding=1,\n",
        "        )\n",
        "        self.conv2 = nn.Conv1d(\n",
        "            in_channels=32,\n",
        "            out_channels=64,\n",
        "            kernel_size=3,\n",
        "            padding=1,\n",
        "        )\n",
        "        self.conv3 = nn.Conv1d(\n",
        "            in_channels=64,\n",
        "            out_channels=128,\n",
        "            kernel_size=3,\n",
        "            padding=1,\n",
        "        )\n",
        "        self.fc = nn.Linear(128, output_size)\n",
        "\n",
        "    def forward(self, inputs):\n",
        "        outputs = self.embed(inputs)\n",
        "\n",
        "        outputs = outputs.permute(0, 2, 1)\n",
        "\n",
        "        outputs = self.conv1(outputs)\n",
        "        outputs = F.relu(outputs)\n",
        "        outputs = F.max_pool1d(outputs, 2)\n",
        "        outputs = self.conv2(outputs)\n",
        "        outputs = F.relu(outputs)\n",
        "        outputs = F.max_pool1d(outputs, 2)\n",
        "        outputs = self.conv3(outputs)\n",
        "        outputs = F.relu(outputs)\n",
        "        outputs = F.max_pool1d(outputs, 2)\n",
        "\n",
        "        outputs = torch.permute(outputs, (0, 2, 1))\n",
        "        outputs, _ = torch.max(outputs, dim=1)\n",
        "\n",
        "        outputs = self.fc(outputs)\n",
        "\n",
        "        return outputs\n"
      ]
    },
    {
      "cell_type": "code",
      "execution_count": 12,
      "metadata": {
        "colab": {
          "base_uri": "https://localhost:8080/"
        },
        "id": "hN55Xby3kltv",
        "outputId": "9694da4f-dd6f-4b9e-dc6f-567185190c2e"
      },
      "outputs": [
        {
          "data": {
            "text/plain": [
              "CNN(\n",
              "  (embed): Embedding(6403, 3)\n",
              "  (conv1): Conv1d(3, 32, kernel_size=(3,), stride=(1,), padding=(1,))\n",
              "  (conv2): Conv1d(32, 64, kernel_size=(3,), stride=(1,), padding=(1,))\n",
              "  (conv3): Conv1d(64, 128, kernel_size=(3,), stride=(1,), padding=(1,))\n",
              "  (fc): Linear(in_features=128, out_features=2, bias=True)\n",
              ")"
            ]
          },
          "execution_count": 12,
          "metadata": {},
          "output_type": "execute_result"
        }
      ],
      "source": [
        "model = CNN(\n",
        "    vocab_size=len(vocab),\n",
        "    embedding_dim=embedding_dim,\n",
        "    output_size=2,\n",
        ")\n",
        "\n",
        "model.to(device)\n"
      ]
    },
    {
      "cell_type": "code",
      "execution_count": 13,
      "metadata": {
        "id": "_LpL8rpakltw"
      },
      "outputs": [],
      "source": [
        "optimizer = torch.optim.Adam(model.parameters(), lr=lr)\n",
        "criterion = nn.CrossEntropyLoss()\n"
      ]
    },
    {
      "cell_type": "code",
      "execution_count": 14,
      "metadata": {},
      "outputs": [],
      "source": [
        "def validate(dataset, batch_size=128):\n",
        "    dataloader = DataLoader(\n",
        "        dataset=dataset,\n",
        "        batch_size=batch_size,\n",
        "    )\n",
        "\n",
        "    tot_predicted = 0\n",
        "    tot_correct = 0\n",
        "\n",
        "    for inputs, targets in dataloader:\n",
        "        inputs, targets = inputs.to(device), targets.to(device)\n",
        "\n",
        "        tot_predicted += inputs.shape[0]\n",
        "        outputs = model(inputs)\n",
        "\n",
        "        _, predictions = torch.max(outputs, dim=1)\n",
        "\n",
        "        tot_correct += (predictions == targets).sum()\n",
        "\n",
        "    return tot_correct / tot_predicted\n"
      ]
    },
    {
      "cell_type": "code",
      "execution_count": 15,
      "metadata": {
        "id": "qbvoA_Rtkltx"
      },
      "outputs": [],
      "source": [
        "def train(n_epochs=100):\n",
        "\n",
        "    train_losses = np.zeros(n_epochs)\n",
        "    test_losses = np.zeros(n_epochs)\n",
        "    train_accuracies = np.zeros(n_epochs)\n",
        "    test_accuracies = np.zeros(n_epochs)\n",
        "\n",
        "    for it in range(n_epochs):\n",
        "\n",
        "        train_loss = []\n",
        "        test_loss = []\n",
        "\n",
        "        for i, (inputs, targets) in enumerate(train_dataloader):\n",
        "            inputs, targets = inputs.to(device), targets.to(device)\n",
        "            optimizer.zero_grad()\n",
        "\n",
        "            outputs = model(inputs)\n",
        "            loss = criterion(outputs, targets)\n",
        "            loss.backward()\n",
        "            optimizer.step()\n",
        "\n",
        "            train_loss.append(loss.item())\n",
        "\n",
        "        train_losses[it] = np.mean(train_loss)\n",
        "\n",
        "        for i, (inputs, targets) in enumerate(test_dataloader):\n",
        "            inputs, targets = inputs.to(device), targets.to(device)\n",
        "\n",
        "            outputs = model(inputs)\n",
        "            loss = criterion(outputs, targets)\n",
        "            test_loss.append(loss.item())\n",
        "\n",
        "        test_losses[it] = np.mean(test_loss)\n",
        "\n",
        "        train_accuracies[it] = validate(train_dataset, batch_size=batch_size)\n",
        "        test_accuracies[it] = validate(test_dataset, batch_size=batch_size)\n",
        "\n",
        "        print(\n",
        "            f\"Iteration: {it+1:4.0f}/{n_epochs}\\tTrain Loss: {train_losses[it]:.6f}\\tTest Loss: {test_losses[it]:.6f}\\tTrain Accuracy: {train_accuracies[it]:.6f}\\tTest Accuracy: {test_accuracies[it]:.6f}\"\n",
        "        )\n",
        "\n",
        "    return train_losses, test_losses, train_accuracies, test_accuracies\n"
      ]
    },
    {
      "cell_type": "code",
      "execution_count": 16,
      "metadata": {
        "colab": {
          "base_uri": "https://localhost:8080/"
        },
        "id": "Y1F0QJsYkltx",
        "outputId": "22712df2-1cba-4437-bda4-d68590a1c0ce"
      },
      "outputs": [
        {
          "name": "stdout",
          "output_type": "stream",
          "text": [
            "Iteration:    1/50\tTrain Loss: 0.463261\tTest Loss: 0.409981\tTrain Accuracy: 0.866475\tTest Accuracy: 0.865398\n",
            "Iteration:    2/50\tTrain Loss: 0.395840\tTest Loss: 0.390733\tTrain Accuracy: 0.866475\tTest Accuracy: 0.865398\n",
            "Iteration:    3/50\tTrain Loss: 0.381920\tTest Loss: 0.375258\tTrain Accuracy: 0.866475\tTest Accuracy: 0.865398\n",
            "Iteration:    4/50\tTrain Loss: 0.358871\tTest Loss: 0.346510\tTrain Accuracy: 0.866475\tTest Accuracy: 0.865398\n",
            "Iteration:    5/50\tTrain Loss: 0.320104\tTest Loss: 0.306042\tTrain Accuracy: 0.870065\tTest Accuracy: 0.867552\n",
            "Iteration:    6/50\tTrain Loss: 0.290199\tTest Loss: 0.279351\tTrain Accuracy: 0.884781\tTest Accuracy: 0.876167\n",
            "Iteration:    7/50\tTrain Loss: 0.257675\tTest Loss: 0.259664\tTrain Accuracy: 0.898062\tTest Accuracy: 0.888011\n",
            "Iteration:    8/50\tTrain Loss: 0.241301\tTest Loss: 0.253769\tTrain Accuracy: 0.909189\tTest Accuracy: 0.900933\n",
            "Iteration:    9/50\tTrain Loss: 0.224293\tTest Loss: 0.235130\tTrain Accuracy: 0.914573\tTest Accuracy: 0.903087\n",
            "Iteration:   10/50\tTrain Loss: 0.207521\tTest Loss: 0.232748\tTrain Accuracy: 0.927495\tTest Accuracy: 0.907753\n",
            "Iteration:   11/50\tTrain Loss: 0.197521\tTest Loss: 0.220837\tTrain Accuracy: 0.917444\tTest Accuracy: 0.905958\n",
            "Iteration:   12/50\tTrain Loss: 0.191017\tTest Loss: 0.218985\tTrain Accuracy: 0.939698\tTest Accuracy: 0.911701\n",
            "Iteration:   13/50\tTrain Loss: 0.173274\tTest Loss: 0.206791\tTrain Accuracy: 0.941493\tTest Accuracy: 0.919957\n",
            "Iteration:   14/50\tTrain Loss: 0.163850\tTest Loss: 0.199562\tTrain Accuracy: 0.937904\tTest Accuracy: 0.922828\n",
            "Iteration:   15/50\tTrain Loss: 0.159826\tTest Loss: 0.194134\tTrain Accuracy: 0.945441\tTest Accuracy: 0.923905\n",
            "Iteration:   16/50\tTrain Loss: 0.151296\tTest Loss: 0.220470\tTrain Accuracy: 0.950108\tTest Accuracy: 0.901651\n",
            "Iteration:   17/50\tTrain Loss: 0.138002\tTest Loss: 0.196797\tTrain Accuracy: 0.957645\tTest Accuracy: 0.918162\n",
            "Iteration:   18/50\tTrain Loss: 0.137655\tTest Loss: 0.181215\tTrain Accuracy: 0.955851\tTest Accuracy: 0.931443\n",
            "Iteration:   19/50\tTrain Loss: 0.130901\tTest Loss: 0.181364\tTrain Accuracy: 0.962312\tTest Accuracy: 0.926418\n",
            "Iteration:   20/50\tTrain Loss: 0.118889\tTest Loss: 0.196232\tTrain Accuracy: 0.966619\tTest Accuracy: 0.918521\n",
            "Iteration:   21/50\tTrain Loss: 0.107571\tTest Loss: 0.175136\tTrain Accuracy: 0.966260\tTest Accuracy: 0.929648\n",
            "Iteration:   22/50\tTrain Loss: 0.102187\tTest Loss: 0.180439\tTrain Accuracy: 0.970208\tTest Accuracy: 0.926059\n",
            "Iteration:   23/50\tTrain Loss: 0.097205\tTest Loss: 0.167788\tTrain Accuracy: 0.970926\tTest Accuracy: 0.936827\n",
            "Iteration:   24/50\tTrain Loss: 0.088999\tTest Loss: 0.190502\tTrain Accuracy: 0.976669\tTest Accuracy: 0.922828\n",
            "Iteration:   25/50\tTrain Loss: 0.090299\tTest Loss: 0.220297\tTrain Accuracy: 0.973080\tTest Accuracy: 0.910266\n",
            "Iteration:   26/50\tTrain Loss: 0.084678\tTest Loss: 0.163622\tTrain Accuracy: 0.979541\tTest Accuracy: 0.935750\n",
            "Iteration:   27/50\tTrain Loss: 0.081589\tTest Loss: 0.157397\tTrain Accuracy: 0.970567\tTest Accuracy: 0.944006\n",
            "Iteration:   28/50\tTrain Loss: 0.073348\tTest Loss: 0.181270\tTrain Accuracy: 0.982771\tTest Accuracy: 0.927854\n",
            "Iteration:   29/50\tTrain Loss: 0.071212\tTest Loss: 0.194497\tTrain Accuracy: 0.980258\tTest Accuracy: 0.920675\n",
            "Iteration:   30/50\tTrain Loss: 0.061266\tTest Loss: 0.191209\tTrain Accuracy: 0.982412\tTest Accuracy: 0.922469\n",
            "Iteration:   31/50\tTrain Loss: 0.057237\tTest Loss: 0.167027\tTrain Accuracy: 0.986360\tTest Accuracy: 0.937186\n",
            "Iteration:   32/50\tTrain Loss: 0.053084\tTest Loss: 0.152495\tTrain Accuracy: 0.985642\tTest Accuracy: 0.943288\n",
            "Iteration:   33/50\tTrain Loss: 0.050837\tTest Loss: 0.151886\tTrain Accuracy: 0.979182\tTest Accuracy: 0.948313\n",
            "Iteration:   34/50\tTrain Loss: 0.048213\tTest Loss: 0.181709\tTrain Accuracy: 0.991385\tTest Accuracy: 0.928930\n",
            "Iteration:   35/50\tTrain Loss: 0.044634\tTest Loss: 0.191857\tTrain Accuracy: 0.992103\tTest Accuracy: 0.923546\n",
            "Iteration:   36/50\tTrain Loss: 0.040233\tTest Loss: 0.155169\tTrain Accuracy: 0.991027\tTest Accuracy: 0.945441\n",
            "Iteration:   37/50\tTrain Loss: 0.035872\tTest Loss: 0.157869\tTrain Accuracy: 0.993180\tTest Accuracy: 0.944365\n",
            "Iteration:   38/50\tTrain Loss: 0.032998\tTest Loss: 0.181038\tTrain Accuracy: 0.994616\tTest Accuracy: 0.930725\n",
            "Iteration:   39/50\tTrain Loss: 0.032320\tTest Loss: 0.152536\tTrain Accuracy: 0.994975\tTest Accuracy: 0.945800\n",
            "Iteration:   40/50\tTrain Loss: 0.028256\tTest Loss: 0.150208\tTrain Accuracy: 0.994616\tTest Accuracy: 0.948313\n",
            "Iteration:   41/50\tTrain Loss: 0.026170\tTest Loss: 0.179248\tTrain Accuracy: 0.996411\tTest Accuracy: 0.934314\n",
            "Iteration:   42/50\tTrain Loss: 0.025130\tTest Loss: 0.150865\tTrain Accuracy: 0.996411\tTest Accuracy: 0.949749\n",
            "Iteration:   43/50\tTrain Loss: 0.024080\tTest Loss: 0.150967\tTrain Accuracy: 0.996411\tTest Accuracy: 0.950467\n",
            "Iteration:   44/50\tTrain Loss: 0.021693\tTest Loss: 0.166446\tTrain Accuracy: 0.998205\tTest Accuracy: 0.946159\n",
            "Iteration:   45/50\tTrain Loss: 0.018832\tTest Loss: 0.157140\tTrain Accuracy: 0.998205\tTest Accuracy: 0.949390\n",
            "Iteration:   46/50\tTrain Loss: 0.017231\tTest Loss: 0.161768\tTrain Accuracy: 0.998205\tTest Accuracy: 0.946877\n",
            "Iteration:   47/50\tTrain Loss: 0.018008\tTest Loss: 0.155409\tTrain Accuracy: 0.998205\tTest Accuracy: 0.950826\n",
            "Iteration:   48/50\tTrain Loss: 0.014416\tTest Loss: 0.167014\tTrain Accuracy: 0.998564\tTest Accuracy: 0.946518\n",
            "Iteration:   49/50\tTrain Loss: 0.013392\tTest Loss: 0.174460\tTrain Accuracy: 0.998564\tTest Accuracy: 0.945083\n",
            "Iteration:   50/50\tTrain Loss: 0.012079\tTest Loss: 0.173818\tTrain Accuracy: 0.998564\tTest Accuracy: 0.946518\n"
          ]
        }
      ],
      "source": [
        "train_losses, test_losses, train_accuracies, test_accuracies = train(n_epochs=n_epochs)\n"
      ]
    },
    {
      "cell_type": "code",
      "execution_count": 17,
      "metadata": {
        "colab": {
          "base_uri": "https://localhost:8080/",
          "height": 282
        },
        "id": "exZOPfdBw0OK",
        "outputId": "a89f9e63-75f2-4e0c-985b-d58db187c283"
      },
      "outputs": [
        {
          "data": {
            "text/plain": [
              "<matplotlib.legend.Legend at 0x1a6e9ee2c50>"
            ]
          },
          "execution_count": 17,
          "metadata": {},
          "output_type": "execute_result"
        },
        {
          "data": {
            "image/png": "[encoded data removed]",
            "text/plain": [
              "<Figure size 432x288 with 1 Axes>"
            ]
          },
          "metadata": {
            "needs_background": "light"
          },
          "output_type": "display_data"
        }
      ],
      "source": [
        "plt.plot(train_losses, label=\"Train Loss\")\n",
        "plt.plot(test_losses, label=\"Test loss\")\n",
        "plt.legend()\n"
      ]
    },
    {
      "cell_type": "code",
      "execution_count": 18,
      "metadata": {},
      "outputs": [
        {
          "data": {
            "text/plain": [
              "<matplotlib.legend.Legend at 0x1a6e9dafc40>"
            ]
          },
          "execution_count": 18,
          "metadata": {},
          "output_type": "execute_result"
        },
        {
          "data": {
            "image/png": "[encoded data removed]",
            "text/plain": [
              "<Figure size 432x288 with 1 Axes>"
            ]
          },
          "metadata": {
            "needs_background": "light"
          },
          "output_type": "display_data"
        }
      ],
      "source": [
        "plt.plot(train_accuracies, label=\"Train Accuracy\")\n",
        "plt.plot(test_accuracies, label=\"Test Accuracy\")\n",
        "plt.legend()\n"
      ]
    }
  ],
  "metadata": {
    "colab": {
      "name": "RNN sentiment ananlysis.ipynb",
      "provenance": []
    },
    "kernelspec": {
      "display_name": "Python 3.10.4 ('venv': venv)",
      "language": "python",
      "name": "python3"
    },
    "language_info": {
      "codemirror_mode": {
        "name": "ipython",
        "version": 3
      },
      "file_extension": ".py",
      "mimetype": "text/x-python",
      "name": "python",
      "nbconvert_exporter": "python",
      "pygments_lexer": "ipython3",
      "version": "3.10.4"
    },
    "orig_nbformat": 4,
    "vscode": {
      "interpreter": {
        "hash": "862aaaa3bfdfe0cb3b02e12d68ad12f84f678ba56b93b757d8f1a9844b9ba170"
      }
    }
  },
  "nbformat": 4,
  "nbformat_minor": 0
}
